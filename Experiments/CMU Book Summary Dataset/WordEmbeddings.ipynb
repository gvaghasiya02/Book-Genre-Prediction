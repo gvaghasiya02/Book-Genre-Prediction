{
 "cells": [
  {
   "cell_type": "code",
   "execution_count": null,
   "metadata": {
    "id": "Y9DRoZUvjdUH"
   },
   "outputs": [],
   "source": [
    "import pandas as pd"
   ]
  },
  {
   "cell_type": "code",
   "execution_count": null,
   "metadata": {
    "id": "AQ30ep7fkD7J"
   },
   "outputs": [],
   "source": [
    "df=pd.read_csv('/content/augmentedDataWithoutStemming.csv')"
   ]
  },
  {
   "cell_type": "code",
   "execution_count": null,
   "metadata": {
    "colab": {
     "base_uri": "https://localhost:8080/",
     "height": 424
    },
    "id": "oZ1IeTgkkUCZ",
    "outputId": "09c950e7-ae50-4be9-8b4d-af1a7726f2e4"
   },
   "outputs": [
    {
     "data": {
      "text/html": [
       "\n",
       "  <div id=\"df-acfc98cd-2fb6-4a42-ad2b-3d6e1f5ae67e\">\n",
       "    <div class=\"colab-df-container\">\n",
       "      <div>\n",
       "<style scoped>\n",
       "    .dataframe tbody tr th:only-of-type {\n",
       "        vertical-align: middle;\n",
       "    }\n",
       "\n",
       "    .dataframe tbody tr th {\n",
       "        vertical-align: top;\n",
       "    }\n",
       "\n",
       "    .dataframe thead th {\n",
       "        text-align: right;\n",
       "    }\n",
       "</style>\n",
       "<table border=\"1\" class=\"dataframe\">\n",
       "  <thead>\n",
       "    <tr style=\"text-align: right;\">\n",
       "      <th></th>\n",
       "      <th>Unnamed: 0</th>\n",
       "      <th>Unnamed: 0.1</th>\n",
       "      <th>Name</th>\n",
       "      <th>Genres</th>\n",
       "      <th>Summary</th>\n",
       "    </tr>\n",
       "  </thead>\n",
       "  <tbody>\n",
       "    <tr>\n",
       "      <th>0</th>\n",
       "      <td>0</td>\n",
       "      <td>1</td>\n",
       "      <td>A Clockwork Orange</td>\n",
       "      <td>Science Fiction</td>\n",
       "      <td>alex teenager living near future england lead...</td>\n",
       "    </tr>\n",
       "    <tr>\n",
       "      <th>1</th>\n",
       "      <td>1</td>\n",
       "      <td>6</td>\n",
       "      <td>A Wizard of Earthsea</td>\n",
       "      <td>Children's literature</td>\n",
       "      <td>ged young boy gont one larger islands north a...</td>\n",
       "    </tr>\n",
       "    <tr>\n",
       "      <th>2</th>\n",
       "      <td>2</td>\n",
       "      <td>8</td>\n",
       "      <td>Blade Runner 3: Replicant Night</td>\n",
       "      <td>Science Fiction</td>\n",
       "      <td>living mars deckard acting consultant movie c...</td>\n",
       "    </tr>\n",
       "    <tr>\n",
       "      <th>3</th>\n",
       "      <td>3</td>\n",
       "      <td>9</td>\n",
       "      <td>Blade Runner 2: The Edge of Human</td>\n",
       "      <td>Science Fiction</td>\n",
       "      <td>beginning several months events blade runner ...</td>\n",
       "    </tr>\n",
       "    <tr>\n",
       "      <th>4</th>\n",
       "      <td>4</td>\n",
       "      <td>21</td>\n",
       "      <td>Children of Dune</td>\n",
       "      <td>Science Fiction</td>\n",
       "      <td>nine years emperor paul muad dib walked deser...</td>\n",
       "    </tr>\n",
       "    <tr>\n",
       "      <th>...</th>\n",
       "      <td>...</td>\n",
       "      <td>...</td>\n",
       "      <td>...</td>\n",
       "      <td>...</td>\n",
       "      <td>...</td>\n",
       "    </tr>\n",
       "    <tr>\n",
       "      <th>21864</th>\n",
       "      <td>21864</td>\n",
       "      <td>16414</td>\n",
       "      <td>Carver</td>\n",
       "      <td>Thriller</td>\n",
       "      <td>central character samuel carver ex assassin s...</td>\n",
       "    </tr>\n",
       "    <tr>\n",
       "      <th>21865</th>\n",
       "      <td>21865</td>\n",
       "      <td>16442</td>\n",
       "      <td>Rabies</td>\n",
       "      <td>Thriller</td>\n",
       "      <td>seth betimes 1980s height insensate war novel...</td>\n",
       "    </tr>\n",
       "    <tr>\n",
       "      <th>21866</th>\n",
       "      <td>21866</td>\n",
       "      <td>16542</td>\n",
       "      <td>The Bourne Imperative</td>\n",
       "      <td>Thriller</td>\n",
       "      <td>detailed background main character see jason ...</td>\n",
       "    </tr>\n",
       "    <tr>\n",
       "      <th>21867</th>\n",
       "      <td>21867</td>\n",
       "      <td>16551</td>\n",
       "      <td>Remote Control</td>\n",
       "      <td>Thriller</td>\n",
       "      <td>series follows character nick stone ex milita...</td>\n",
       "    </tr>\n",
       "    <tr>\n",
       "      <th>21868</th>\n",
       "      <td>21868</td>\n",
       "      <td>16555</td>\n",
       "      <td>Transfer of Power</td>\n",
       "      <td>Thriller</td>\n",
       "      <td>reader first base meets rapp covert operation...</td>\n",
       "    </tr>\n",
       "  </tbody>\n",
       "</table>\n",
       "<p>21869 rows × 5 columns</p>\n",
       "</div>\n",
       "      <button class=\"colab-df-convert\" onclick=\"convertToInteractive('df-acfc98cd-2fb6-4a42-ad2b-3d6e1f5ae67e')\"\n",
       "              title=\"Convert this dataframe to an interactive table.\"\n",
       "              style=\"display:none;\">\n",
       "        \n",
       "  <svg xmlns=\"http://www.w3.org/2000/svg\" height=\"24px\"viewBox=\"0 0 24 24\"\n",
       "       width=\"24px\">\n",
       "    <path d=\"M0 0h24v24H0V0z\" fill=\"none\"/>\n",
       "    <path d=\"M18.56 5.44l.94 2.06.94-2.06 2.06-.94-2.06-.94-.94-2.06-.94 2.06-2.06.94zm-11 1L8.5 8.5l.94-2.06 2.06-.94-2.06-.94L8.5 2.5l-.94 2.06-2.06.94zm10 10l.94 2.06.94-2.06 2.06-.94-2.06-.94-.94-2.06-.94 2.06-2.06.94z\"/><path d=\"M17.41 7.96l-1.37-1.37c-.4-.4-.92-.59-1.43-.59-.52 0-1.04.2-1.43.59L10.3 9.45l-7.72 7.72c-.78.78-.78 2.05 0 2.83L4 21.41c.39.39.9.59 1.41.59.51 0 1.02-.2 1.41-.59l7.78-7.78 2.81-2.81c.8-.78.8-2.07 0-2.86zM5.41 20L4 18.59l7.72-7.72 1.47 1.35L5.41 20z\"/>\n",
       "  </svg>\n",
       "      </button>\n",
       "      \n",
       "  <style>\n",
       "    .colab-df-container {\n",
       "      display:flex;\n",
       "      flex-wrap:wrap;\n",
       "      gap: 12px;\n",
       "    }\n",
       "\n",
       "    .colab-df-convert {\n",
       "      background-color: #E8F0FE;\n",
       "      border: none;\n",
       "      border-radius: 50%;\n",
       "      cursor: pointer;\n",
       "      display: none;\n",
       "      fill: #1967D2;\n",
       "      height: 32px;\n",
       "      padding: 0 0 0 0;\n",
       "      width: 32px;\n",
       "    }\n",
       "\n",
       "    .colab-df-convert:hover {\n",
       "      background-color: #E2EBFA;\n",
       "      box-shadow: 0px 1px 2px rgba(60, 64, 67, 0.3), 0px 1px 3px 1px rgba(60, 64, 67, 0.15);\n",
       "      fill: #174EA6;\n",
       "    }\n",
       "\n",
       "    [theme=dark] .colab-df-convert {\n",
       "      background-color: #3B4455;\n",
       "      fill: #D2E3FC;\n",
       "    }\n",
       "\n",
       "    [theme=dark] .colab-df-convert:hover {\n",
       "      background-color: #434B5C;\n",
       "      box-shadow: 0px 1px 3px 1px rgba(0, 0, 0, 0.15);\n",
       "      filter: drop-shadow(0px 1px 2px rgba(0, 0, 0, 0.3));\n",
       "      fill: #FFFFFF;\n",
       "    }\n",
       "  </style>\n",
       "\n",
       "      <script>\n",
       "        const buttonEl =\n",
       "          document.querySelector('#df-acfc98cd-2fb6-4a42-ad2b-3d6e1f5ae67e button.colab-df-convert');\n",
       "        buttonEl.style.display =\n",
       "          google.colab.kernel.accessAllowed ? 'block' : 'none';\n",
       "\n",
       "        async function convertToInteractive(key) {\n",
       "          const element = document.querySelector('#df-acfc98cd-2fb6-4a42-ad2b-3d6e1f5ae67e');\n",
       "          const dataTable =\n",
       "            await google.colab.kernel.invokeFunction('convertToInteractive',\n",
       "                                                     [key], {});\n",
       "          if (!dataTable) return;\n",
       "\n",
       "          const docLinkHtml = 'Like what you see? Visit the ' +\n",
       "            '<a target=\"_blank\" href=https://colab.research.google.com/notebooks/data_table.ipynb>data table notebook</a>'\n",
       "            + ' to learn more about interactive tables.';\n",
       "          element.innerHTML = '';\n",
       "          dataTable['output_type'] = 'display_data';\n",
       "          await google.colab.output.renderOutput(dataTable, element);\n",
       "          const docLink = document.createElement('div');\n",
       "          docLink.innerHTML = docLinkHtml;\n",
       "          element.appendChild(docLink);\n",
       "        }\n",
       "      </script>\n",
       "    </div>\n",
       "  </div>\n",
       "  "
      ],
      "text/plain": [
       "       Unnamed: 0  Unnamed: 0.1                               Name  \\\n",
       "0               0             1                 A Clockwork Orange   \n",
       "1               1             6               A Wizard of Earthsea   \n",
       "2               2             8    Blade Runner 3: Replicant Night   \n",
       "3               3             9  Blade Runner 2: The Edge of Human   \n",
       "4               4            21                   Children of Dune   \n",
       "...           ...           ...                                ...   \n",
       "21864       21864         16414                             Carver   \n",
       "21865       21865         16442                             Rabies   \n",
       "21866       21866         16542              The Bourne Imperative   \n",
       "21867       21867         16551                     Remote Control   \n",
       "21868       21868         16555                  Transfer of Power   \n",
       "\n",
       "                      Genres  \\\n",
       "0            Science Fiction   \n",
       "1      Children's literature   \n",
       "2            Science Fiction   \n",
       "3            Science Fiction   \n",
       "4            Science Fiction   \n",
       "...                      ...   \n",
       "21864               Thriller   \n",
       "21865               Thriller   \n",
       "21866               Thriller   \n",
       "21867               Thriller   \n",
       "21868               Thriller   \n",
       "\n",
       "                                                 Summary  \n",
       "0       alex teenager living near future england lead...  \n",
       "1       ged young boy gont one larger islands north a...  \n",
       "2       living mars deckard acting consultant movie c...  \n",
       "3       beginning several months events blade runner ...  \n",
       "4       nine years emperor paul muad dib walked deser...  \n",
       "...                                                  ...  \n",
       "21864   central character samuel carver ex assassin s...  \n",
       "21865   seth betimes 1980s height insensate war novel...  \n",
       "21866   detailed background main character see jason ...  \n",
       "21867   series follows character nick stone ex milita...  \n",
       "21868   reader first base meets rapp covert operation...  \n",
       "\n",
       "[21869 rows x 5 columns]"
      ]
     },
     "execution_count": 36,
     "metadata": {},
     "output_type": "execute_result"
    }
   ],
   "source": [
    "df"
   ]
  },
  {
   "cell_type": "code",
   "execution_count": null,
   "metadata": {
    "colab": {
     "base_uri": "https://localhost:8080/"
    },
    "id": "BL5oRUrMkVkA",
    "outputId": "d355cbdf-caf7-4734-b80c-f55d459e7f37"
   },
   "outputs": [
    {
     "data": {
      "text/plain": [
       "((21869,), (21869,))"
      ]
     },
     "execution_count": 37,
     "metadata": {},
     "output_type": "execute_result"
    }
   ],
   "source": [
    "X=df.Summary\n",
    "Y=df.Genres.values\n",
    "X.shape, Y.shape"
   ]
  },
  {
   "cell_type": "code",
   "execution_count": null,
   "metadata": {
    "id": "ALJFRCWTkZ1x"
   },
   "outputs": [],
   "source": [
    "from sklearn.model_selection import train_test_split\n",
    "from sklearn.metrics import accuracy_score, confusion_matrix\n",
    "from sklearn.pipeline import Pipeline\n",
    "from sklearn.feature_extraction.text import CountVectorizer, TfidfVectorizer, HashingVectorizer\n",
    "from gensim.models import word2vec\n",
    "from sklearn.feature_extraction.text import TfidfTransformer\n",
    "from sklearn.metrics import classification_report"
   ]
  },
  {
   "cell_type": "code",
   "execution_count": null,
   "metadata": {
    "id": "x7D2SIlTkriC"
   },
   "outputs": [],
   "source": [
    "X_train, X_test, Y_train, Y_test = train_test_split(X, Y, test_size=0.3, random_state = 42)"
   ]
  },
  {
   "cell_type": "markdown",
   "metadata": {
    "id": "prl9Wy6CkzUq"
   },
   "source": [
    "# SGD Classfier:"
   ]
  },
  {
   "cell_type": "markdown",
   "metadata": {
    "id": "HgmF28oFlFPJ"
   },
   "source": [
    "## Count Vectorizer"
   ]
  },
  {
   "cell_type": "code",
   "execution_count": null,
   "metadata": {
    "id": "UVVEy5UVkyjv"
   },
   "outputs": [],
   "source": [
    "from sklearn.linear_model import SGDClassifier\n",
    "\n",
    "sgdcount = Pipeline([('vect', CountVectorizer(ngram_range=(1,3))),\n",
    "                ('tfidf', TfidfTransformer()),\n",
    "                ('clf', SGDClassifier(loss='hinge', penalty='l2',alpha=1e-3, random_state=42, max_iter=5, tol=None)),\n",
    "               ])"
   ]
  },
  {
   "cell_type": "code",
   "execution_count": null,
   "metadata": {
    "colab": {
     "base_uri": "https://localhost:8080/"
    },
    "id": "6LlOCOpBk7IS",
    "outputId": "316079a1-a4a9-4a7c-d4bb-6f10ec81dc5c"
   },
   "outputs": [
    {
     "data": {
      "text/plain": [
       "Pipeline(steps=[('vect', CountVectorizer(ngram_range=(1, 3))),\n",
       "                ('tfidf', TfidfTransformer()),\n",
       "                ('clf',\n",
       "                 SGDClassifier(alpha=0.001, max_iter=5, random_state=42,\n",
       "                               tol=None))])"
      ]
     },
     "execution_count": 41,
     "metadata": {},
     "output_type": "execute_result"
    }
   ],
   "source": [
    "sgdcount.fit(X_train, Y_train)"
   ]
  },
  {
   "cell_type": "code",
   "execution_count": null,
   "metadata": {
    "id": "fZXVUPvOk_7Z"
   },
   "outputs": [],
   "source": [
    "Y_pred = sgdcount.predict(X_test)"
   ]
  },
  {
   "cell_type": "code",
   "execution_count": null,
   "metadata": {
    "colab": {
     "base_uri": "https://localhost:8080/"
    },
    "id": "Fxorz5pRlH0Z",
    "outputId": "c3dfd0e4-6443-48cc-958e-d8609c4fa048"
   },
   "outputs": [
    {
     "name": "stdout",
     "output_type": "stream",
     "text": [
      "accuracy 0.8425544886450236\n",
      "                        precision    recall  f1-score   support\n",
      "\n",
      "       Adventure novel       0.95      1.00      0.97       211\n",
      "             Biography       0.89      1.00      0.94       112\n",
      " Children's literature       0.69      0.53      0.60       330\n",
      "               Fantasy       0.84      0.84      0.84       361\n",
      "                Horror       0.92      1.00      0.96       299\n",
      "      Literary fiction       0.98      1.00      0.99        85\n",
      "                Memoir       0.95      1.00      0.97       145\n",
      "               Mystery       0.79      0.87      0.83       452\n",
      "           Non-fiction       0.90      1.00      0.95       466\n",
      "                 Novel       0.58      0.09      0.16       296\n",
      "            Philosophy       0.91      0.99      0.95        74\n",
      "          Picture book       0.96      0.97      0.97       162\n",
      "         Romance novel       0.89      1.00      0.94       213\n",
      "       Science Fiction       0.77      0.75      0.76       283\n",
      "           Short story       0.96      1.00      0.98       107\n",
      "           Spy fiction       0.91      0.99      0.95       312\n",
      "     Sword and sorcery       0.91      1.00      0.95        63\n",
      "       Techno-thriller       0.94      1.00      0.97       131\n",
      "              Thriller       0.86      0.78      0.82       343\n",
      "         Urban fantasy       0.93      1.00      0.96        76\n",
      "Young adult literature       0.82      0.74      0.78       191\n",
      "         autobiography       0.84      1.00      0.91       443\n",
      "                comedy       0.91      1.00      0.95       473\n",
      "               fiction       0.64      0.51      0.57       512\n",
      "            historical       0.72      0.90      0.80       421\n",
      "\n",
      "              accuracy                           0.84      6561\n",
      "             macro avg       0.86      0.88      0.86      6561\n",
      "          weighted avg       0.83      0.84      0.82      6561\n",
      "\n"
     ]
    }
   ],
   "source": [
    "print('accuracy %s' % accuracy_score(Y_pred, Y_test))\n",
    "print(classification_report(Y_test, Y_pred))"
   ]
  },
  {
   "cell_type": "code",
   "execution_count": null,
   "metadata": {
    "colab": {
     "base_uri": "https://localhost:8080/"
    },
    "id": "3GuX7jmSlP4P",
    "outputId": "65b460cc-00c1-4308-891f-a469d1e5ed4c"
   },
   "outputs": [
    {
     "data": {
      "text/plain": [
       "0.8425544886450236"
      ]
     },
     "execution_count": 44,
     "metadata": {},
     "output_type": "execute_result"
    }
   ],
   "source": [
    "SGDcount = accuracy_score(Y_pred, Y_test)\n",
    "SGDcount"
   ]
  },
  {
   "cell_type": "markdown",
   "metadata": {
    "id": "uK9C_o5cljr7"
   },
   "source": [
    "## TFIDF Vectorizer"
   ]
  },
  {
   "cell_type": "code",
   "execution_count": null,
   "metadata": {
    "id": "tJmdQqbpli9c"
   },
   "outputs": [],
   "source": [
    "from sklearn.linear_model import SGDClassifier\n",
    "\n",
    "sgdtfidf = Pipeline([('vect', TfidfVectorizer(norm = False, smooth_idf = False, ngram_range=(1,3))),\n",
    "                ('tfidf', TfidfTransformer()),\n",
    "                ('clf', SGDClassifier(loss='hinge', penalty='l2',alpha=1e-3, random_state=42, max_iter=5, tol=None)),\n",
    "               ])"
   ]
  },
  {
   "cell_type": "code",
   "execution_count": null,
   "metadata": {
    "colab": {
     "base_uri": "https://localhost:8080/"
    },
    "id": "Cu-vVaXjl7ya",
    "outputId": "ebc2565c-9ed7-40b2-9cdf-6d6119dcc444"
   },
   "outputs": [
    {
     "data": {
      "text/plain": [
       "Pipeline(steps=[('vect',\n",
       "                 TfidfVectorizer(ngram_range=(1, 3), norm=False,\n",
       "                                 smooth_idf=False)),\n",
       "                ('tfidf', TfidfTransformer()),\n",
       "                ('clf',\n",
       "                 SGDClassifier(alpha=0.001, max_iter=5, random_state=42,\n",
       "                               tol=None))])"
      ]
     },
     "execution_count": 46,
     "metadata": {},
     "output_type": "execute_result"
    }
   ],
   "source": [
    "sgdtfidf.fit(X_train, Y_train)"
   ]
  },
  {
   "cell_type": "code",
   "execution_count": null,
   "metadata": {
    "id": "eDnaFUljmAHW"
   },
   "outputs": [],
   "source": [
    "Y_pred = sgdtfidf.predict(X_test)"
   ]
  },
  {
   "cell_type": "code",
   "execution_count": null,
   "metadata": {
    "colab": {
     "base_uri": "https://localhost:8080/"
    },
    "id": "KJ6YsZyImQYt",
    "outputId": "f841a84a-3d8f-4f0f-9938-7a4fedbcf1b9"
   },
   "outputs": [
    {
     "name": "stdout",
     "output_type": "stream",
     "text": [
      "accuracy 0.842097241274196\n",
      "                        precision    recall  f1-score   support\n",
      "\n",
      "       Adventure novel       0.93      1.00      0.96       211\n",
      "             Biography       0.82      1.00      0.90       112\n",
      " Children's literature       0.74      0.49      0.59       330\n",
      "               Fantasy       0.84      0.87      0.85       361\n",
      "                Horror       0.90      1.00      0.95       299\n",
      "      Literary fiction       0.96      1.00      0.98        85\n",
      "                Memoir       0.94      1.00      0.97       145\n",
      "               Mystery       0.81      0.89      0.85       452\n",
      "           Non-fiction       0.89      1.00      0.94       466\n",
      "                 Novel       0.62      0.05      0.09       296\n",
      "            Philosophy       0.89      1.00      0.94        74\n",
      "          Picture book       0.98      0.98      0.98       162\n",
      "         Romance novel       0.92      1.00      0.96       213\n",
      "       Science Fiction       0.85      0.72      0.78       283\n",
      "           Short story       0.90      1.00      0.95       107\n",
      "           Spy fiction       0.92      1.00      0.96       312\n",
      "     Sword and sorcery       0.93      1.00      0.96        63\n",
      "       Techno-thriller       0.92      1.00      0.96       131\n",
      "              Thriller       0.86      0.77      0.81       343\n",
      "         Urban fantasy       0.93      1.00      0.96        76\n",
      "Young adult literature       0.85      0.76      0.80       191\n",
      "         autobiography       0.86      1.00      0.92       443\n",
      "                comedy       0.89      1.00      0.94       473\n",
      "               fiction       0.60      0.54      0.57       512\n",
      "            historical       0.70      0.89      0.78       421\n",
      "\n",
      "              accuracy                           0.84      6561\n",
      "             macro avg       0.86      0.88      0.85      6561\n",
      "          weighted avg       0.83      0.84      0.82      6561\n",
      "\n"
     ]
    }
   ],
   "source": [
    "print('accuracy %s' % accuracy_score(Y_pred, Y_test))\n",
    "print(classification_report(Y_test, Y_pred))"
   ]
  },
  {
   "cell_type": "code",
   "execution_count": null,
   "metadata": {
    "colab": {
     "base_uri": "https://localhost:8080/"
    },
    "id": "OLehDD-JmVwY",
    "outputId": "ecd80db7-3db0-40e0-debb-71cebac63759"
   },
   "outputs": [
    {
     "data": {
      "text/plain": [
       "0.842097241274196"
      ]
     },
     "execution_count": 49,
     "metadata": {},
     "output_type": "execute_result"
    }
   ],
   "source": [
    "SGDtfidf = accuracy_score(Y_pred, Y_test)\n",
    "SGDtfidf"
   ]
  },
  {
   "cell_type": "code",
   "execution_count": null,
   "metadata": {
    "id": "76t-PdHQmgsm"
   },
   "outputs": [],
   "source": [
    "# import pickle\n",
    "# with open('sgdtfidf.pickle', 'wb') as f:\n",
    "#     pickle.dump(sgdtfidf, f)"
   ]
  },
  {
   "cell_type": "markdown",
   "metadata": {
    "id": "glou67G8mgFQ"
   },
   "source": [
    "## Hash Vectorizer"
   ]
  },
  {
   "cell_type": "code",
   "execution_count": null,
   "metadata": {
    "id": "jXOnX57pmdzZ"
   },
   "outputs": [],
   "source": [
    "from sklearn.linear_model import SGDClassifier\n",
    "\n",
    "sgdhash = Pipeline([('vect', HashingVectorizer(norm = None, ngram_range=(1,3))),\n",
    "                ('tfidf', TfidfTransformer()),\n",
    "                ('clf', SGDClassifier(loss='hinge', penalty='l2',alpha=1e-3, random_state=42, max_iter=5, tol=None)),\n",
    "               ])"
   ]
  },
  {
   "cell_type": "code",
   "execution_count": null,
   "metadata": {
    "colab": {
     "base_uri": "https://localhost:8080/"
    },
    "id": "K5C3JAwYpbKw",
    "outputId": "feec6c23-ca8d-4b62-852a-f60a42f7b63f"
   },
   "outputs": [
    {
     "data": {
      "text/plain": [
       "Pipeline(steps=[('vect', HashingVectorizer(ngram_range=(1, 3), norm=None)),\n",
       "                ('tfidf', TfidfTransformer()),\n",
       "                ('clf',\n",
       "                 SGDClassifier(alpha=0.001, max_iter=5, random_state=42,\n",
       "                               tol=None))])"
      ]
     },
     "execution_count": 52,
     "metadata": {},
     "output_type": "execute_result"
    }
   ],
   "source": [
    "sgdhash.fit(X_train, Y_train)"
   ]
  },
  {
   "cell_type": "code",
   "execution_count": null,
   "metadata": {
    "id": "c-G6OeExpir9"
   },
   "outputs": [],
   "source": [
    "Y_pred = sgdhash.predict(X_test)"
   ]
  },
  {
   "cell_type": "code",
   "execution_count": null,
   "metadata": {
    "colab": {
     "base_uri": "https://localhost:8080/"
    },
    "id": "uCHDJnmrpltI",
    "outputId": "66ea8745-3c80-4605-9356-5ee5b2e76a88"
   },
   "outputs": [
    {
     "name": "stdout",
     "output_type": "stream",
     "text": [
      "accuracy 0.8347812833409541\n",
      "                        precision    recall  f1-score   support\n",
      "\n",
      "       Adventure novel       0.95      0.99      0.97       211\n",
      "             Biography       0.90      1.00      0.95       112\n",
      " Children's literature       0.68      0.51      0.59       330\n",
      "               Fantasy       0.80      0.84      0.82       361\n",
      "                Horror       0.91      0.99      0.95       299\n",
      "      Literary fiction       0.98      1.00      0.99        85\n",
      "                Memoir       0.97      1.00      0.98       145\n",
      "               Mystery       0.76      0.87      0.81       452\n",
      "           Non-fiction       0.85      1.00      0.92       466\n",
      "                 Novel       0.51      0.08      0.13       296\n",
      "            Philosophy       0.91      0.96      0.93        74\n",
      "          Picture book       0.92      0.97      0.95       162\n",
      "         Romance novel       0.89      1.00      0.94       213\n",
      "       Science Fiction       0.78      0.73      0.75       283\n",
      "           Short story       0.96      1.00      0.98       107\n",
      "           Spy fiction       0.91      0.99      0.95       312\n",
      "     Sword and sorcery       0.91      1.00      0.95        63\n",
      "       Techno-thriller       0.92      1.00      0.96       131\n",
      "              Thriller       0.86      0.77      0.81       343\n",
      "         Urban fantasy       0.96      1.00      0.98        76\n",
      "Young adult literature       0.80      0.73      0.77       191\n",
      "         autobiography       0.87      1.00      0.93       443\n",
      "                comedy       0.90      1.00      0.95       473\n",
      "               fiction       0.61      0.49      0.55       512\n",
      "            historical       0.74      0.87      0.80       421\n",
      "\n",
      "              accuracy                           0.83      6561\n",
      "             macro avg       0.85      0.87      0.85      6561\n",
      "          weighted avg       0.82      0.83      0.81      6561\n",
      "\n"
     ]
    }
   ],
   "source": [
    "print('accuracy %s' % accuracy_score(Y_pred, Y_test))\n",
    "print(classification_report(Y_test, Y_pred))"
   ]
  },
  {
   "cell_type": "code",
   "execution_count": null,
   "metadata": {
    "colab": {
     "base_uri": "https://localhost:8080/"
    },
    "id": "9F-7IQXvpn8q",
    "outputId": "9c4966f2-b21e-4838-84e4-79e42e0228c6"
   },
   "outputs": [
    {
     "data": {
      "text/plain": [
       "0.8347812833409541"
      ]
     },
     "execution_count": 55,
     "metadata": {},
     "output_type": "execute_result"
    }
   ],
   "source": [
    "SGDhash = accuracy_score(Y_pred, Y_test)\n",
    "SGDhash"
   ]
  },
  {
   "cell_type": "code",
   "execution_count": null,
   "metadata": {
    "id": "PGif5_OPqCDQ"
   },
   "outputs": [],
   "source": [
    "# import pickle\n",
    "# with open('sgdhash.pickle', 'wb') as f:\n",
    "#     pickle.dump(sgdhash, f)"
   ]
  },
  {
   "cell_type": "markdown",
   "metadata": {
    "id": "E0-82UaQtrGv"
   },
   "source": [
    "# Linear SVC Classifier:"
   ]
  },
  {
   "cell_type": "markdown",
   "metadata": {
    "id": "hN3YTCseuxlw"
   },
   "source": [
    "## Count Vectorizer:"
   ]
  },
  {
   "cell_type": "code",
   "execution_count": null,
   "metadata": {
    "id": "ek22vbvIttAj"
   },
   "outputs": [],
   "source": [
    "from sklearn.svm import LinearSVC\n",
    "\n",
    "lsvccount = Pipeline([('vect', CountVectorizer(ngram_range=(1,2))),\n",
    "                ('tfidf', TfidfTransformer()),\n",
    "                ('clf', LinearSVC(random_state=0, tol=1e-5)),\n",
    "               ])"
   ]
  },
  {
   "cell_type": "code",
   "execution_count": null,
   "metadata": {
    "colab": {
     "base_uri": "https://localhost:8080/"
    },
    "id": "Pt7JceZvt8F9",
    "outputId": "41f4beaa-fe51-4c4b-b944-d30f030dd791"
   },
   "outputs": [
    {
     "data": {
      "text/plain": [
       "Pipeline(steps=[('vect', CountVectorizer(ngram_range=(1, 2))),\n",
       "                ('tfidf', TfidfTransformer()),\n",
       "                ('clf', LinearSVC(random_state=0, tol=1e-05))])"
      ]
     },
     "execution_count": 58,
     "metadata": {},
     "output_type": "execute_result"
    }
   ],
   "source": [
    "lsvccount.fit(X_train, Y_train)"
   ]
  },
  {
   "cell_type": "code",
   "execution_count": null,
   "metadata": {
    "id": "34dzDHOsuPKM"
   },
   "outputs": [],
   "source": [
    "Y_pred = lsvccount.predict(X_test)"
   ]
  },
  {
   "cell_type": "code",
   "execution_count": null,
   "metadata": {
    "colab": {
     "base_uri": "https://localhost:8080/"
    },
    "id": "FwSVf9dyuSoH",
    "outputId": "7deb1352-22ef-4b98-d1e2-c96673acd485"
   },
   "outputs": [
    {
     "name": "stdout",
     "output_type": "stream",
     "text": [
      "accuracy 0.8745618046029568\n",
      "                        precision    recall  f1-score   support\n",
      "\n",
      "       Adventure novel       0.98      1.00      0.99       211\n",
      "             Biography       0.97      1.00      0.99       112\n",
      " Children's literature       0.68      0.66      0.67       330\n",
      "               Fantasy       0.86      0.90      0.88       361\n",
      "                Horror       0.99      1.00      0.99       299\n",
      "      Literary fiction       0.99      1.00      0.99        85\n",
      "                Memoir       0.99      1.00      0.99       145\n",
      "               Mystery       0.87      0.90      0.88       452\n",
      "           Non-fiction       0.96      1.00      0.98       466\n",
      "                 Novel       0.48      0.21      0.30       296\n",
      "            Philosophy       0.97      1.00      0.99        74\n",
      "          Picture book       0.99      0.99      0.99       162\n",
      "         Romance novel       0.99      1.00      0.99       213\n",
      "       Science Fiction       0.83      0.77      0.80       283\n",
      "           Short story       0.98      1.00      0.99       107\n",
      "           Spy fiction       0.99      1.00      1.00       312\n",
      "     Sword and sorcery       0.95      1.00      0.98        63\n",
      "       Techno-thriller       0.99      1.00      1.00       131\n",
      "              Thriller       0.86      0.81      0.83       343\n",
      "         Urban fantasy       1.00      1.00      1.00        76\n",
      "Young adult literature       0.83      0.77      0.80       191\n",
      "         autobiography       0.98      1.00      0.99       443\n",
      "                comedy       0.98      1.00      0.99       473\n",
      "               fiction       0.59      0.64      0.62       512\n",
      "            historical       0.76      0.91      0.83       421\n",
      "\n",
      "              accuracy                           0.87      6561\n",
      "             macro avg       0.90      0.90      0.90      6561\n",
      "          weighted avg       0.87      0.87      0.87      6561\n",
      "\n"
     ]
    }
   ],
   "source": [
    "print('accuracy %s' % accuracy_score(Y_pred, Y_test))\n",
    "print(classification_report(Y_test, Y_pred))"
   ]
  },
  {
   "cell_type": "code",
   "execution_count": null,
   "metadata": {
    "colab": {
     "base_uri": "https://localhost:8080/"
    },
    "id": "966bxq3XuVEM",
    "outputId": "d19febf5-cd8e-4b80-937d-34cdf07ed51e"
   },
   "outputs": [
    {
     "data": {
      "text/plain": [
       "0.8745618046029568"
      ]
     },
     "execution_count": 61,
     "metadata": {},
     "output_type": "execute_result"
    }
   ],
   "source": [
    "LSVCcount = accuracy_score(Y_pred, Y_test)\n",
    "LSVCcount"
   ]
  },
  {
   "cell_type": "markdown",
   "metadata": {
    "id": "5uUN7AKPu1Ky"
   },
   "source": [
    "## TFIDF Vectorizer:"
   ]
  },
  {
   "cell_type": "code",
   "execution_count": null,
   "metadata": {
    "id": "W9hN7DsmuuZy"
   },
   "outputs": [],
   "source": [
    "from sklearn.svm import LinearSVC\n",
    "\n",
    "lsvctfidf = Pipeline([('vect', TfidfVectorizer(norm = False, smooth_idf = False, ngram_range=(1,2))),\n",
    "                ('tfidf', TfidfTransformer()),\n",
    "                ('clf', LinearSVC(random_state=0, tol=1e-5)),\n",
    "               ])"
   ]
  },
  {
   "cell_type": "code",
   "execution_count": null,
   "metadata": {
    "colab": {
     "base_uri": "https://localhost:8080/"
    },
    "id": "2brQNMcXvElz",
    "outputId": "294a6c88-167a-4219-e64a-a983b3f59001"
   },
   "outputs": [
    {
     "data": {
      "text/plain": [
       "Pipeline(steps=[('vect',\n",
       "                 TfidfVectorizer(ngram_range=(1, 2), norm=False,\n",
       "                                 smooth_idf=False)),\n",
       "                ('tfidf', TfidfTransformer()),\n",
       "                ('clf', LinearSVC(random_state=0, tol=1e-05))])"
      ]
     },
     "execution_count": 63,
     "metadata": {},
     "output_type": "execute_result"
    }
   ],
   "source": [
    "lsvctfidf.fit(X_train, Y_train)"
   ]
  },
  {
   "cell_type": "code",
   "execution_count": null,
   "metadata": {
    "id": "B6QwVIYIvLOq"
   },
   "outputs": [],
   "source": [
    "Y_pred = lsvctfidf.predict(X_test)"
   ]
  },
  {
   "cell_type": "code",
   "execution_count": null,
   "metadata": {
    "colab": {
     "base_uri": "https://localhost:8080/"
    },
    "id": "vQss3f6AvPYR",
    "outputId": "e853b4e6-d874-4ed6-f1cc-835845bcf767"
   },
   "outputs": [
    {
     "name": "stdout",
     "output_type": "stream",
     "text": [
      "accuracy 0.8705989940557842\n",
      "                        precision    recall  f1-score   support\n",
      "\n",
      "       Adventure novel       0.98      1.00      0.99       211\n",
      "             Biography       0.97      1.00      0.99       112\n",
      " Children's literature       0.67      0.62      0.64       330\n",
      "               Fantasy       0.88      0.90      0.89       361\n",
      "                Horror       0.99      1.00      1.00       299\n",
      "      Literary fiction       1.00      1.00      1.00        85\n",
      "                Memoir       0.97      1.00      0.99       145\n",
      "               Mystery       0.88      0.89      0.88       452\n",
      "           Non-fiction       0.97      1.00      0.99       466\n",
      "                 Novel       0.54      0.15      0.23       296\n",
      "            Philosophy       0.97      1.00      0.99        74\n",
      "          Picture book       0.99      0.99      0.99       162\n",
      "         Romance novel       0.97      1.00      0.98       213\n",
      "       Science Fiction       0.81      0.77      0.79       283\n",
      "           Short story       0.97      1.00      0.99       107\n",
      "           Spy fiction       0.99      1.00      0.99       312\n",
      "     Sword and sorcery       0.95      1.00      0.98        63\n",
      "       Techno-thriller       0.99      1.00      1.00       131\n",
      "              Thriller       0.86      0.78      0.82       343\n",
      "         Urban fantasy       1.00      1.00      1.00        76\n",
      "Young adult literature       0.86      0.76      0.81       191\n",
      "         autobiography       0.98      1.00      0.99       443\n",
      "                comedy       0.97      1.00      0.98       473\n",
      "               fiction       0.55      0.68      0.61       512\n",
      "            historical       0.74      0.91      0.82       421\n",
      "\n",
      "              accuracy                           0.87      6561\n",
      "             macro avg       0.90      0.90      0.89      6561\n",
      "          weighted avg       0.87      0.87      0.86      6561\n",
      "\n"
     ]
    }
   ],
   "source": [
    "print('accuracy %s' % accuracy_score(Y_pred, Y_test))\n",
    "print(classification_report(Y_test, Y_pred))"
   ]
  },
  {
   "cell_type": "code",
   "execution_count": null,
   "metadata": {
    "colab": {
     "base_uri": "https://localhost:8080/"
    },
    "id": "V2pOZfE7vRdm",
    "outputId": "5580e8d2-0e5d-4454-a658-47d337738691"
   },
   "outputs": [
    {
     "data": {
      "text/plain": [
       "0.8705989940557842"
      ]
     },
     "execution_count": 66,
     "metadata": {},
     "output_type": "execute_result"
    }
   ],
   "source": [
    "LSVCtfidf = accuracy_score(Y_pred, Y_test)\n",
    "LSVCtfidf"
   ]
  },
  {
   "cell_type": "markdown",
   "metadata": {
    "id": "532-WxvevYnB"
   },
   "source": [
    "## Hash Vectorizer:"
   ]
  },
  {
   "cell_type": "code",
   "execution_count": null,
   "metadata": {
    "id": "V3cI_YryvX-Z"
   },
   "outputs": [],
   "source": [
    "from sklearn.svm import LinearSVC\n",
    "\n",
    "lsvchash = Pipeline([('vect', HashingVectorizer(norm = None, ngram_range=(1,2))),\n",
    "                ('tfidf', TfidfTransformer()),\n",
    "                ('clf', LinearSVC(random_state=0, tol=1e-5)),\n",
    "               ])"
   ]
  },
  {
   "cell_type": "code",
   "execution_count": null,
   "metadata": {
    "colab": {
     "base_uri": "https://localhost:8080/"
    },
    "id": "-AIuEMX1vyZ7",
    "outputId": "b4f2fda1-6d9d-4290-b42d-b3b377e22a36"
   },
   "outputs": [
    {
     "data": {
      "text/plain": [
       "Pipeline(steps=[('vect', HashingVectorizer(ngram_range=(1, 2), norm=None)),\n",
       "                ('tfidf', TfidfTransformer()),\n",
       "                ('clf', LinearSVC(random_state=0, tol=1e-05))])"
      ]
     },
     "execution_count": 68,
     "metadata": {},
     "output_type": "execute_result"
    }
   ],
   "source": [
    "lsvchash.fit(X_train, Y_train)"
   ]
  },
  {
   "cell_type": "code",
   "execution_count": null,
   "metadata": {
    "id": "LSZK_t1GwcPm"
   },
   "outputs": [],
   "source": [
    "Y_pred = lsvchash.predict(X_test)"
   ]
  },
  {
   "cell_type": "code",
   "execution_count": null,
   "metadata": {
    "colab": {
     "base_uri": "https://localhost:8080/"
    },
    "id": "ADVIdTkzwg0x",
    "outputId": "e67d0013-6b7d-4e29-b83d-9e3781afeeff"
   },
   "outputs": [
    {
     "name": "stdout",
     "output_type": "stream",
     "text": [
      "accuracy 0.8722755677488188\n",
      "                        precision    recall  f1-score   support\n",
      "\n",
      "       Adventure novel       0.98      1.00      0.99       211\n",
      "             Biography       0.97      1.00      0.99       112\n",
      " Children's literature       0.64      0.67      0.66       330\n",
      "               Fantasy       0.86      0.89      0.88       361\n",
      "                Horror       0.99      1.00      1.00       299\n",
      "      Literary fiction       0.99      1.00      0.99        85\n",
      "                Memoir       0.99      1.00      0.99       145\n",
      "               Mystery       0.86      0.89      0.87       452\n",
      "           Non-fiction       0.96      1.00      0.98       466\n",
      "                 Novel       0.46      0.19      0.27       296\n",
      "            Philosophy       0.99      0.99      0.99        74\n",
      "          Picture book       0.99      0.99      0.99       162\n",
      "         Romance novel       0.99      1.00      0.99       213\n",
      "       Science Fiction       0.87      0.75      0.81       283\n",
      "           Short story       0.98      1.00      0.99       107\n",
      "           Spy fiction       0.99      1.00      1.00       312\n",
      "     Sword and sorcery       0.95      1.00      0.98        63\n",
      "       Techno-thriller       1.00      0.99      1.00       131\n",
      "              Thriller       0.86      0.80      0.83       343\n",
      "         Urban fantasy       1.00      1.00      1.00        76\n",
      "Young adult literature       0.85      0.76      0.80       191\n",
      "         autobiography       0.99      1.00      0.99       443\n",
      "                comedy       0.98      1.00      0.99       473\n",
      "               fiction       0.57      0.65      0.61       512\n",
      "            historical       0.78      0.91      0.84       421\n",
      "\n",
      "              accuracy                           0.87      6561\n",
      "             macro avg       0.90      0.90      0.90      6561\n",
      "          weighted avg       0.87      0.87      0.87      6561\n",
      "\n"
     ]
    }
   ],
   "source": [
    "print('accuracy %s' % accuracy_score(Y_pred, Y_test))\n",
    "print(classification_report(Y_test, Y_pred))"
   ]
  },
  {
   "cell_type": "code",
   "execution_count": null,
   "metadata": {
    "colab": {
     "base_uri": "https://localhost:8080/"
    },
    "id": "Evi3gZMKwi-Y",
    "outputId": "92a85f46-919f-49cb-972c-19ad39bee0b2"
   },
   "outputs": [
    {
     "data": {
      "text/plain": [
       "0.8722755677488188"
      ]
     },
     "execution_count": 71,
     "metadata": {},
     "output_type": "execute_result"
    }
   ],
   "source": [
    "LSVChash = accuracy_score(Y_pred, Y_test)\n",
    "LSVChash"
   ]
  },
  {
   "cell_type": "markdown",
   "metadata": {
    "id": "nEevClQTy8fb"
   },
   "source": [
    "# Comparison:"
   ]
  },
  {
   "cell_type": "code",
   "execution_count": null,
   "metadata": {
    "colab": {
     "base_uri": "https://localhost:8080/",
     "height": 295
    },
    "id": "cy6-EH3my570",
    "outputId": "574972af-a207-473f-9800-a3f8dfd60251",
    "scrolled": true
   },
   "outputs": [
    {
     "data": {
      "image/png": "[encoded data removed]",
      "text/plain": [
       "<Figure size 432x288 with 1 Axes>"
      ]
     },
     "metadata": {
      "needs_background": "light"
     },
     "output_type": "display_data"
    }
   ],
   "source": [
    "import numpy as np\n",
    "import matplotlib.pyplot as plt\n",
    "\n",
    "N = 3\n",
    "ind = np.arange(2)\n",
    "width = 0.25\n",
    "\n",
    "xvals = [SGDcount, LSVCcount]\n",
    "bar1 = plt.bar(ind, xvals, width, color = 'r')\n",
    "\n",
    "yvals = [SGDtfidf, LSVCtfidf]\n",
    "bar2 = plt.bar(ind+width, yvals, width, color='g')\n",
    "\n",
    "zvals = [SGDhash, LSVChash]\n",
    "bar3 = plt.bar(ind+width*2, zvals, width, color = 'b')\n",
    "\n",
    "plt.xlabel(\"Models\")\n",
    "plt.ylabel('Accuracy')\n",
    "plt.title(\"Word Embeddings\")\n",
    "\n",
    "plt.xticks(ind+width,['SGD', 'LSVC'])\n",
    "plt.legend( (bar1, bar2, bar3), ('Count-Vectorizer', 'TFIDF-Vectorizer', 'Hash-Vectorizer') )\n",
    "plt.annotate(\"{:.2%}\".format(SGDcount), (0, SGDcount))\n",
    "plt.annotate(\"{:.2%}\".format(SGDtfidf), (0.25, SGDtfidf))\n",
    "plt.annotate(\"{:.2%}\".format(SGDhash), (0.50, SGDhash))\n",
    "plt.annotate(\"{:.2%}\".format(LSVCcount), (1, LSVCcount))\n",
    "plt.annotate(\"{:.2%}\".format(LSVCtfidf), (1.25, LSVCtfidf))\n",
    "plt.annotate(\"{:.2%}\".format(LSVChash), (1.50, LSVChash))\n",
    "# plt.xlim([.8, 1.0])\n",
    "plt.show()\n"
   ]
  }
 ],
 "metadata": {
  "colab": {
   "collapsed_sections": [
    "glou67G8mgFQ",
    "hN3YTCseuxlw",
    "5uUN7AKPu1Ky",
    "532-WxvevYnB"
   ],
   "provenance": []
  },
  "kernelspec": {
   "display_name": "Python 3 (ipykernel)",
   "language": "python",
   "name": "python3"
  },
  "language_info": {
   "codemirror_mode": {
    "name": "ipython",
    "version": 3
   },
   "file_extension": ".py",
   "mimetype": "text/x-python",
   "name": "python",
   "nbconvert_exporter": "python",
   "pygments_lexer": "ipython3",
   "version": "3.10.8"
  }
 },
 "nbformat": 4,
 "nbformat_minor": 1
}

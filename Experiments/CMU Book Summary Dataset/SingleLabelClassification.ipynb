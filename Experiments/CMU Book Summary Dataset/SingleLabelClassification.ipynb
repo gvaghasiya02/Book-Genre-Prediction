{
  "nbformat": 4,
  "nbformat_minor": 0,
  "metadata": {
    "colab": {
      "provenance": []
    },
    "kernelspec": {
      "name": "python3",
      "display_name": "Python 3"
    },
    "language_info": {
      "name": "python"
    }
  },
  "cells": [
    {
      "cell_type": "code",
      "execution_count": 2,
      "metadata": {
        "id": "UFchjS0S6_AU"
      },
      "outputs": [],
      "source": [
        "import pandas as pd"
      ]
    },
    {
      "cell_type": "code",
      "source": [
        "df=pd.read_csv('/content/augmentedDataWithoutStemming.csv')"
      ],
      "metadata": {
        "id": "0YJPPoZ67Vvo"
      },
      "execution_count": 3,
      "outputs": []
    },
    {
      "cell_type": "code",
      "source": [
        "df"
      ],
      "metadata": {
        "colab": {
          "base_uri": "https://localhost:8080/",
          "height": 424
        },
        "id": "qLJwnjV_8BC_",
        "outputId": "747b5e73-31ed-43de-a61d-6f74d4eb1fde"
      },
      "execution_count": 4,
      "outputs": [
        {
          "output_type": "execute_result",
          "data": {
            "text/plain": [
              "       Unnamed: 0  Unnamed: 0.1                               Name  \\\n",
              "0               0             1                 A Clockwork Orange   \n",
              "1               1             6               A Wizard of Earthsea   \n",
              "2               2             8    Blade Runner 3: Replicant Night   \n",
              "3               3             9  Blade Runner 2: The Edge of Human   \n",
              "4               4            21                   Children of Dune   \n",
              "...           ...           ...                                ...   \n",
              "21864       21864         16414                             Carver   \n",
              "21865       21865         16442                             Rabies   \n",
              "21866       21866         16542              The Bourne Imperative   \n",
              "21867       21867         16551                     Remote Control   \n",
              "21868       21868         16555                  Transfer of Power   \n",
              "\n",
              "                      Genres  \\\n",
              "0            Science Fiction   \n",
              "1      Children's literature   \n",
              "2            Science Fiction   \n",
              "3            Science Fiction   \n",
              "4            Science Fiction   \n",
              "...                      ...   \n",
              "21864               Thriller   \n",
              "21865               Thriller   \n",
              "21866               Thriller   \n",
              "21867               Thriller   \n",
              "21868               Thriller   \n",
              "\n",
              "                                                 Summary  \n",
              "0       alex teenager living near future england lead...  \n",
              "1       ged young boy gont one larger islands north a...  \n",
              "2       living mars deckard acting consultant movie c...  \n",
              "3       beginning several months events blade runner ...  \n",
              "4       nine years emperor paul muad dib walked deser...  \n",
              "...                                                  ...  \n",
              "21864   central character samuel carver ex assassin s...  \n",
              "21865   seth betimes 1980s height insensate war novel...  \n",
              "21866   detailed background main character see jason ...  \n",
              "21867   series follows character nick stone ex milita...  \n",
              "21868   reader first base meets rapp covert operation...  \n",
              "\n",
              "[21869 rows x 5 columns]"
            ],
            "text/html": [
              "\n",
              "  <div id=\"df-ceed5fdb-7955-4616-8b05-0f95f8114454\">\n",
              "    <div class=\"colab-df-container\">\n",
              "      <div>\n",
              "<style scoped>\n",
              "    .dataframe tbody tr th:only-of-type {\n",
              "        vertical-align: middle;\n",
              "    }\n",
              "\n",
              "    .dataframe tbody tr th {\n",
              "        vertical-align: top;\n",
              "    }\n",
              "\n",
              "    .dataframe thead th {\n",
              "        text-align: right;\n",
              "    }\n",
              "</style>\n",
              "<table border=\"1\" class=\"dataframe\">\n",
              "  <thead>\n",
              "    <tr style=\"text-align: right;\">\n",
              "      <th></th>\n",
              "      <th>Unnamed: 0</th>\n",
              "      <th>Unnamed: 0.1</th>\n",
              "      <th>Name</th>\n",
              "      <th>Genres</th>\n",
              "      <th>Summary</th>\n",
              "    </tr>\n",
              "  </thead>\n",
              "  <tbody>\n",
              "    <tr>\n",
              "      <th>0</th>\n",
              "      <td>0</td>\n",
              "      <td>1</td>\n",
              "      <td>A Clockwork Orange</td>\n",
              "      <td>Science Fiction</td>\n",
              "      <td>alex teenager living near future england lead...</td>\n",
              "    </tr>\n",
              "    <tr>\n",
              "      <th>1</th>\n",
              "      <td>1</td>\n",
              "      <td>6</td>\n",
              "      <td>A Wizard of Earthsea</td>\n",
              "      <td>Children's literature</td>\n",
              "      <td>ged young boy gont one larger islands north a...</td>\n",
              "    </tr>\n",
              "    <tr>\n",
              "      <th>2</th>\n",
              "      <td>2</td>\n",
              "      <td>8</td>\n",
              "      <td>Blade Runner 3: Replicant Night</td>\n",
              "      <td>Science Fiction</td>\n",
              "      <td>living mars deckard acting consultant movie c...</td>\n",
              "    </tr>\n",
              "    <tr>\n",
              "      <th>3</th>\n",
              "      <td>3</td>\n",
              "      <td>9</td>\n",
              "      <td>Blade Runner 2: The Edge of Human</td>\n",
              "      <td>Science Fiction</td>\n",
              "      <td>beginning several months events blade runner ...</td>\n",
              "    </tr>\n",
              "    <tr>\n",
              "      <th>4</th>\n",
              "      <td>4</td>\n",
              "      <td>21</td>\n",
              "      <td>Children of Dune</td>\n",
              "      <td>Science Fiction</td>\n",
              "      <td>nine years emperor paul muad dib walked deser...</td>\n",
              "    </tr>\n",
              "    <tr>\n",
              "      <th>...</th>\n",
              "      <td>...</td>\n",
              "      <td>...</td>\n",
              "      <td>...</td>\n",
              "      <td>...</td>\n",
              "      <td>...</td>\n",
              "    </tr>\n",
              "    <tr>\n",
              "      <th>21864</th>\n",
              "      <td>21864</td>\n",
              "      <td>16414</td>\n",
              "      <td>Carver</td>\n",
              "      <td>Thriller</td>\n",
              "      <td>central character samuel carver ex assassin s...</td>\n",
              "    </tr>\n",
              "    <tr>\n",
              "      <th>21865</th>\n",
              "      <td>21865</td>\n",
              "      <td>16442</td>\n",
              "      <td>Rabies</td>\n",
              "      <td>Thriller</td>\n",
              "      <td>seth betimes 1980s height insensate war novel...</td>\n",
              "    </tr>\n",
              "    <tr>\n",
              "      <th>21866</th>\n",
              "      <td>21866</td>\n",
              "      <td>16542</td>\n",
              "      <td>The Bourne Imperative</td>\n",
              "      <td>Thriller</td>\n",
              "      <td>detailed background main character see jason ...</td>\n",
              "    </tr>\n",
              "    <tr>\n",
              "      <th>21867</th>\n",
              "      <td>21867</td>\n",
              "      <td>16551</td>\n",
              "      <td>Remote Control</td>\n",
              "      <td>Thriller</td>\n",
              "      <td>series follows character nick stone ex milita...</td>\n",
              "    </tr>\n",
              "    <tr>\n",
              "      <th>21868</th>\n",
              "      <td>21868</td>\n",
              "      <td>16555</td>\n",
              "      <td>Transfer of Power</td>\n",
              "      <td>Thriller</td>\n",
              "      <td>reader first base meets rapp covert operation...</td>\n",
              "    </tr>\n",
              "  </tbody>\n",
              "</table>\n",
              "<p>21869 rows × 5 columns</p>\n",
              "</div>\n",
              "      <button class=\"colab-df-convert\" onclick=\"convertToInteractive('df-ceed5fdb-7955-4616-8b05-0f95f8114454')\"\n",
              "              title=\"Convert this dataframe to an interactive table.\"\n",
              "              style=\"display:none;\">\n",
              "        \n",
              "  <svg xmlns=\"http://www.w3.org/2000/svg\" height=\"24px\"viewBox=\"0 0 24 24\"\n",
              "       width=\"24px\">\n",
              "    <path d=\"M0 0h24v24H0V0z\" fill=\"none\"/>\n",
              "    <path d=\"M18.56 5.44l.94 2.06.94-2.06 2.06-.94-2.06-.94-.94-2.06-.94 2.06-2.06.94zm-11 1L8.5 8.5l.94-2.06 2.06-.94-2.06-.94L8.5 2.5l-.94 2.06-2.06.94zm10 10l.94 2.06.94-2.06 2.06-.94-2.06-.94-.94-2.06-.94 2.06-2.06.94z\"/><path d=\"M17.41 7.96l-1.37-1.37c-.4-.4-.92-.59-1.43-.59-.52 0-1.04.2-1.43.59L10.3 9.45l-7.72 7.72c-.78.78-.78 2.05 0 2.83L4 21.41c.39.39.9.59 1.41.59.51 0 1.02-.2 1.41-.59l7.78-7.78 2.81-2.81c.8-.78.8-2.07 0-2.86zM5.41 20L4 18.59l7.72-7.72 1.47 1.35L5.41 20z\"/>\n",
              "  </svg>\n",
              "      </button>\n",
              "      \n",
              "  <style>\n",
              "    .colab-df-container {\n",
              "      display:flex;\n",
              "      flex-wrap:wrap;\n",
              "      gap: 12px;\n",
              "    }\n",
              "\n",
              "    .colab-df-convert {\n",
              "      background-color: #E8F0FE;\n",
              "      border: none;\n",
              "      border-radius: 50%;\n",
              "      cursor: pointer;\n",
              "      display: none;\n",
              "      fill: #1967D2;\n",
              "      height: 32px;\n",
              "      padding: 0 0 0 0;\n",
              "      width: 32px;\n",
              "    }\n",
              "\n",
              "    .colab-df-convert:hover {\n",
              "      background-color: #E2EBFA;\n",
              "      box-shadow: 0px 1px 2px rgba(60, 64, 67, 0.3), 0px 1px 3px 1px rgba(60, 64, 67, 0.15);\n",
              "      fill: #174EA6;\n",
              "    }\n",
              "\n",
              "    [theme=dark] .colab-df-convert {\n",
              "      background-color: #3B4455;\n",
              "      fill: #D2E3FC;\n",
              "    }\n",
              "\n",
              "    [theme=dark] .colab-df-convert:hover {\n",
              "      background-color: #434B5C;\n",
              "      box-shadow: 0px 1px 3px 1px rgba(0, 0, 0, 0.15);\n",
              "      filter: drop-shadow(0px 1px 2px rgba(0, 0, 0, 0.3));\n",
              "      fill: #FFFFFF;\n",
              "    }\n",
              "  </style>\n",
              "\n",
              "      <script>\n",
              "        const buttonEl =\n",
              "          document.querySelector('#df-ceed5fdb-7955-4616-8b05-0f95f8114454 button.colab-df-convert');\n",
              "        buttonEl.style.display =\n",
              "          google.colab.kernel.accessAllowed ? 'block' : 'none';\n",
              "\n",
              "        async function convertToInteractive(key) {\n",
              "          const element = document.querySelector('#df-ceed5fdb-7955-4616-8b05-0f95f8114454');\n",
              "          const dataTable =\n",
              "            await google.colab.kernel.invokeFunction('convertToInteractive',\n",
              "                                                     [key], {});\n",
              "          if (!dataTable) return;\n",
              "\n",
              "          const docLinkHtml = 'Like what you see? Visit the ' +\n",
              "            '<a target=\"_blank\" href=https://colab.research.google.com/notebooks/data_table.ipynb>data table notebook</a>'\n",
              "            + ' to learn more about interactive tables.';\n",
              "          element.innerHTML = '';\n",
              "          dataTable['output_type'] = 'display_data';\n",
              "          await google.colab.output.renderOutput(dataTable, element);\n",
              "          const docLink = document.createElement('div');\n",
              "          docLink.innerHTML = docLinkHtml;\n",
              "          element.appendChild(docLink);\n",
              "        }\n",
              "      </script>\n",
              "    </div>\n",
              "  </div>\n",
              "  "
            ]
          },
          "metadata": {},
          "execution_count": 4
        }
      ]
    },
    {
      "cell_type": "code",
      "source": [
        "X=df.Summary\n",
        "Y=df.Genres.values\n",
        "X.shape, Y.shape"
      ],
      "metadata": {
        "colab": {
          "base_uri": "https://localhost:8080/"
        },
        "id": "nSLHJW3o8B4T",
        "outputId": "41dbcd42-59ea-470e-e930-12835179963b"
      },
      "execution_count": 5,
      "outputs": [
        {
          "output_type": "execute_result",
          "data": {
            "text/plain": [
              "((21869,), (21869,))"
            ]
          },
          "metadata": {},
          "execution_count": 5
        }
      ]
    },
    {
      "cell_type": "code",
      "source": [
        "from sklearn.model_selection import train_test_split\n",
        "from sklearn.metrics import accuracy_score, confusion_matrix\n",
        "from sklearn.pipeline import Pipeline\n",
        "from sklearn.feature_extraction.text import CountVectorizer, TfidfVectorizer\n",
        "from sklearn.feature_extraction.text import TfidfTransformer\n",
        "from sklearn.metrics import classification_report"
      ],
      "metadata": {
        "id": "Y6NOe5Y08Tfi"
      },
      "execution_count": 6,
      "outputs": []
    },
    {
      "cell_type": "code",
      "source": [
        "X_train, X_test, Y_train, Y_test = train_test_split(X, Y, test_size=0.3, random_state = 42)"
      ],
      "metadata": {
        "id": "bl-MfkdE81e8"
      },
      "execution_count": 7,
      "outputs": []
    },
    {
      "cell_type": "code",
      "source": [
        "type(X_train), type(Y_train)\n",
        "X_train.shape, Y_train.shape"
      ],
      "metadata": {
        "colab": {
          "base_uri": "https://localhost:8080/"
        },
        "id": "T61SkEu784eW",
        "outputId": "b05a0c35-d483-4a30-8daf-6e17516e6ea4"
      },
      "execution_count": 8,
      "outputs": [
        {
          "output_type": "execute_result",
          "data": {
            "text/plain": [
              "((15308,), (15308,))"
            ]
          },
          "metadata": {},
          "execution_count": 8
        }
      ]
    },
    {
      "cell_type": "markdown",
      "source": [
        "## Multinomial Naive Bayes Classifier:"
      ],
      "metadata": {
        "id": "YJW-9yjd9rJw"
      }
    },
    {
      "cell_type": "code",
      "source": [
        "from sklearn.naive_bayes import MultinomialNB\n",
        "nb = Pipeline([('vect', CountVectorizer(ngram_range=(1,3))),\n",
        "               ('tfidf', TfidfTransformer()),\n",
        "               ('clf', MultinomialNB()),\n",
        "              ])\n",
        "nb.fit(X_train, Y_train)"
      ],
      "metadata": {
        "colab": {
          "base_uri": "https://localhost:8080/"
        },
        "id": "gjcgHDNw8-P2",
        "outputId": "ef9702f4-34fb-4680-e7e4-dd900c6c11f0"
      },
      "execution_count": 8,
      "outputs": [
        {
          "output_type": "execute_result",
          "data": {
            "text/plain": [
              "Pipeline(steps=[('vect', CountVectorizer(ngram_range=(1, 3))),\n",
              "                ('tfidf', TfidfTransformer()), ('clf', MultinomialNB())])"
            ]
          },
          "metadata": {},
          "execution_count": 8
        }
      ]
    },
    {
      "cell_type": "code",
      "source": [
        "Y_pred = nb.predict(X_test)"
      ],
      "metadata": {
        "id": "Lgj164zB-MN6"
      },
      "execution_count": 9,
      "outputs": []
    },
    {
      "cell_type": "code",
      "source": [
        "print('accuracy %s' % accuracy_score(Y_pred, Y_test))\n",
        "print(classification_report(Y_test, Y_pred))"
      ],
      "metadata": {
        "colab": {
          "base_uri": "https://localhost:8080/"
        },
        "id": "eT7r8RWx-0Fe",
        "outputId": "64708727-ddcc-4e33-e9a8-2b129752a68b"
      },
      "execution_count": 10,
      "outputs": [
        {
          "output_type": "stream",
          "name": "stdout",
          "text": [
            "accuracy 0.6224660874866637\n",
            "                        precision    recall  f1-score   support\n",
            "\n",
            "       Adventure novel       1.00      0.54      0.70       211\n",
            "             Biography       1.00      0.14      0.25       112\n",
            " Children's literature       0.85      0.14      0.23       330\n",
            "               Fantasy       0.83      0.76      0.79       361\n",
            "                Horror       0.99      0.84      0.91       299\n",
            "      Literary fiction       1.00      0.15      0.27        85\n",
            "                Memoir       1.00      0.21      0.35       145\n",
            "               Mystery       0.92      0.81      0.86       452\n",
            "           Non-fiction       0.81      1.00      0.90       466\n",
            "                 Novel       0.00      0.00      0.00       296\n",
            "            Philosophy       1.00      0.07      0.13        74\n",
            "          Picture book       1.00      0.32      0.49       162\n",
            "         Romance novel       1.00      0.62      0.77       213\n",
            "       Science Fiction       1.00      0.32      0.49       283\n",
            "           Short story       1.00      0.12      0.22       107\n",
            "           Spy fiction       1.00      0.92      0.95       312\n",
            "     Sword and sorcery       1.00      0.32      0.48        63\n",
            "       Techno-thriller       1.00      0.18      0.30       131\n",
            "              Thriller       0.99      0.42      0.59       343\n",
            "         Urban fantasy       1.00      0.09      0.17        76\n",
            "Young adult literature       1.00      0.02      0.03       191\n",
            "         autobiography       0.42      1.00      0.59       443\n",
            "                comedy       0.57      1.00      0.72       473\n",
            "               fiction       0.33      0.85      0.47       512\n",
            "            historical       0.48      0.90      0.63       421\n",
            "\n",
            "              accuracy                           0.62      6561\n",
            "             macro avg       0.85      0.47      0.49      6561\n",
            "          weighted avg       0.76      0.62      0.58      6561\n",
            "\n"
          ]
        },
        {
          "output_type": "stream",
          "name": "stderr",
          "text": [
            "/usr/local/lib/python3.8/dist-packages/sklearn/metrics/_classification.py:1318: UndefinedMetricWarning: Precision and F-score are ill-defined and being set to 0.0 in labels with no predicted samples. Use `zero_division` parameter to control this behavior.\n",
            "  _warn_prf(average, modifier, msg_start, len(result))\n",
            "/usr/local/lib/python3.8/dist-packages/sklearn/metrics/_classification.py:1318: UndefinedMetricWarning: Precision and F-score are ill-defined and being set to 0.0 in labels with no predicted samples. Use `zero_division` parameter to control this behavior.\n",
            "  _warn_prf(average, modifier, msg_start, len(result))\n",
            "/usr/local/lib/python3.8/dist-packages/sklearn/metrics/_classification.py:1318: UndefinedMetricWarning: Precision and F-score are ill-defined and being set to 0.0 in labels with no predicted samples. Use `zero_division` parameter to control this behavior.\n",
            "  _warn_prf(average, modifier, msg_start, len(result))\n"
          ]
        }
      ]
    },
    {
      "cell_type": "markdown",
      "source": [
        "## SGD Classifier"
      ],
      "metadata": {
        "id": "0iRJZnlR_ohF"
      }
    },
    {
      "cell_type": "code",
      "source": [
        "from sklearn.linear_model import SGDClassifier\n",
        "\n",
        "sgd = Pipeline([('vect', CountVectorizer(ngram_range=(1,3))),\n",
        "                ('tfidf', TfidfTransformer()),\n",
        "                ('clf', SGDClassifier(loss='hinge', penalty='l2',alpha=1e-3, random_state=42, max_iter=5, tol=None)),\n",
        "               ])\n",
        "sgd.fit(X_train, Y_train)"
      ],
      "metadata": {
        "colab": {
          "base_uri": "https://localhost:8080/"
        },
        "id": "7mdLz4yM_n3u",
        "outputId": "64cccc06-4ace-43c2-a1e9-dbeae8ed7207"
      },
      "execution_count": 11,
      "outputs": [
        {
          "output_type": "execute_result",
          "data": {
            "text/plain": [
              "Pipeline(steps=[('vect', CountVectorizer(ngram_range=(1, 3))),\n",
              "                ('tfidf', TfidfTransformer()),\n",
              "                ('clf',\n",
              "                 SGDClassifier(alpha=0.001, max_iter=5, random_state=42,\n",
              "                               tol=None))])"
            ]
          },
          "metadata": {},
          "execution_count": 11
        }
      ]
    },
    {
      "cell_type": "code",
      "source": [
        "Y_pred = sgd.predict(X_test)"
      ],
      "metadata": {
        "id": "XCSpn_BZAO9H"
      },
      "execution_count": 14,
      "outputs": []
    },
    {
      "cell_type": "code",
      "source": [
        "print('accuracy %s' % accuracy_score(Y_pred, Y_test))\n",
        "print(classification_report(Y_test, Y_pred))"
      ],
      "metadata": {
        "colab": {
          "base_uri": "https://localhost:8080/"
        },
        "id": "oTAp3NqiAUES",
        "outputId": "5d497a84-7a68-4db2-81a8-495117a24bb7"
      },
      "execution_count": 15,
      "outputs": [
        {
          "output_type": "stream",
          "name": "stdout",
          "text": [
            "accuracy 0.8425544886450236\n",
            "                        precision    recall  f1-score   support\n",
            "\n",
            "       Adventure novel       0.95      1.00      0.97       211\n",
            "             Biography       0.89      1.00      0.94       112\n",
            " Children's literature       0.69      0.53      0.60       330\n",
            "               Fantasy       0.84      0.84      0.84       361\n",
            "                Horror       0.92      1.00      0.96       299\n",
            "      Literary fiction       0.98      1.00      0.99        85\n",
            "                Memoir       0.95      1.00      0.97       145\n",
            "               Mystery       0.79      0.87      0.83       452\n",
            "           Non-fiction       0.90      1.00      0.95       466\n",
            "                 Novel       0.58      0.09      0.16       296\n",
            "            Philosophy       0.91      0.99      0.95        74\n",
            "          Picture book       0.96      0.97      0.97       162\n",
            "         Romance novel       0.89      1.00      0.94       213\n",
            "       Science Fiction       0.77      0.75      0.76       283\n",
            "           Short story       0.96      1.00      0.98       107\n",
            "           Spy fiction       0.91      0.99      0.95       312\n",
            "     Sword and sorcery       0.91      1.00      0.95        63\n",
            "       Techno-thriller       0.94      1.00      0.97       131\n",
            "              Thriller       0.86      0.78      0.82       343\n",
            "         Urban fantasy       0.93      1.00      0.96        76\n",
            "Young adult literature       0.82      0.74      0.78       191\n",
            "         autobiography       0.84      1.00      0.91       443\n",
            "                comedy       0.91      1.00      0.95       473\n",
            "               fiction       0.64      0.51      0.57       512\n",
            "            historical       0.72      0.90      0.80       421\n",
            "\n",
            "              accuracy                           0.84      6561\n",
            "             macro avg       0.86      0.88      0.86      6561\n",
            "          weighted avg       0.83      0.84      0.82      6561\n",
            "\n"
          ]
        }
      ]
    },
    {
      "cell_type": "markdown",
      "source": [
        "## LinearSVC Classifier"
      ],
      "metadata": {
        "id": "MLpECnwlDXAz"
      }
    },
    {
      "cell_type": "code",
      "source": [
        "from sklearn.svm import LinearSVC\n",
        "\n",
        "linear_svc = Pipeline([('vect', CountVectorizer(ngram_range=(1,3))),\n",
        "                ('tfidf', TfidfTransformer()),\n",
        "                ('clf', LinearSVC(random_state=0, tol=1e-5)),\n",
        "               ])\n",
        "linear_svc.fit(X_train, Y_train)"
      ],
      "metadata": {
        "colab": {
          "base_uri": "https://localhost:8080/"
        },
        "id": "wbViuZ-yIYaU",
        "outputId": "c853c5f8-c41c-4d0e-9b5c-57a907a8862d"
      },
      "execution_count": 25,
      "outputs": [
        {
          "output_type": "execute_result",
          "data": {
            "text/plain": [
              "Pipeline(steps=[('vect', CountVectorizer(ngram_range=(1, 3))),\n",
              "                ('tfidf', TfidfTransformer()),\n",
              "                ('clf', LinearSVC(random_state=0, tol=1e-05))])"
            ]
          },
          "metadata": {},
          "execution_count": 25
        }
      ]
    },
    {
      "cell_type": "code",
      "source": [
        "Y_pred = linear_svc.predict(X_test)"
      ],
      "metadata": {
        "id": "ktboh3dtIb8c"
      },
      "execution_count": 26,
      "outputs": []
    },
    {
      "cell_type": "code",
      "source": [
        "print('accuracy %s' % accuracy_score(Y_pred, Y_test))\n",
        "print(classification_report(Y_test, Y_pred))"
      ],
      "metadata": {
        "colab": {
          "base_uri": "https://localhost:8080/"
        },
        "id": "nBVk4ThXJrHX",
        "outputId": "799da3ed-4c96-400e-9810-bf6ad52cd1d5"
      },
      "execution_count": 27,
      "outputs": [
        {
          "output_type": "stream",
          "name": "stdout",
          "text": [
            "accuracy 0.873190062490474\n",
            "                        precision    recall  f1-score   support\n",
            "\n",
            "       Adventure novel       0.98      1.00      0.99       211\n",
            "             Biography       0.97      1.00      0.99       112\n",
            " Children's literature       0.66      0.66      0.66       330\n",
            "               Fantasy       0.86      0.89      0.88       361\n",
            "                Horror       0.99      1.00      1.00       299\n",
            "      Literary fiction       0.99      1.00      0.99        85\n",
            "                Memoir       0.99      1.00      1.00       145\n",
            "               Mystery       0.89      0.89      0.89       452\n",
            "           Non-fiction       0.95      1.00      0.98       466\n",
            "                 Novel       0.51      0.19      0.27       296\n",
            "            Philosophy       0.95      1.00      0.97        74\n",
            "          Picture book       0.99      0.98      0.99       162\n",
            "         Romance novel       0.98      1.00      0.99       213\n",
            "       Science Fiction       0.81      0.78      0.79       283\n",
            "           Short story       0.98      1.00      0.99       107\n",
            "           Spy fiction       0.98      1.00      0.99       312\n",
            "     Sword and sorcery       0.95      1.00      0.98        63\n",
            "       Techno-thriller       1.00      1.00      1.00       131\n",
            "              Thriller       0.89      0.80      0.84       343\n",
            "         Urban fantasy       1.00      1.00      1.00        76\n",
            "Young adult literature       0.85      0.76      0.80       191\n",
            "         autobiography       0.97      1.00      0.99       443\n",
            "                comedy       0.98      1.00      0.99       473\n",
            "               fiction       0.60      0.66      0.63       512\n",
            "            historical       0.73      0.91      0.81       421\n",
            "\n",
            "              accuracy                           0.87      6561\n",
            "             macro avg       0.90      0.90      0.90      6561\n",
            "          weighted avg       0.87      0.87      0.87      6561\n",
            "\n"
          ]
        }
      ]
    },
    {
      "cell_type": "markdown",
      "source": [
        "## Decision Tree Classifier"
      ],
      "metadata": {
        "id": "VYTGqWqoJ7Pa"
      }
    },
    {
      "cell_type": "code",
      "source": [
        "from sklearn.tree import DecisionTreeClassifier\n",
        "\n",
        "dtc = Pipeline([('vect', CountVectorizer(ngram_range=(1,3))),\n",
        "                ('tfidf', TfidfTransformer()),\n",
        "                ('clf', DecisionTreeClassifier()),\n",
        "               ])\n",
        "dtc.fit(X_train, Y_train)"
      ],
      "metadata": {
        "colab": {
          "base_uri": "https://localhost:8080/"
        },
        "id": "ipOUNDKNJuj0",
        "outputId": "eb5c12d7-7589-4e7d-bcfb-e683714c6778"
      },
      "execution_count": 29,
      "outputs": [
        {
          "output_type": "execute_result",
          "data": {
            "text/plain": [
              "Pipeline(steps=[('vect', CountVectorizer(ngram_range=(1, 3))),\n",
              "                ('tfidf', TfidfTransformer()),\n",
              "                ('clf', DecisionTreeClassifier())])"
            ]
          },
          "metadata": {},
          "execution_count": 29
        }
      ]
    },
    {
      "cell_type": "code",
      "source": [
        "Y_pred = dtc.predict(X_test)"
      ],
      "metadata": {
        "id": "dMCm1QeFKL_V"
      },
      "execution_count": 30,
      "outputs": []
    },
    {
      "cell_type": "code",
      "source": [
        "print('accuracy %s' % accuracy_score(Y_pred, Y_test))\n",
        "print(classification_report(Y_test, Y_pred))"
      ],
      "metadata": {
        "colab": {
          "base_uri": "https://localhost:8080/"
        },
        "id": "BbHYhntpOJRf",
        "outputId": "a2fa1a75-b098-4b09-b671-ac1cac436795"
      },
      "execution_count": 31,
      "outputs": [
        {
          "output_type": "stream",
          "name": "stdout",
          "text": [
            "accuracy 0.5444292028654169\n",
            "                        precision    recall  f1-score   support\n",
            "\n",
            "       Adventure novel       0.80      0.72      0.76       211\n",
            "             Biography       0.78      0.79      0.78       112\n",
            " Children's literature       0.23      0.25      0.24       330\n",
            "               Fantasy       0.43      0.44      0.43       361\n",
            "                Horror       0.74      0.68      0.71       299\n",
            "      Literary fiction       0.77      0.66      0.71        85\n",
            "                Memoir       0.74      0.81      0.78       145\n",
            "               Mystery       0.47      0.51      0.49       452\n",
            "           Non-fiction       0.72      0.79      0.75       466\n",
            "                 Novel       0.17      0.17      0.17       296\n",
            "            Philosophy       0.90      0.73      0.81        74\n",
            "          Picture book       0.63      0.72      0.67       162\n",
            "         Romance novel       0.60      0.57      0.58       213\n",
            "       Science Fiction       0.43      0.38      0.41       283\n",
            "           Short story       0.65      0.67      0.66       107\n",
            "           Spy fiction       0.79      0.78      0.79       312\n",
            "     Sword and sorcery       0.95      0.98      0.97        63\n",
            "       Techno-thriller       0.78      0.64      0.70       131\n",
            "              Thriller       0.35      0.37      0.36       343\n",
            "         Urban fantasy       0.82      0.72      0.77        76\n",
            "Young adult literature       0.35      0.34      0.34       191\n",
            "         autobiography       0.70      0.75      0.72       443\n",
            "                comedy       0.71      0.72      0.72       473\n",
            "               fiction       0.24      0.23      0.24       512\n",
            "            historical       0.45      0.42      0.43       421\n",
            "\n",
            "              accuracy                           0.54      6561\n",
            "             macro avg       0.61      0.59      0.60      6561\n",
            "          weighted avg       0.55      0.54      0.54      6561\n",
            "\n"
          ]
        }
      ]
    },
    {
      "cell_type": "markdown",
      "source": [
        "## K - Nearest Neighbours Classifier"
      ],
      "metadata": {
        "id": "-NWTXr1ROVIT"
      }
    },
    {
      "cell_type": "code",
      "source": [
        "from sklearn.neighbors import KNeighborsClassifier\n",
        "\n",
        "knc = Pipeline([('vect', CountVectorizer(ngram_range=(1,3))),\n",
        "                ('tfidf', TfidfTransformer()),\n",
        "                ('clf', KNeighborsClassifier(3)),\n",
        "               ])\n",
        "knc.fit(X_train, Y_train)"
      ],
      "metadata": {
        "colab": {
          "base_uri": "https://localhost:8080/"
        },
        "id": "d8OjgosJOLys",
        "outputId": "fd301b3b-ca7f-4c62-f606-472bd168c210"
      },
      "execution_count": 9,
      "outputs": [
        {
          "output_type": "execute_result",
          "data": {
            "text/plain": [
              "Pipeline(steps=[('vect', CountVectorizer(ngram_range=(1, 3))),\n",
              "                ('tfidf', TfidfTransformer()),\n",
              "                ('clf', KNeighborsClassifier(n_neighbors=3))])"
            ]
          },
          "metadata": {},
          "execution_count": 9
        }
      ]
    },
    {
      "cell_type": "code",
      "source": [
        "Y_pred = knc.predict(X_test)"
      ],
      "metadata": {
        "id": "1QCtB7WvOlw2"
      },
      "execution_count": 11,
      "outputs": []
    },
    {
      "cell_type": "code",
      "source": [
        "print('accuracy %s' % accuracy_score(Y_pred, Y_test))\n",
        "print(classification_report(Y_test, Y_pred))"
      ],
      "metadata": {
        "colab": {
          "base_uri": "https://localhost:8080/"
        },
        "id": "vxPlfLYEPPet",
        "outputId": "214945cc-f0d7-4ddf-878e-1ff435a8075c"
      },
      "execution_count": 12,
      "outputs": [
        {
          "output_type": "stream",
          "name": "stdout",
          "text": [
            "accuracy 0.7067520195092212\n",
            "                        precision    recall  f1-score   support\n",
            "\n",
            "       Adventure novel       0.81      0.99      0.89       211\n",
            "             Biography       0.77      1.00      0.87       112\n",
            " Children's literature       0.30      0.44      0.35       330\n",
            "               Fantasy       0.52      0.63      0.57       361\n",
            "                Horror       0.88      0.99      0.93       299\n",
            "      Literary fiction       0.69      1.00      0.82        85\n",
            "                Memoir       0.82      1.00      0.90       145\n",
            "               Mystery       0.60      0.65      0.63       452\n",
            "           Non-fiction       0.78      1.00      0.88       466\n",
            "                 Novel       0.20      0.09      0.12       296\n",
            "            Philosophy       0.81      0.99      0.89        74\n",
            "          Picture book       0.90      0.96      0.93       162\n",
            "         Romance novel       0.85      1.00      0.92       213\n",
            "       Science Fiction       0.68      0.40      0.50       283\n",
            "           Short story       0.86      1.00      0.93       107\n",
            "           Spy fiction       0.90      1.00      0.95       312\n",
            "     Sword and sorcery       0.93      1.00      0.96        63\n",
            "       Techno-thriller       0.92      0.99      0.95       131\n",
            "              Thriller       0.55      0.32      0.41       343\n",
            "         Urban fantasy       0.85      1.00      0.92        76\n",
            "Young adult literature       0.43      0.31      0.36       191\n",
            "         autobiography       0.81      1.00      0.90       443\n",
            "                comedy       0.89      1.00      0.94       473\n",
            "               fiction       0.55      0.21      0.31       512\n",
            "            historical       0.60      0.47      0.53       421\n",
            "\n",
            "              accuracy                           0.71      6561\n",
            "             macro avg       0.72      0.78      0.73      6561\n",
            "          weighted avg       0.68      0.71      0.68      6561\n",
            "\n"
          ]
        }
      ]
    },
    {
      "cell_type": "markdown",
      "source": [
        "## SVC Classifier"
      ],
      "metadata": {
        "id": "L7jbfu3_PiIP"
      }
    },
    {
      "cell_type": "code",
      "source": [
        "from sklearn.svm import SVC\n",
        "\n",
        "svc = Pipeline([('vect', CountVectorizer(ngram_range=(1,3))),\n",
        "                ('tfidf', TfidfTransformer()),\n",
        "                ('clf', SVC(gamma=2, C=1)),\n",
        "               ])\n",
        "svc.fit(X_train, Y_train)"
      ],
      "metadata": {
        "colab": {
          "base_uri": "https://localhost:8080/"
        },
        "id": "H7aAzyPxPUsi",
        "outputId": "3a70444a-cc98-42ea-8de5-6f5203408015"
      },
      "execution_count": 13,
      "outputs": [
        {
          "output_type": "execute_result",
          "data": {
            "text/plain": [
              "Pipeline(steps=[('vect', CountVectorizer(ngram_range=(1, 3))),\n",
              "                ('tfidf', TfidfTransformer()), ('clf', SVC(C=1, gamma=2))])"
            ]
          },
          "metadata": {},
          "execution_count": 13
        }
      ]
    },
    {
      "cell_type": "code",
      "source": [
        "Y_pred = svc.predict(X_test)"
      ],
      "metadata": {
        "id": "AmJGvHqSPvKv"
      },
      "execution_count": 14,
      "outputs": []
    },
    {
      "cell_type": "code",
      "source": [
        "print('accuracy %s' % accuracy_score(Y_pred, Y_test))\n",
        "print(classification_report(Y_test, Y_pred))"
      ],
      "metadata": {
        "colab": {
          "base_uri": "https://localhost:8080/"
        },
        "id": "nEd8U1c6U9ej",
        "outputId": "a3ecc87d-beca-4f8c-db44-9a167e673d9b"
      },
      "execution_count": 15,
      "outputs": [
        {
          "output_type": "stream",
          "name": "stdout",
          "text": [
            "accuracy 0.6599603718945283\n",
            "                        precision    recall  f1-score   support\n",
            "\n",
            "       Adventure novel       1.00      0.62      0.77       211\n",
            "             Biography       1.00      0.46      0.63       112\n",
            " Children's literature       0.89      0.05      0.09       330\n",
            "               Fantasy       0.96      0.75      0.84       361\n",
            "                Horror       0.99      0.86      0.92       299\n",
            "      Literary fiction       1.00      0.34      0.51        85\n",
            "                Memoir       1.00      0.37      0.54       145\n",
            "               Mystery       0.97      0.79      0.87       452\n",
            "           Non-fiction       0.92      0.99      0.95       466\n",
            "                 Novel       0.00      0.00      0.00       296\n",
            "            Philosophy       1.00      0.18      0.30        74\n",
            "          Picture book       1.00      0.31      0.48       162\n",
            "         Romance novel       1.00      0.79      0.88       213\n",
            "       Science Fiction       1.00      0.19      0.33       283\n",
            "           Short story       1.00      0.36      0.52       107\n",
            "           Spy fiction       1.00      0.92      0.96       312\n",
            "     Sword and sorcery       0.98      0.78      0.87        63\n",
            "       Techno-thriller       1.00      0.37      0.54       131\n",
            "              Thriller       1.00      0.59      0.74       343\n",
            "         Urban fantasy       1.00      0.34      0.51        76\n",
            "Young adult literature       0.79      0.06      0.11       191\n",
            "         autobiography       0.85      0.99      0.91       443\n",
            "                comedy       0.94      0.99      0.97       473\n",
            "               fiction       0.20      0.95      0.33       512\n",
            "            historical       0.82      0.85      0.83       421\n",
            "\n",
            "              accuracy                           0.66      6561\n",
            "             macro avg       0.89      0.56      0.62      6561\n",
            "          weighted avg       0.84      0.66      0.66      6561\n",
            "\n"
          ]
        },
        {
          "output_type": "stream",
          "name": "stderr",
          "text": [
            "/usr/local/lib/python3.8/dist-packages/sklearn/metrics/_classification.py:1318: UndefinedMetricWarning: Precision and F-score are ill-defined and being set to 0.0 in labels with no predicted samples. Use `zero_division` parameter to control this behavior.\n",
            "  _warn_prf(average, modifier, msg_start, len(result))\n",
            "/usr/local/lib/python3.8/dist-packages/sklearn/metrics/_classification.py:1318: UndefinedMetricWarning: Precision and F-score are ill-defined and being set to 0.0 in labels with no predicted samples. Use `zero_division` parameter to control this behavior.\n",
            "  _warn_prf(average, modifier, msg_start, len(result))\n",
            "/usr/local/lib/python3.8/dist-packages/sklearn/metrics/_classification.py:1318: UndefinedMetricWarning: Precision and F-score are ill-defined and being set to 0.0 in labels with no predicted samples. Use `zero_division` parameter to control this behavior.\n",
            "  _warn_prf(average, modifier, msg_start, len(result))\n"
          ]
        }
      ]
    },
    {
      "cell_type": "code",
      "source": [],
      "metadata": {
        "id": "Ht4gSX9bW47a"
      },
      "execution_count": null,
      "outputs": []
    }
  ]
}
{
 "cells": [
  {
   "cell_type": "code",
   "execution_count": null,
   "metadata": {
    "id": "jyUlqPo583ap"
   },
   "outputs": [],
   "source": [
    "import pandas as pd"
   ]
  },
  {
   "cell_type": "code",
   "execution_count": null,
   "metadata": {
    "colab": {
     "base_uri": "https://localhost:8080/",
     "height": 424
    },
    "id": "w2Ez2Dlo_F7O",
    "outputId": "aa78f61f-e2b2-4213-c0e2-482e9055c2b9"
   },
   "outputs": [
    {
     "data": {
      "text/html": [
       "\n",
       "  <div id=\"df-6e5ae1a7-b3c3-4ff6-a74d-08a91ffc752e\">\n",
       "    <div class=\"colab-df-container\">\n",
       "      <div>\n",
       "<style scoped>\n",
       "    .dataframe tbody tr th:only-of-type {\n",
       "        vertical-align: middle;\n",
       "    }\n",
       "\n",
       "    .dataframe tbody tr th {\n",
       "        vertical-align: top;\n",
       "    }\n",
       "\n",
       "    .dataframe thead th {\n",
       "        text-align: right;\n",
       "    }\n",
       "</style>\n",
       "<table border=\"1\" class=\"dataframe\">\n",
       "  <thead>\n",
       "    <tr style=\"text-align: right;\">\n",
       "      <th></th>\n",
       "      <th>Unnamed: 0</th>\n",
       "      <th>Name</th>\n",
       "      <th>Genres</th>\n",
       "      <th>Summary</th>\n",
       "    </tr>\n",
       "  </thead>\n",
       "  <tbody>\n",
       "    <tr>\n",
       "      <th>0</th>\n",
       "      <td>1</td>\n",
       "      <td>A Clockwork Orange</td>\n",
       "      <td>Science Fiction</td>\n",
       "      <td>Alex, a teenager living in near-future Englan...</td>\n",
       "    </tr>\n",
       "    <tr>\n",
       "      <th>1</th>\n",
       "      <td>6</td>\n",
       "      <td>A Wizard of Earthsea</td>\n",
       "      <td>Children's literature</td>\n",
       "      <td>Ged is a young boy on Gont, one of the larger...</td>\n",
       "    </tr>\n",
       "    <tr>\n",
       "      <th>2</th>\n",
       "      <td>8</td>\n",
       "      <td>Blade Runner 3: Replicant Night</td>\n",
       "      <td>Science Fiction</td>\n",
       "      <td>Living on Mars, Deckard is acting as a consul...</td>\n",
       "    </tr>\n",
       "    <tr>\n",
       "      <th>3</th>\n",
       "      <td>9</td>\n",
       "      <td>Blade Runner 2: The Edge of Human</td>\n",
       "      <td>Science Fiction</td>\n",
       "      <td>Beginning several months after the events in ...</td>\n",
       "    </tr>\n",
       "    <tr>\n",
       "      <th>4</th>\n",
       "      <td>21</td>\n",
       "      <td>Children of Dune</td>\n",
       "      <td>Science Fiction</td>\n",
       "      <td>Nine years after Emperor Paul Muad'dib walked...</td>\n",
       "    </tr>\n",
       "    <tr>\n",
       "      <th>...</th>\n",
       "      <td>...</td>\n",
       "      <td>...</td>\n",
       "      <td>...</td>\n",
       "      <td>...</td>\n",
       "    </tr>\n",
       "    <tr>\n",
       "      <th>8794</th>\n",
       "      <td>16541</td>\n",
       "      <td>Nevermore: The Final Maximum Ride Adventure</td>\n",
       "      <td>Young adult literature</td>\n",
       "      <td>The prologue is Angel's vision of Max's death...</td>\n",
       "    </tr>\n",
       "    <tr>\n",
       "      <th>8795</th>\n",
       "      <td>16542</td>\n",
       "      <td>The Bourne Imperative</td>\n",
       "      <td>Thriller</td>\n",
       "      <td>:For a more detailed background of the main c...</td>\n",
       "    </tr>\n",
       "    <tr>\n",
       "      <th>8796</th>\n",
       "      <td>16551</td>\n",
       "      <td>Remote Control</td>\n",
       "      <td>Thriller</td>\n",
       "      <td>The series follows the character of Nick Ston...</td>\n",
       "    </tr>\n",
       "    <tr>\n",
       "      <th>8797</th>\n",
       "      <td>16555</td>\n",
       "      <td>Transfer of Power</td>\n",
       "      <td>Thriller</td>\n",
       "      <td>The reader first meets Rapp while he is doing...</td>\n",
       "    </tr>\n",
       "    <tr>\n",
       "      <th>8798</th>\n",
       "      <td>16556</td>\n",
       "      <td>Decoded</td>\n",
       "      <td>autobiography</td>\n",
       "      <td>The book follows very rough chronological ord...</td>\n",
       "    </tr>\n",
       "  </tbody>\n",
       "</table>\n",
       "<p>8799 rows × 4 columns</p>\n",
       "</div>\n",
       "      <button class=\"colab-df-convert\" onclick=\"convertToInteractive('df-6e5ae1a7-b3c3-4ff6-a74d-08a91ffc752e')\"\n",
       "              title=\"Convert this dataframe to an interactive table.\"\n",
       "              style=\"display:none;\">\n",
       "        \n",
       "  <svg xmlns=\"http://www.w3.org/2000/svg\" height=\"24px\"viewBox=\"0 0 24 24\"\n",
       "       width=\"24px\">\n",
       "    <path d=\"M0 0h24v24H0V0z\" fill=\"none\"/>\n",
       "    <path d=\"M18.56 5.44l.94 2.06.94-2.06 2.06-.94-2.06-.94-.94-2.06-.94 2.06-2.06.94zm-11 1L8.5 8.5l.94-2.06 2.06-.94-2.06-.94L8.5 2.5l-.94 2.06-2.06.94zm10 10l.94 2.06.94-2.06 2.06-.94-2.06-.94-.94-2.06-.94 2.06-2.06.94z\"/><path d=\"M17.41 7.96l-1.37-1.37c-.4-.4-.92-.59-1.43-.59-.52 0-1.04.2-1.43.59L10.3 9.45l-7.72 7.72c-.78.78-.78 2.05 0 2.83L4 21.41c.39.39.9.59 1.41.59.51 0 1.02-.2 1.41-.59l7.78-7.78 2.81-2.81c.8-.78.8-2.07 0-2.86zM5.41 20L4 18.59l7.72-7.72 1.47 1.35L5.41 20z\"/>\n",
       "  </svg>\n",
       "      </button>\n",
       "      \n",
       "  <style>\n",
       "    .colab-df-container {\n",
       "      display:flex;\n",
       "      flex-wrap:wrap;\n",
       "      gap: 12px;\n",
       "    }\n",
       "\n",
       "    .colab-df-convert {\n",
       "      background-color: #E8F0FE;\n",
       "      border: none;\n",
       "      border-radius: 50%;\n",
       "      cursor: pointer;\n",
       "      display: none;\n",
       "      fill: #1967D2;\n",
       "      height: 32px;\n",
       "      padding: 0 0 0 0;\n",
       "      width: 32px;\n",
       "    }\n",
       "\n",
       "    .colab-df-convert:hover {\n",
       "      background-color: #E2EBFA;\n",
       "      box-shadow: 0px 1px 2px rgba(60, 64, 67, 0.3), 0px 1px 3px 1px rgba(60, 64, 67, 0.15);\n",
       "      fill: #174EA6;\n",
       "    }\n",
       "\n",
       "    [theme=dark] .colab-df-convert {\n",
       "      background-color: #3B4455;\n",
       "      fill: #D2E3FC;\n",
       "    }\n",
       "\n",
       "    [theme=dark] .colab-df-convert:hover {\n",
       "      background-color: #434B5C;\n",
       "      box-shadow: 0px 1px 3px 1px rgba(0, 0, 0, 0.15);\n",
       "      filter: drop-shadow(0px 1px 2px rgba(0, 0, 0, 0.3));\n",
       "      fill: #FFFFFF;\n",
       "    }\n",
       "  </style>\n",
       "\n",
       "      <script>\n",
       "        const buttonEl =\n",
       "          document.querySelector('#df-6e5ae1a7-b3c3-4ff6-a74d-08a91ffc752e button.colab-df-convert');\n",
       "        buttonEl.style.display =\n",
       "          google.colab.kernel.accessAllowed ? 'block' : 'none';\n",
       "\n",
       "        async function convertToInteractive(key) {\n",
       "          const element = document.querySelector('#df-6e5ae1a7-b3c3-4ff6-a74d-08a91ffc752e');\n",
       "          const dataTable =\n",
       "            await google.colab.kernel.invokeFunction('convertToInteractive',\n",
       "                                                     [key], {});\n",
       "          if (!dataTable) return;\n",
       "\n",
       "          const docLinkHtml = 'Like what you see? Visit the ' +\n",
       "            '<a target=\"_blank\" href=https://colab.research.google.com/notebooks/data_table.ipynb>data table notebook</a>'\n",
       "            + ' to learn more about interactive tables.';\n",
       "          element.innerHTML = '';\n",
       "          dataTable['output_type'] = 'display_data';\n",
       "          await google.colab.output.renderOutput(dataTable, element);\n",
       "          const docLink = document.createElement('div');\n",
       "          docLink.innerHTML = docLinkHtml;\n",
       "          element.appendChild(docLink);\n",
       "        }\n",
       "      </script>\n",
       "    </div>\n",
       "  </div>\n",
       "  "
      ],
      "text/plain": [
       "      Unnamed: 0                                         Name  \\\n",
       "0              1                           A Clockwork Orange   \n",
       "1              6                         A Wizard of Earthsea   \n",
       "2              8              Blade Runner 3: Replicant Night   \n",
       "3              9            Blade Runner 2: The Edge of Human   \n",
       "4             21                             Children of Dune   \n",
       "...          ...                                          ...   \n",
       "8794       16541  Nevermore: The Final Maximum Ride Adventure   \n",
       "8795       16542                        The Bourne Imperative   \n",
       "8796       16551                               Remote Control   \n",
       "8797       16555                            Transfer of Power   \n",
       "8798       16556                                      Decoded   \n",
       "\n",
       "                      Genres  \\\n",
       "0            Science Fiction   \n",
       "1      Children's literature   \n",
       "2            Science Fiction   \n",
       "3            Science Fiction   \n",
       "4            Science Fiction   \n",
       "...                      ...   \n",
       "8794  Young adult literature   \n",
       "8795                Thriller   \n",
       "8796                Thriller   \n",
       "8797                Thriller   \n",
       "8798           autobiography   \n",
       "\n",
       "                                                Summary  \n",
       "0      Alex, a teenager living in near-future Englan...  \n",
       "1      Ged is a young boy on Gont, one of the larger...  \n",
       "2      Living on Mars, Deckard is acting as a consul...  \n",
       "3      Beginning several months after the events in ...  \n",
       "4      Nine years after Emperor Paul Muad'dib walked...  \n",
       "...                                                 ...  \n",
       "8794   The prologue is Angel's vision of Max's death...  \n",
       "8795   :For a more detailed background of the main c...  \n",
       "8796   The series follows the character of Nick Ston...  \n",
       "8797   The reader first meets Rapp while he is doing...  \n",
       "8798   The book follows very rough chronological ord...  \n",
       "\n",
       "[8799 rows x 4 columns]"
      ]
     },
     "execution_count": 20,
     "metadata": {},
     "output_type": "execute_result"
    }
   ],
   "source": [
    "df=pd.read_csv('/content/ds_beforeduplication.csv')\n",
    "df"
   ]
  },
  {
   "cell_type": "code",
   "execution_count": null,
   "metadata": {
    "colab": {
     "base_uri": "https://localhost:8080/",
     "height": 424
    },
    "id": "P2SIKtSr-2_8",
    "outputId": "73172383-1798-4d19-e2dd-9caa8825540d"
   },
   "outputs": [
    {
     "data": {
      "text/html": [
       "\n",
       "  <div id=\"df-6e4f8112-4ea4-4a69-9dc4-dfa505c7b104\">\n",
       "    <div class=\"colab-df-container\">\n",
       "      <div>\n",
       "<style scoped>\n",
       "    .dataframe tbody tr th:only-of-type {\n",
       "        vertical-align: middle;\n",
       "    }\n",
       "\n",
       "    .dataframe tbody tr th {\n",
       "        vertical-align: top;\n",
       "    }\n",
       "\n",
       "    .dataframe thead th {\n",
       "        text-align: right;\n",
       "    }\n",
       "</style>\n",
       "<table border=\"1\" class=\"dataframe\">\n",
       "  <thead>\n",
       "    <tr style=\"text-align: right;\">\n",
       "      <th></th>\n",
       "      <th>Unnamed: 0</th>\n",
       "      <th>Unnamed: 0.1</th>\n",
       "      <th>Name</th>\n",
       "      <th>Genres</th>\n",
       "      <th>Summary</th>\n",
       "    </tr>\n",
       "  </thead>\n",
       "  <tbody>\n",
       "    <tr>\n",
       "      <th>0</th>\n",
       "      <td>0</td>\n",
       "      <td>1</td>\n",
       "      <td>A Clockwork Orange</td>\n",
       "      <td>Science Fiction</td>\n",
       "      <td>alex teenager living near future england lead...</td>\n",
       "    </tr>\n",
       "    <tr>\n",
       "      <th>1</th>\n",
       "      <td>1</td>\n",
       "      <td>6</td>\n",
       "      <td>A Wizard of Earthsea</td>\n",
       "      <td>Children's literature</td>\n",
       "      <td>ged young boy gont one larger islands north a...</td>\n",
       "    </tr>\n",
       "    <tr>\n",
       "      <th>2</th>\n",
       "      <td>2</td>\n",
       "      <td>8</td>\n",
       "      <td>Blade Runner 3: Replicant Night</td>\n",
       "      <td>Science Fiction</td>\n",
       "      <td>living mars deckard acting consultant movie c...</td>\n",
       "    </tr>\n",
       "    <tr>\n",
       "      <th>3</th>\n",
       "      <td>3</td>\n",
       "      <td>9</td>\n",
       "      <td>Blade Runner 2: The Edge of Human</td>\n",
       "      <td>Science Fiction</td>\n",
       "      <td>beginning several months events blade runner ...</td>\n",
       "    </tr>\n",
       "    <tr>\n",
       "      <th>4</th>\n",
       "      <td>4</td>\n",
       "      <td>21</td>\n",
       "      <td>Children of Dune</td>\n",
       "      <td>Science Fiction</td>\n",
       "      <td>nine years emperor paul muad dib walked deser...</td>\n",
       "    </tr>\n",
       "    <tr>\n",
       "      <th>...</th>\n",
       "      <td>...</td>\n",
       "      <td>...</td>\n",
       "      <td>...</td>\n",
       "      <td>...</td>\n",
       "      <td>...</td>\n",
       "    </tr>\n",
       "    <tr>\n",
       "      <th>21864</th>\n",
       "      <td>21864</td>\n",
       "      <td>16414</td>\n",
       "      <td>Carver</td>\n",
       "      <td>Thriller</td>\n",
       "      <td>central character samuel carver ex assassin s...</td>\n",
       "    </tr>\n",
       "    <tr>\n",
       "      <th>21865</th>\n",
       "      <td>21865</td>\n",
       "      <td>16442</td>\n",
       "      <td>Rabies</td>\n",
       "      <td>Thriller</td>\n",
       "      <td>seth betimes 1980s height insensate war novel...</td>\n",
       "    </tr>\n",
       "    <tr>\n",
       "      <th>21866</th>\n",
       "      <td>21866</td>\n",
       "      <td>16542</td>\n",
       "      <td>The Bourne Imperative</td>\n",
       "      <td>Thriller</td>\n",
       "      <td>detailed background main character see jason ...</td>\n",
       "    </tr>\n",
       "    <tr>\n",
       "      <th>21867</th>\n",
       "      <td>21867</td>\n",
       "      <td>16551</td>\n",
       "      <td>Remote Control</td>\n",
       "      <td>Thriller</td>\n",
       "      <td>series follows character nick stone ex milita...</td>\n",
       "    </tr>\n",
       "    <tr>\n",
       "      <th>21868</th>\n",
       "      <td>21868</td>\n",
       "      <td>16555</td>\n",
       "      <td>Transfer of Power</td>\n",
       "      <td>Thriller</td>\n",
       "      <td>reader first base meets rapp covert operation...</td>\n",
       "    </tr>\n",
       "  </tbody>\n",
       "</table>\n",
       "<p>21869 rows × 5 columns</p>\n",
       "</div>\n",
       "      <button class=\"colab-df-convert\" onclick=\"convertToInteractive('df-6e4f8112-4ea4-4a69-9dc4-dfa505c7b104')\"\n",
       "              title=\"Convert this dataframe to an interactive table.\"\n",
       "              style=\"display:none;\">\n",
       "        \n",
       "  <svg xmlns=\"http://www.w3.org/2000/svg\" height=\"24px\"viewBox=\"0 0 24 24\"\n",
       "       width=\"24px\">\n",
       "    <path d=\"M0 0h24v24H0V0z\" fill=\"none\"/>\n",
       "    <path d=\"M18.56 5.44l.94 2.06.94-2.06 2.06-.94-2.06-.94-.94-2.06-.94 2.06-2.06.94zm-11 1L8.5 8.5l.94-2.06 2.06-.94-2.06-.94L8.5 2.5l-.94 2.06-2.06.94zm10 10l.94 2.06.94-2.06 2.06-.94-2.06-.94-.94-2.06-.94 2.06-2.06.94z\"/><path d=\"M17.41 7.96l-1.37-1.37c-.4-.4-.92-.59-1.43-.59-.52 0-1.04.2-1.43.59L10.3 9.45l-7.72 7.72c-.78.78-.78 2.05 0 2.83L4 21.41c.39.39.9.59 1.41.59.51 0 1.02-.2 1.41-.59l7.78-7.78 2.81-2.81c.8-.78.8-2.07 0-2.86zM5.41 20L4 18.59l7.72-7.72 1.47 1.35L5.41 20z\"/>\n",
       "  </svg>\n",
       "      </button>\n",
       "      \n",
       "  <style>\n",
       "    .colab-df-container {\n",
       "      display:flex;\n",
       "      flex-wrap:wrap;\n",
       "      gap: 12px;\n",
       "    }\n",
       "\n",
       "    .colab-df-convert {\n",
       "      background-color: #E8F0FE;\n",
       "      border: none;\n",
       "      border-radius: 50%;\n",
       "      cursor: pointer;\n",
       "      display: none;\n",
       "      fill: #1967D2;\n",
       "      height: 32px;\n",
       "      padding: 0 0 0 0;\n",
       "      width: 32px;\n",
       "    }\n",
       "\n",
       "    .colab-df-convert:hover {\n",
       "      background-color: #E2EBFA;\n",
       "      box-shadow: 0px 1px 2px rgba(60, 64, 67, 0.3), 0px 1px 3px 1px rgba(60, 64, 67, 0.15);\n",
       "      fill: #174EA6;\n",
       "    }\n",
       "\n",
       "    [theme=dark] .colab-df-convert {\n",
       "      background-color: #3B4455;\n",
       "      fill: #D2E3FC;\n",
       "    }\n",
       "\n",
       "    [theme=dark] .colab-df-convert:hover {\n",
       "      background-color: #434B5C;\n",
       "      box-shadow: 0px 1px 3px 1px rgba(0, 0, 0, 0.15);\n",
       "      filter: drop-shadow(0px 1px 2px rgba(0, 0, 0, 0.3));\n",
       "      fill: #FFFFFF;\n",
       "    }\n",
       "  </style>\n",
       "\n",
       "      <script>\n",
       "        const buttonEl =\n",
       "          document.querySelector('#df-6e4f8112-4ea4-4a69-9dc4-dfa505c7b104 button.colab-df-convert');\n",
       "        buttonEl.style.display =\n",
       "          google.colab.kernel.accessAllowed ? 'block' : 'none';\n",
       "\n",
       "        async function convertToInteractive(key) {\n",
       "          const element = document.querySelector('#df-6e4f8112-4ea4-4a69-9dc4-dfa505c7b104');\n",
       "          const dataTable =\n",
       "            await google.colab.kernel.invokeFunction('convertToInteractive',\n",
       "                                                     [key], {});\n",
       "          if (!dataTable) return;\n",
       "\n",
       "          const docLinkHtml = 'Like what you see? Visit the ' +\n",
       "            '<a target=\"_blank\" href=https://colab.research.google.com/notebooks/data_table.ipynb>data table notebook</a>'\n",
       "            + ' to learn more about interactive tables.';\n",
       "          element.innerHTML = '';\n",
       "          dataTable['output_type'] = 'display_data';\n",
       "          await google.colab.output.renderOutput(dataTable, element);\n",
       "          const docLink = document.createElement('div');\n",
       "          docLink.innerHTML = docLinkHtml;\n",
       "          element.appendChild(docLink);\n",
       "        }\n",
       "      </script>\n",
       "    </div>\n",
       "  </div>\n",
       "  "
      ],
      "text/plain": [
       "       Unnamed: 0  Unnamed: 0.1                               Name  \\\n",
       "0               0             1                 A Clockwork Orange   \n",
       "1               1             6               A Wizard of Earthsea   \n",
       "2               2             8    Blade Runner 3: Replicant Night   \n",
       "3               3             9  Blade Runner 2: The Edge of Human   \n",
       "4               4            21                   Children of Dune   \n",
       "...           ...           ...                                ...   \n",
       "21864       21864         16414                             Carver   \n",
       "21865       21865         16442                             Rabies   \n",
       "21866       21866         16542              The Bourne Imperative   \n",
       "21867       21867         16551                     Remote Control   \n",
       "21868       21868         16555                  Transfer of Power   \n",
       "\n",
       "                      Genres  \\\n",
       "0            Science Fiction   \n",
       "1      Children's literature   \n",
       "2            Science Fiction   \n",
       "3            Science Fiction   \n",
       "4            Science Fiction   \n",
       "...                      ...   \n",
       "21864               Thriller   \n",
       "21865               Thriller   \n",
       "21866               Thriller   \n",
       "21867               Thriller   \n",
       "21868               Thriller   \n",
       "\n",
       "                                                 Summary  \n",
       "0       alex teenager living near future england lead...  \n",
       "1       ged young boy gont one larger islands north a...  \n",
       "2       living mars deckard acting consultant movie c...  \n",
       "3       beginning several months events blade runner ...  \n",
       "4       nine years emperor paul muad dib walked deser...  \n",
       "...                                                  ...  \n",
       "21864   central character samuel carver ex assassin s...  \n",
       "21865   seth betimes 1980s height insensate war novel...  \n",
       "21866   detailed background main character see jason ...  \n",
       "21867   series follows character nick stone ex milita...  \n",
       "21868   reader first base meets rapp covert operation...  \n",
       "\n",
       "[21869 rows x 5 columns]"
      ]
     },
     "execution_count": 21,
     "metadata": {},
     "output_type": "execute_result"
    }
   ],
   "source": [
    "dfAug=pd.read_csv('/content/augmentedDataWithoutStemming.csv')\n",
    "dfAug"
   ]
  },
  {
   "cell_type": "code",
   "execution_count": null,
   "metadata": {
    "colab": {
     "base_uri": "https://localhost:8080/"
    },
    "id": "rFZ7tyRN-9ta",
    "outputId": "23167d01-f526-45e7-d9a7-c7bb37c92c40"
   },
   "outputs": [
    {
     "data": {
      "text/plain": [
       "((8799,), (8799,))"
      ]
     },
     "execution_count": 22,
     "metadata": {},
     "output_type": "execute_result"
    }
   ],
   "source": [
    "X=df.Summary\n",
    "Y=df.Genres.values\n",
    "X.shape, Y.shape"
   ]
  },
  {
   "cell_type": "code",
   "execution_count": null,
   "metadata": {
    "colab": {
     "base_uri": "https://localhost:8080/"
    },
    "id": "kDMK11wp_WNt",
    "outputId": "d4c54aaf-cf28-4f93-e7b7-77b794821dbc"
   },
   "outputs": [
    {
     "data": {
      "text/plain": [
       "((21869,), (21869,))"
      ]
     },
     "execution_count": 23,
     "metadata": {},
     "output_type": "execute_result"
    }
   ],
   "source": [
    "XAug=dfAug.Summary\n",
    "YAug=dfAug.Genres.values\n",
    "XAug.shape, YAug.shape"
   ]
  },
  {
   "cell_type": "code",
   "execution_count": null,
   "metadata": {
    "id": "ZEKn8-Bi_Y7P"
   },
   "outputs": [],
   "source": [
    "from sklearn.model_selection import train_test_split\n",
    "from sklearn.metrics import accuracy_score, confusion_matrix\n",
    "from sklearn.pipeline import Pipeline\n",
    "from sklearn.feature_extraction.text import CountVectorizer, TfidfVectorizer\n",
    "from sklearn.feature_extraction.text import TfidfTransformer\n",
    "from sklearn.metrics import classification_report"
   ]
  },
  {
   "cell_type": "code",
   "execution_count": null,
   "metadata": {
    "id": "wurrlTqa_cRk"
   },
   "outputs": [],
   "source": [
    "X_train, X_test, Y_train, Y_test = train_test_split(X, Y, test_size=0.3, random_state = 42)"
   ]
  },
  {
   "cell_type": "code",
   "execution_count": null,
   "metadata": {
    "id": "-59Cr5L9_epA"
   },
   "outputs": [],
   "source": [
    "XAug_train, XAug_test, YAug_train, YAug_test = train_test_split(XAug, YAug, test_size=0.3, random_state = 42)"
   ]
  },
  {
   "cell_type": "markdown",
   "metadata": {
    "id": "jBjayqRv_n4i"
   },
   "source": [
    "# SGD Classifier:"
   ]
  },
  {
   "cell_type": "code",
   "execution_count": null,
   "metadata": {
    "id": "ftGICc4J_nXE"
   },
   "outputs": [],
   "source": [
    "from sklearn.linear_model import SGDClassifier\n",
    "\n",
    "sgd = Pipeline([('vect', CountVectorizer(ngram_range=(1,3))),\n",
    "                ('tfidf', TfidfTransformer()),\n",
    "                ('clf', SGDClassifier(loss='hinge', penalty='l2',alpha=1e-3, random_state=42, max_iter=5, tol=None)),\n",
    "               ])"
   ]
  },
  {
   "cell_type": "code",
   "execution_count": null,
   "metadata": {
    "colab": {
     "base_uri": "https://localhost:8080/"
    },
    "id": "_zv6-ayD_jr8",
    "outputId": "0179246b-9800-4abe-f30f-fb2d649b19ac"
   },
   "outputs": [
    {
     "data": {
      "text/plain": [
       "Pipeline(steps=[('vect', CountVectorizer(ngram_range=(1, 3))),\n",
       "                ('tfidf', TfidfTransformer()),\n",
       "                ('clf',\n",
       "                 SGDClassifier(alpha=0.001, max_iter=5, random_state=42,\n",
       "                               tol=None))])"
      ]
     },
     "execution_count": 28,
     "metadata": {},
     "output_type": "execute_result"
    }
   ],
   "source": [
    "sgd.fit(X_train, Y_train)"
   ]
  },
  {
   "cell_type": "code",
   "execution_count": null,
   "metadata": {
    "id": "Vm9Xy-qV_8bc"
   },
   "outputs": [],
   "source": [
    "Y_pred = sgd.predict(X_test)"
   ]
  },
  {
   "cell_type": "code",
   "execution_count": null,
   "metadata": {
    "colab": {
     "base_uri": "https://localhost:8080/"
    },
    "id": "neItkPjk__Bu",
    "outputId": "37580d57-c6fb-4da8-ec68-61f01a024611"
   },
   "outputs": [
    {
     "name": "stdout",
     "output_type": "stream",
     "text": [
      "accuracy 0.5037878787878788\n",
      "                        precision    recall  f1-score   support\n",
      "\n",
      "       Adventure novel       1.00      0.31      0.47        13\n",
      "             Biography       1.00      0.09      0.17        11\n",
      " Children's literature       0.54      0.69      0.61       337\n",
      "               Fantasy       0.62      0.34      0.44       195\n",
      "                Horror       0.27      0.11      0.15        28\n",
      "      Literary fiction       0.00      0.00      0.00         6\n",
      "                Memoir       0.00      0.00      0.00        14\n",
      "               Mystery       0.76      0.51      0.61       248\n",
      "           Non-fiction       0.57      0.33      0.42        51\n",
      "                 Novel       0.34      0.21      0.26       267\n",
      "            Philosophy       0.00      0.00      0.00         8\n",
      "          Picture book       0.00      0.00      0.00         8\n",
      "         Romance novel       1.00      0.07      0.13        14\n",
      "       Science Fiction       0.45      0.88      0.60       297\n",
      "           Short story       0.00      0.00      0.00         7\n",
      "           Spy fiction       0.81      0.66      0.72        32\n",
      "     Sword and sorcery       1.00      0.40      0.57         5\n",
      "       Techno-thriller       0.00      0.00      0.00        14\n",
      "              Thriller       0.66      0.29      0.40       171\n",
      "         Urban fantasy       0.80      0.33      0.47        12\n",
      "Young adult literature       0.56      0.27      0.36        89\n",
      "         autobiography       0.57      0.08      0.14        49\n",
      "                comedy       0.83      0.16      0.27        63\n",
      "               fiction       0.47      0.63      0.54       502\n",
      "            historical       0.44      0.66      0.53       199\n",
      "\n",
      "              accuracy                           0.50      2640\n",
      "             macro avg       0.51      0.28      0.31      2640\n",
      "          weighted avg       0.53      0.50      0.47      2640\n",
      "\n"
     ]
    },
    {
     "name": "stderr",
     "output_type": "stream",
     "text": [
      "/usr/local/lib/python3.8/dist-packages/sklearn/metrics/_classification.py:1318: UndefinedMetricWarning: Precision and F-score are ill-defined and being set to 0.0 in labels with no predicted samples. Use `zero_division` parameter to control this behavior.\n",
      "  _warn_prf(average, modifier, msg_start, len(result))\n",
      "/usr/local/lib/python3.8/dist-packages/sklearn/metrics/_classification.py:1318: UndefinedMetricWarning: Precision and F-score are ill-defined and being set to 0.0 in labels with no predicted samples. Use `zero_division` parameter to control this behavior.\n",
      "  _warn_prf(average, modifier, msg_start, len(result))\n",
      "/usr/local/lib/python3.8/dist-packages/sklearn/metrics/_classification.py:1318: UndefinedMetricWarning: Precision and F-score are ill-defined and being set to 0.0 in labels with no predicted samples. Use `zero_division` parameter to control this behavior.\n",
      "  _warn_prf(average, modifier, msg_start, len(result))\n"
     ]
    }
   ],
   "source": [
    "print('accuracy %s' % accuracy_score(Y_pred, Y_test))\n",
    "print(classification_report(Y_test, Y_pred))"
   ]
  },
  {
   "cell_type": "code",
   "execution_count": null,
   "metadata": {
    "colab": {
     "base_uri": "https://localhost:8080/"
    },
    "id": "TVccEhb0AFKr",
    "outputId": "7333efff-1367-4c05-d7ba-ed9cdbe698e9"
   },
   "outputs": [
    {
     "data": {
      "text/plain": [
       "0.5037878787878788"
      ]
     },
     "execution_count": 31,
     "metadata": {},
     "output_type": "execute_result"
    }
   ],
   "source": [
    "accSGD = accuracy_score(Y_pred, Y_test)\n",
    "accSGD"
   ]
  },
  {
   "cell_type": "code",
   "execution_count": null,
   "metadata": {
    "colab": {
     "base_uri": "https://localhost:8080/"
    },
    "id": "zFr50yf9AfJb",
    "outputId": "4482a1f8-8c69-4af9-a63f-d5a383301462"
   },
   "outputs": [
    {
     "data": {
      "text/plain": [
       "Pipeline(steps=[('vect', CountVectorizer(ngram_range=(1, 3))),\n",
       "                ('tfidf', TfidfTransformer()),\n",
       "                ('clf',\n",
       "                 SGDClassifier(alpha=0.001, max_iter=5, random_state=42,\n",
       "                               tol=None))])"
      ]
     },
     "execution_count": 32,
     "metadata": {},
     "output_type": "execute_result"
    }
   ],
   "source": [
    "sgd.fit(XAug_train, YAug_train)"
   ]
  },
  {
   "cell_type": "code",
   "execution_count": null,
   "metadata": {
    "id": "ngHBlpIQAi_p"
   },
   "outputs": [],
   "source": [
    "YAug_pred = sgd.predict(XAug_test)"
   ]
  },
  {
   "cell_type": "code",
   "execution_count": null,
   "metadata": {
    "colab": {
     "base_uri": "https://localhost:8080/"
    },
    "id": "s0Sze_doAm38",
    "outputId": "499206f8-453b-44d0-a9da-2f111a721af4"
   },
   "outputs": [
    {
     "name": "stdout",
     "output_type": "stream",
     "text": [
      "accuracy 0.8425544886450236\n",
      "                        precision    recall  f1-score   support\n",
      "\n",
      "       Adventure novel       0.95      1.00      0.97       211\n",
      "             Biography       0.89      1.00      0.94       112\n",
      " Children's literature       0.69      0.53      0.60       330\n",
      "               Fantasy       0.84      0.84      0.84       361\n",
      "                Horror       0.92      1.00      0.96       299\n",
      "      Literary fiction       0.98      1.00      0.99        85\n",
      "                Memoir       0.95      1.00      0.97       145\n",
      "               Mystery       0.79      0.87      0.83       452\n",
      "           Non-fiction       0.90      1.00      0.95       466\n",
      "                 Novel       0.58      0.09      0.16       296\n",
      "            Philosophy       0.91      0.99      0.95        74\n",
      "          Picture book       0.96      0.97      0.97       162\n",
      "         Romance novel       0.89      1.00      0.94       213\n",
      "       Science Fiction       0.77      0.75      0.76       283\n",
      "           Short story       0.96      1.00      0.98       107\n",
      "           Spy fiction       0.91      0.99      0.95       312\n",
      "     Sword and sorcery       0.91      1.00      0.95        63\n",
      "       Techno-thriller       0.94      1.00      0.97       131\n",
      "              Thriller       0.86      0.78      0.82       343\n",
      "         Urban fantasy       0.93      1.00      0.96        76\n",
      "Young adult literature       0.82      0.74      0.78       191\n",
      "         autobiography       0.84      1.00      0.91       443\n",
      "                comedy       0.91      1.00      0.95       473\n",
      "               fiction       0.64      0.51      0.57       512\n",
      "            historical       0.72      0.90      0.80       421\n",
      "\n",
      "              accuracy                           0.84      6561\n",
      "             macro avg       0.86      0.88      0.86      6561\n",
      "          weighted avg       0.83      0.84      0.82      6561\n",
      "\n"
     ]
    }
   ],
   "source": [
    "print('accuracy %s' % accuracy_score(YAug_pred, YAug_test))\n",
    "print(classification_report(YAug_test, YAug_pred))"
   ]
  },
  {
   "cell_type": "code",
   "execution_count": null,
   "metadata": {
    "colab": {
     "base_uri": "https://localhost:8080/"
    },
    "id": "Wj8UvfSjArKW",
    "outputId": "2f9d4900-39ad-479b-f6f3-263dd3c32ad3"
   },
   "outputs": [
    {
     "data": {
      "text/plain": [
       "0.8425544886450236"
      ]
     },
     "execution_count": 35,
     "metadata": {},
     "output_type": "execute_result"
    }
   ],
   "source": [
    "accSGDAug = accuracy_score(YAug_pred, YAug_test)\n",
    "accSGDAug"
   ]
  },
  {
   "cell_type": "markdown",
   "metadata": {
    "id": "rax8G7HcA-B5"
   },
   "source": [
    "# LinearSVC Classifier:"
   ]
  },
  {
   "cell_type": "code",
   "execution_count": null,
   "metadata": {
    "id": "5_MGDqj3A9eJ"
   },
   "outputs": [],
   "source": [
    "from sklearn.svm import LinearSVC\n",
    "\n",
    "linear_svc = Pipeline([('vect', CountVectorizer(ngram_range=(1,2))),\n",
    "                ('tfidf', TfidfTransformer()),\n",
    "                ('clf', LinearSVC(random_state=0, tol=1e-5)),\n",
    "               ])"
   ]
  },
  {
   "cell_type": "code",
   "execution_count": null,
   "metadata": {
    "colab": {
     "base_uri": "https://localhost:8080/"
    },
    "id": "lfQK8eCRBLP0",
    "outputId": "029abe21-d85e-4ae8-b9c6-1ac82de3aa00"
   },
   "outputs": [
    {
     "data": {
      "text/plain": [
       "Pipeline(steps=[('vect', CountVectorizer(ngram_range=(1, 2))),\n",
       "                ('tfidf', TfidfTransformer()),\n",
       "                ('clf', LinearSVC(random_state=0, tol=1e-05))])"
      ]
     },
     "execution_count": 40,
     "metadata": {},
     "output_type": "execute_result"
    }
   ],
   "source": [
    "linear_svc.fit(X_train, Y_train)"
   ]
  },
  {
   "cell_type": "code",
   "execution_count": null,
   "metadata": {
    "id": "coj8tFpJBM1C"
   },
   "outputs": [],
   "source": [
    "Y_pred = linear_svc.predict(X_test)"
   ]
  },
  {
   "cell_type": "code",
   "execution_count": null,
   "metadata": {
    "colab": {
     "base_uri": "https://localhost:8080/"
    },
    "id": "bewjqHcABSNG",
    "outputId": "9e76305c-4fdc-4ffc-ca01-530e69d67c5a"
   },
   "outputs": [
    {
     "name": "stdout",
     "output_type": "stream",
     "text": [
      "accuracy 0.521969696969697\n",
      "                        precision    recall  f1-score   support\n",
      "\n",
      "       Adventure novel       1.00      0.38      0.56        13\n",
      "             Biography       1.00      0.09      0.17        11\n",
      " Children's literature       0.52      0.69      0.60       337\n",
      "               Fantasy       0.57      0.45      0.50       195\n",
      "                Horror       0.31      0.14      0.20        28\n",
      "      Literary fiction       0.00      0.00      0.00         6\n",
      "                Memoir       0.00      0.00      0.00        14\n",
      "               Mystery       0.78      0.53      0.63       248\n",
      "           Non-fiction       0.57      0.45      0.51        51\n",
      "                 Novel       0.30      0.25      0.27       267\n",
      "            Philosophy       0.00      0.00      0.00         8\n",
      "          Picture book       0.00      0.00      0.00         8\n",
      "         Romance novel       1.00      0.07      0.13        14\n",
      "       Science Fiction       0.63      0.79      0.70       297\n",
      "           Short story       0.00      0.00      0.00         7\n",
      "           Spy fiction       0.95      0.62      0.75        32\n",
      "     Sword and sorcery       0.75      0.60      0.67         5\n",
      "       Techno-thriller       0.00      0.00      0.00        14\n",
      "              Thriller       0.66      0.39      0.49       171\n",
      "         Urban fantasy       0.80      0.33      0.47        12\n",
      "Young adult literature       0.54      0.29      0.38        89\n",
      "         autobiography       0.33      0.08      0.13        49\n",
      "                comedy       0.87      0.21      0.33        63\n",
      "               fiction       0.44      0.64      0.52       502\n",
      "            historical       0.49      0.68      0.57       199\n",
      "\n",
      "              accuracy                           0.52      2640\n",
      "             macro avg       0.50      0.31      0.34      2640\n",
      "          weighted avg       0.54      0.52      0.50      2640\n",
      "\n"
     ]
    },
    {
     "name": "stderr",
     "output_type": "stream",
     "text": [
      "/usr/local/lib/python3.8/dist-packages/sklearn/metrics/_classification.py:1318: UndefinedMetricWarning: Precision and F-score are ill-defined and being set to 0.0 in labels with no predicted samples. Use `zero_division` parameter to control this behavior.\n",
      "  _warn_prf(average, modifier, msg_start, len(result))\n",
      "/usr/local/lib/python3.8/dist-packages/sklearn/metrics/_classification.py:1318: UndefinedMetricWarning: Precision and F-score are ill-defined and being set to 0.0 in labels with no predicted samples. Use `zero_division` parameter to control this behavior.\n",
      "  _warn_prf(average, modifier, msg_start, len(result))\n",
      "/usr/local/lib/python3.8/dist-packages/sklearn/metrics/_classification.py:1318: UndefinedMetricWarning: Precision and F-score are ill-defined and being set to 0.0 in labels with no predicted samples. Use `zero_division` parameter to control this behavior.\n",
      "  _warn_prf(average, modifier, msg_start, len(result))\n"
     ]
    }
   ],
   "source": [
    "print('accuracy %s' % accuracy_score(Y_pred, Y_test))\n",
    "print(classification_report(Y_test, Y_pred))"
   ]
  },
  {
   "cell_type": "code",
   "execution_count": null,
   "metadata": {
    "colab": {
     "base_uri": "https://localhost:8080/"
    },
    "id": "b0FSmvWTBVBu",
    "outputId": "b4d3c54e-2be3-44ad-e5bd-07afbc199120"
   },
   "outputs": [
    {
     "data": {
      "text/plain": [
       "0.521969696969697"
      ]
     },
     "execution_count": 43,
     "metadata": {},
     "output_type": "execute_result"
    }
   ],
   "source": [
    "accLSVC = accuracy_score(Y_pred, Y_test)\n",
    "accLSVC"
   ]
  },
  {
   "cell_type": "code",
   "execution_count": null,
   "metadata": {
    "colab": {
     "base_uri": "https://localhost:8080/"
    },
    "id": "H35yon7dBZv_",
    "outputId": "17453656-f7ad-456b-9752-694fcd0d7669"
   },
   "outputs": [
    {
     "data": {
      "text/plain": [
       "Pipeline(steps=[('vect', CountVectorizer(ngram_range=(1, 2))),\n",
       "                ('tfidf', TfidfTransformer()),\n",
       "                ('clf', LinearSVC(random_state=0, tol=1e-05))])"
      ]
     },
     "execution_count": 44,
     "metadata": {},
     "output_type": "execute_result"
    }
   ],
   "source": [
    "linear_svc.fit(XAug_train, YAug_train)"
   ]
  },
  {
   "cell_type": "code",
   "execution_count": null,
   "metadata": {
    "id": "wDaK5hfSBeqN"
   },
   "outputs": [],
   "source": [
    "YAug_pred = linear_svc.predict(XAug_test)"
   ]
  },
  {
   "cell_type": "code",
   "execution_count": null,
   "metadata": {
    "colab": {
     "base_uri": "https://localhost:8080/"
    },
    "id": "nMDGXY76BhQp",
    "outputId": "fc1415fe-91f7-4537-d26f-a6ae66d4cbd0"
   },
   "outputs": [
    {
     "name": "stdout",
     "output_type": "stream",
     "text": [
      "accuracy 0.8745618046029568\n",
      "                        precision    recall  f1-score   support\n",
      "\n",
      "       Adventure novel       0.98      1.00      0.99       211\n",
      "             Biography       0.97      1.00      0.99       112\n",
      " Children's literature       0.68      0.66      0.67       330\n",
      "               Fantasy       0.86      0.90      0.88       361\n",
      "                Horror       0.99      1.00      0.99       299\n",
      "      Literary fiction       0.99      1.00      0.99        85\n",
      "                Memoir       0.99      1.00      0.99       145\n",
      "               Mystery       0.87      0.90      0.88       452\n",
      "           Non-fiction       0.96      1.00      0.98       466\n",
      "                 Novel       0.48      0.21      0.30       296\n",
      "            Philosophy       0.97      1.00      0.99        74\n",
      "          Picture book       0.99      0.99      0.99       162\n",
      "         Romance novel       0.99      1.00      0.99       213\n",
      "       Science Fiction       0.83      0.77      0.80       283\n",
      "           Short story       0.98      1.00      0.99       107\n",
      "           Spy fiction       0.99      1.00      1.00       312\n",
      "     Sword and sorcery       0.95      1.00      0.98        63\n",
      "       Techno-thriller       0.99      1.00      1.00       131\n",
      "              Thriller       0.86      0.81      0.83       343\n",
      "         Urban fantasy       1.00      1.00      1.00        76\n",
      "Young adult literature       0.83      0.77      0.80       191\n",
      "         autobiography       0.98      1.00      0.99       443\n",
      "                comedy       0.98      1.00      0.99       473\n",
      "               fiction       0.59      0.64      0.62       512\n",
      "            historical       0.76      0.91      0.83       421\n",
      "\n",
      "              accuracy                           0.87      6561\n",
      "             macro avg       0.90      0.90      0.90      6561\n",
      "          weighted avg       0.87      0.87      0.87      6561\n",
      "\n"
     ]
    }
   ],
   "source": [
    "print('accuracy %s' % accuracy_score(YAug_pred, YAug_test))\n",
    "print(classification_report(YAug_test, YAug_pred))"
   ]
  },
  {
   "cell_type": "code",
   "execution_count": null,
   "metadata": {
    "colab": {
     "base_uri": "https://localhost:8080/"
    },
    "id": "OfW8DqNVBkeh",
    "outputId": "3a635cb6-16d4-408e-a2a5-4098ee121b54"
   },
   "outputs": [
    {
     "data": {
      "text/plain": [
       "0.8745618046029568"
      ]
     },
     "execution_count": 47,
     "metadata": {},
     "output_type": "execute_result"
    }
   ],
   "source": [
    "accLSVCAug = accuracy_score(YAug_pred, YAug_test)\n",
    "accLSVCAug"
   ]
  },
  {
   "cell_type": "markdown",
   "metadata": {
    "id": "QjnE8x16D7Ws"
   },
   "source": [
    "# Comparison:"
   ]
  },
  {
   "cell_type": "code",
   "execution_count": null,
   "metadata": {
    "id": "sfYjo4Z6HYuO"
   },
   "outputs": [],
   "source": [
    "# import matplotlib\n",
    "# import matplotlib.pyplot as plt\n",
    "# import numpy as np\n",
    "\n",
    "\n",
    "# labels = ['SGD', 'LSVC']\n",
    "# means = [accSGD, accLSVC]\n",
    "# aug_means = [accSGDAug, accLSVCAug]\n",
    "\n",
    "# x = np.arange(len(labels))  # the label locations\n",
    "# width = 0.35  # the width of the bars\n",
    "\n",
    "# fig, ax = plt.subplots()\n",
    "# rects1 = ax.bar(x - width/2, means, width, label='Without Augmentation')\n",
    "# rects2 = ax.bar(x + width/2, aug_means, width, label='With Augmentation')\n",
    "\n",
    "# # Add some text for labels, title and custom x-axis tick labels, etc.\n",
    "# ax.set_ylabel('Accuracy')\n",
    "# ax.set_xlabel('Model')\n",
    "# ax.set_title('Augmentation Effect')\n",
    "# ax.set_xticks(x)\n",
    "# ax.set_xticklabels(labels)\n",
    "# ax.legend()\n",
    "\n",
    "\n",
    "# def autolabel(rects):\n",
    "#     \"\"\"Attach a text label above each bar in *rects*, displaying its height.\"\"\"\n",
    "#     for rect in rects:\n",
    "#         height = rect.get_height()\n",
    "#         ax.annotate(\"{:.2%}\".format(height()),\n",
    "#                     xy=(rect.get_x() + rect.get_width() / 2, height),\n",
    "#                     xytext=(0, 3),  # 3 points vertical offset\n",
    "#                     textcoords=\"offset points\",\n",
    "#                     ha='center', va='bottom')\n",
    "\n",
    "\n",
    "# autolabel(rects1)\n",
    "# autolabel(rects2)\n",
    "\n",
    "# fig.tight_layout()\n",
    "\n",
    "# plt.show()"
   ]
  },
  {
   "cell_type": "code",
   "execution_count": null,
   "metadata": {
    "colab": {
     "base_uri": "https://localhost:8080/",
     "height": 297
    },
    "id": "5LmEZS8SBqpQ",
    "outputId": "82748426-81e4-4c6f-912c-7b836fc2218a"
   },
   "outputs": [
    {
     "data": {
      "text/plain": [
       "Text(0.5, 0, 'Models')"
      ]
     },
     "execution_count": 2,
     "metadata": {},
     "output_type": "execute_result"
    },
    {
     "data": {
      "image/png": "[encoded data removed]",
      "text/plain": [
       "<Figure size 432x288 with 1 Axes>"
      ]
     },
     "metadata": {
      "needs_background": "light"
     },
     "output_type": "display_data"
    }
   ],
   "source": [
    "# importing package\n",
    "import matplotlib.pyplot as plt\n",
    "import numpy as np\n",
    "\n",
    "accSGD=0.5037878787878788\n",
    "accSGDAug=0.8425544886450236\n",
    "accLSVC=0.521969696969697\n",
    "accLSVCAug=0.8745618046029568\n",
    "\n",
    "# create data\n",
    "x = np.arange(2)\n",
    "y1 = [accSGD, accLSVC]\n",
    "y2 = [accSGDAug, accLSVCAug]\n",
    "width = 0.40\n",
    "  \n",
    "# plot data in grouped manner of bar type\n",
    "plt.bar(x-0.2, y1, width)\n",
    "plt.bar(x+0.2, y2, width)\n",
    "plt.xticks([0,1],[\"SGD\", \"LSVC\"])\n",
    "plt.legend(['Without Augmentation','With Augmentation'],loc=\"lower right\");\n",
    "plt.annotate(\"{:.2%}\".format(accSGD), (0, accSGD))\n",
    "plt.annotate(\"{:.2%}\".format(accSGDAug), (0.40, accSGDAug))\n",
    "plt.annotate(\"{:.2%}\".format(accLSVC), (1, accLSVC))\n",
    "plt.annotate(\"{:.2%}\".format(accLSVCAug), (1.40, accLSVCAug))\n",
    "plt.ylabel('Accuracy')\n",
    "plt.xlabel('Models')"
   ]
  }
 ],
 "metadata": {
  "colab": {
   "provenance": []
  },
  "kernelspec": {
   "display_name": "Python 3 (ipykernel)",
   "language": "python",
   "name": "python3"
  },
  "language_info": {
   "codemirror_mode": {
    "name": "ipython",
    "version": 3
   },
   "file_extension": ".py",
   "mimetype": "text/x-python",
   "name": "python",
   "nbconvert_exporter": "python",
   "pygments_lexer": "ipython3",
   "version": "3.10.8"
  }
 },
 "nbformat": 4,
 "nbformat_minor": 1
}

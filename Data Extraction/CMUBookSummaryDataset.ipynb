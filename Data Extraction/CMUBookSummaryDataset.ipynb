{
  "cells": [
    {
      "cell_type": "markdown",
      "id": "ed1e73d6",
      "metadata": {
        "id": "ed1e73d6"
      },
      "source": [
        "# CMU Book Summary Dataset"
      ]
    },
    {
      "cell_type": "markdown",
      "id": "75d7a19c",
      "metadata": {
        "id": "75d7a19c"
      },
      "source": [
        "## Extracting the data"
      ]
    },
    {
      "cell_type": "code",
      "execution_count": 29,
      "id": "04867aa6",
      "metadata": {
        "id": "04867aa6"
      },
      "outputs": [],
      "source": [
        "# Imports\n",
        "import pandas as pd"
      ]
    },
    {
      "cell_type": "code",
      "execution_count": 30,
      "id": "a5fc4e71",
      "metadata": {
        "id": "a5fc4e71"
      },
      "outputs": [],
      "source": [
        "df=pd.read_csv('/content/ds_beforeduplication.csv')"
      ]
    },
    {
      "cell_type": "code",
      "execution_count": 31,
      "id": "1b749338",
      "metadata": {
        "colab": {
          "base_uri": "https://localhost:8080/",
          "height": 424
        },
        "id": "1b749338",
        "outputId": "0414db33-a10b-4375-e022-8c160be42717"
      },
      "outputs": [
        {
          "output_type": "execute_result",
          "data": {
            "text/plain": [
              "      Unnamed: 0                                         Name  \\\n",
              "0              1                           A Clockwork Orange   \n",
              "1              6                         A Wizard of Earthsea   \n",
              "2              8              Blade Runner 3: Replicant Night   \n",
              "3              9            Blade Runner 2: The Edge of Human   \n",
              "4             21                             Children of Dune   \n",
              "...          ...                                          ...   \n",
              "8794       16541  Nevermore: The Final Maximum Ride Adventure   \n",
              "8795       16542                        The Bourne Imperative   \n",
              "8796       16551                               Remote Control   \n",
              "8797       16555                            Transfer of Power   \n",
              "8798       16556                                      Decoded   \n",
              "\n",
              "                      Genres  \\\n",
              "0            Science Fiction   \n",
              "1      Children's literature   \n",
              "2            Science Fiction   \n",
              "3            Science Fiction   \n",
              "4            Science Fiction   \n",
              "...                      ...   \n",
              "8794  Young adult literature   \n",
              "8795                Thriller   \n",
              "8796                Thriller   \n",
              "8797                Thriller   \n",
              "8798           autobiography   \n",
              "\n",
              "                                                Summary  \n",
              "0      Alex, a teenager living in near-future Englan...  \n",
              "1      Ged is a young boy on Gont, one of the larger...  \n",
              "2      Living on Mars, Deckard is acting as a consul...  \n",
              "3      Beginning several months after the events in ...  \n",
              "4      Nine years after Emperor Paul Muad'dib walked...  \n",
              "...                                                 ...  \n",
              "8794   The prologue is Angel's vision of Max's death...  \n",
              "8795   :For a more detailed background of the main c...  \n",
              "8796   The series follows the character of Nick Ston...  \n",
              "8797   The reader first meets Rapp while he is doing...  \n",
              "8798   The book follows very rough chronological ord...  \n",
              "\n",
              "[8799 rows x 4 columns]"
            ],
            "text/html": [
              "\n",
              "  <div id=\"df-e6447f7c-c988-45c3-b2bd-4863f9f93bc8\">\n",
              "    <div class=\"colab-df-container\">\n",
              "      <div>\n",
              "<style scoped>\n",
              "    .dataframe tbody tr th:only-of-type {\n",
              "        vertical-align: middle;\n",
              "    }\n",
              "\n",
              "    .dataframe tbody tr th {\n",
              "        vertical-align: top;\n",
              "    }\n",
              "\n",
              "    .dataframe thead th {\n",
              "        text-align: right;\n",
              "    }\n",
              "</style>\n",
              "<table border=\"1\" class=\"dataframe\">\n",
              "  <thead>\n",
              "    <tr style=\"text-align: right;\">\n",
              "      <th></th>\n",
              "      <th>Unnamed: 0</th>\n",
              "      <th>Name</th>\n",
              "      <th>Genres</th>\n",
              "      <th>Summary</th>\n",
              "    </tr>\n",
              "  </thead>\n",
              "  <tbody>\n",
              "    <tr>\n",
              "      <th>0</th>\n",
              "      <td>1</td>\n",
              "      <td>A Clockwork Orange</td>\n",
              "      <td>Science Fiction</td>\n",
              "      <td>Alex, a teenager living in near-future Englan...</td>\n",
              "    </tr>\n",
              "    <tr>\n",
              "      <th>1</th>\n",
              "      <td>6</td>\n",
              "      <td>A Wizard of Earthsea</td>\n",
              "      <td>Children's literature</td>\n",
              "      <td>Ged is a young boy on Gont, one of the larger...</td>\n",
              "    </tr>\n",
              "    <tr>\n",
              "      <th>2</th>\n",
              "      <td>8</td>\n",
              "      <td>Blade Runner 3: Replicant Night</td>\n",
              "      <td>Science Fiction</td>\n",
              "      <td>Living on Mars, Deckard is acting as a consul...</td>\n",
              "    </tr>\n",
              "    <tr>\n",
              "      <th>3</th>\n",
              "      <td>9</td>\n",
              "      <td>Blade Runner 2: The Edge of Human</td>\n",
              "      <td>Science Fiction</td>\n",
              "      <td>Beginning several months after the events in ...</td>\n",
              "    </tr>\n",
              "    <tr>\n",
              "      <th>4</th>\n",
              "      <td>21</td>\n",
              "      <td>Children of Dune</td>\n",
              "      <td>Science Fiction</td>\n",
              "      <td>Nine years after Emperor Paul Muad'dib walked...</td>\n",
              "    </tr>\n",
              "    <tr>\n",
              "      <th>...</th>\n",
              "      <td>...</td>\n",
              "      <td>...</td>\n",
              "      <td>...</td>\n",
              "      <td>...</td>\n",
              "    </tr>\n",
              "    <tr>\n",
              "      <th>8794</th>\n",
              "      <td>16541</td>\n",
              "      <td>Nevermore: The Final Maximum Ride Adventure</td>\n",
              "      <td>Young adult literature</td>\n",
              "      <td>The prologue is Angel's vision of Max's death...</td>\n",
              "    </tr>\n",
              "    <tr>\n",
              "      <th>8795</th>\n",
              "      <td>16542</td>\n",
              "      <td>The Bourne Imperative</td>\n",
              "      <td>Thriller</td>\n",
              "      <td>:For a more detailed background of the main c...</td>\n",
              "    </tr>\n",
              "    <tr>\n",
              "      <th>8796</th>\n",
              "      <td>16551</td>\n",
              "      <td>Remote Control</td>\n",
              "      <td>Thriller</td>\n",
              "      <td>The series follows the character of Nick Ston...</td>\n",
              "    </tr>\n",
              "    <tr>\n",
              "      <th>8797</th>\n",
              "      <td>16555</td>\n",
              "      <td>Transfer of Power</td>\n",
              "      <td>Thriller</td>\n",
              "      <td>The reader first meets Rapp while he is doing...</td>\n",
              "    </tr>\n",
              "    <tr>\n",
              "      <th>8798</th>\n",
              "      <td>16556</td>\n",
              "      <td>Decoded</td>\n",
              "      <td>autobiography</td>\n",
              "      <td>The book follows very rough chronological ord...</td>\n",
              "    </tr>\n",
              "  </tbody>\n",
              "</table>\n",
              "<p>8799 rows × 4 columns</p>\n",
              "</div>\n",
              "      <button class=\"colab-df-convert\" onclick=\"convertToInteractive('df-e6447f7c-c988-45c3-b2bd-4863f9f93bc8')\"\n",
              "              title=\"Convert this dataframe to an interactive table.\"\n",
              "              style=\"display:none;\">\n",
              "        \n",
              "  <svg xmlns=\"http://www.w3.org/2000/svg\" height=\"24px\"viewBox=\"0 0 24 24\"\n",
              "       width=\"24px\">\n",
              "    <path d=\"M0 0h24v24H0V0z\" fill=\"none\"/>\n",
              "    <path d=\"M18.56 5.44l.94 2.06.94-2.06 2.06-.94-2.06-.94-.94-2.06-.94 2.06-2.06.94zm-11 1L8.5 8.5l.94-2.06 2.06-.94-2.06-.94L8.5 2.5l-.94 2.06-2.06.94zm10 10l.94 2.06.94-2.06 2.06-.94-2.06-.94-.94-2.06-.94 2.06-2.06.94z\"/><path d=\"M17.41 7.96l-1.37-1.37c-.4-.4-.92-.59-1.43-.59-.52 0-1.04.2-1.43.59L10.3 9.45l-7.72 7.72c-.78.78-.78 2.05 0 2.83L4 21.41c.39.39.9.59 1.41.59.51 0 1.02-.2 1.41-.59l7.78-7.78 2.81-2.81c.8-.78.8-2.07 0-2.86zM5.41 20L4 18.59l7.72-7.72 1.47 1.35L5.41 20z\"/>\n",
              "  </svg>\n",
              "      </button>\n",
              "      \n",
              "  <style>\n",
              "    .colab-df-container {\n",
              "      display:flex;\n",
              "      flex-wrap:wrap;\n",
              "      gap: 12px;\n",
              "    }\n",
              "\n",
              "    .colab-df-convert {\n",
              "      background-color: #E8F0FE;\n",
              "      border: none;\n",
              "      border-radius: 50%;\n",
              "      cursor: pointer;\n",
              "      display: none;\n",
              "      fill: #1967D2;\n",
              "      height: 32px;\n",
              "      padding: 0 0 0 0;\n",
              "      width: 32px;\n",
              "    }\n",
              "\n",
              "    .colab-df-convert:hover {\n",
              "      background-color: #E2EBFA;\n",
              "      box-shadow: 0px 1px 2px rgba(60, 64, 67, 0.3), 0px 1px 3px 1px rgba(60, 64, 67, 0.15);\n",
              "      fill: #174EA6;\n",
              "    }\n",
              "\n",
              "    [theme=dark] .colab-df-convert {\n",
              "      background-color: #3B4455;\n",
              "      fill: #D2E3FC;\n",
              "    }\n",
              "\n",
              "    [theme=dark] .colab-df-convert:hover {\n",
              "      background-color: #434B5C;\n",
              "      box-shadow: 0px 1px 3px 1px rgba(0, 0, 0, 0.15);\n",
              "      filter: drop-shadow(0px 1px 2px rgba(0, 0, 0, 0.3));\n",
              "      fill: #FFFFFF;\n",
              "    }\n",
              "  </style>\n",
              "\n",
              "      <script>\n",
              "        const buttonEl =\n",
              "          document.querySelector('#df-e6447f7c-c988-45c3-b2bd-4863f9f93bc8 button.colab-df-convert');\n",
              "        buttonEl.style.display =\n",
              "          google.colab.kernel.accessAllowed ? 'block' : 'none';\n",
              "\n",
              "        async function convertToInteractive(key) {\n",
              "          const element = document.querySelector('#df-e6447f7c-c988-45c3-b2bd-4863f9f93bc8');\n",
              "          const dataTable =\n",
              "            await google.colab.kernel.invokeFunction('convertToInteractive',\n",
              "                                                     [key], {});\n",
              "          if (!dataTable) return;\n",
              "\n",
              "          const docLinkHtml = 'Like what you see? Visit the ' +\n",
              "            '<a target=\"_blank\" href=https://colab.research.google.com/notebooks/data_table.ipynb>data table notebook</a>'\n",
              "            + ' to learn more about interactive tables.';\n",
              "          element.innerHTML = '';\n",
              "          dataTable['output_type'] = 'display_data';\n",
              "          await google.colab.output.renderOutput(dataTable, element);\n",
              "          const docLink = document.createElement('div');\n",
              "          docLink.innerHTML = docLinkHtml;\n",
              "          element.appendChild(docLink);\n",
              "        }\n",
              "      </script>\n",
              "    </div>\n",
              "  </div>\n",
              "  "
            ]
          },
          "metadata": {},
          "execution_count": 31
        }
      ],
      "source": [
        "df"
      ]
    },
    {
      "cell_type": "code",
      "execution_count": 32,
      "id": "73bb57dd",
      "metadata": {
        "colab": {
          "base_uri": "https://localhost:8080/"
        },
        "id": "73bb57dd",
        "outputId": "479e4b92-fd8f-4be3-9cb6-e94e6b0e47a7"
      },
      "outputs": [
        {
          "output_type": "execute_result",
          "data": {
            "text/plain": [
              "fiction                   1615\n",
              "Children's literature     1152\n",
              "Science Fiction            999\n",
              "Novel                      925\n",
              "Mystery                    734\n",
              "historical                 727\n",
              "Fantasy                    624\n",
              "Thriller                   568\n",
              "Young adult literature     321\n",
              "comedy                     174\n",
              "autobiography              170\n",
              "Non-fiction                166\n",
              "Spy fiction                112\n",
              "Horror                      88\n",
              "Romance novel               68\n",
              "Adventure novel             60\n",
              "Picture book                49\n",
              "Memoir                      43\n",
              "Biography                   39\n",
              "Techno-thriller             37\n",
              "Short story                 36\n",
              "Literary fiction            27\n",
              "Philosophy                  23\n",
              "Urban fantasy               22\n",
              "Sword and sorcery           20\n",
              "Name: Genres, dtype: int64"
            ]
          },
          "metadata": {},
          "execution_count": 32
        }
      ],
      "source": [
        "df.Genres.value_counts()"
      ]
    },
    {
      "cell_type": "markdown",
      "id": "b5558086",
      "metadata": {
        "id": "b5558086"
      },
      "source": [
        "## Data Analysis"
      ]
    },
    {
      "cell_type": "code",
      "execution_count": 33,
      "id": "50800129",
      "metadata": {
        "colab": {
          "base_uri": "https://localhost:8080/",
          "height": 877
        },
        "id": "50800129",
        "outputId": "ff105cdd-19f0-49a5-91b4-dd473f3c24d7"
      },
      "outputs": [
        {
          "output_type": "display_data",
          "data": {
            "text/plain": [
              "<Figure size 864x1080 with 1 Axes>"
            ],
            "image/png": "[encoded data removed]"
          },
          "metadata": {
            "needs_background": "light"
          }
        }
      ],
      "source": [
        "import nltk as nltk\n",
        "import seaborn as sns\n",
        "import matplotlib.pyplot as plt\n",
        "all_genres=df.Genres.value_counts()\n",
        "all_genres = nltk.FreqDist(df.Genres) \n",
        "all_genres_df = pd.DataFrame({'Genre': list(all_genres.keys()), \n",
        "                              'Count': list(all_genres.values())})\n",
        "g = all_genres_df.nlargest(columns=\"Count\", n = 50) \n",
        "plt.figure(figsize=(12,15)) \n",
        "ax = sns.barplot(data=g, x= \"Count\", y = \"Genre\") \n",
        "ax.set(ylabel = 'Genre') \n",
        "plt.show()"
      ]
    },
    {
      "cell_type": "markdown",
      "id": "35d55ab7",
      "metadata": {
        "id": "35d55ab7"
      },
      "source": [
        "## Conclusions (As of now)\n",
        "\n",
        "- Uneven distribution of data among different genres available in dataset\n",
        "- Few genres have high volume of records\n",
        "- Rest of the genres have very less data"
      ]
    },
    {
      "cell_type": "markdown",
      "id": "5566c65f",
      "metadata": {
        "id": "5566c65f"
      },
      "source": [
        "## Performing Data Augmentation"
      ]
    },
    {
      "cell_type": "code",
      "execution_count": 34,
      "id": "dd8b3f9d",
      "metadata": {
        "colab": {
          "base_uri": "https://localhost:8080/"
        },
        "id": "dd8b3f9d",
        "outputId": "df778aab-630b-4a6f-8ab5-904f0981ba80"
      },
      "outputs": [
        {
          "output_type": "stream",
          "name": "stderr",
          "text": [
            "[nltk_data] Downloading package stopwords to /root/nltk_data...\n",
            "[nltk_data]   Package stopwords is already up-to-date!\n",
            "[nltk_data] Downloading package wordnet to /root/nltk_data...\n",
            "[nltk_data]   Package wordnet is already up-to-date!\n",
            "[nltk_data] Downloading package omw-1.4 to /root/nltk_data...\n",
            "[nltk_data]   Package omw-1.4 is already up-to-date!\n"
          ]
        }
      ],
      "source": [
        "import random\n",
        "from random import shuffle\n",
        "import nltk\n",
        "## uncomment code below to download NLTK wordnet in your python\n",
        "nltk.download(\"stopwords\")\n",
        "from nltk.corpus import stopwords\n",
        "stop_words = set(stopwords.words('english'))\n",
        "## uncomment code below to download NLTK wordnet in your python\n",
        "nltk.download(\"wordnet\")\n",
        "nltk.download('omw-1.4')\n",
        "from nltk.corpus import wordnet"
      ]
    },
    {
      "cell_type": "code",
      "execution_count": 35,
      "id": "6692c66f",
      "metadata": {
        "id": "6692c66f"
      },
      "outputs": [],
      "source": [
        "def synonym_replacement(words, n):\n",
        "    new_words = words.copy()\n",
        "    random_word_list = list(set([word for word in words if word not in stop_words]))\n",
        "    random.shuffle(random_word_list)\n",
        "    num_replaced = 0\n",
        "    for random_word in random_word_list:\n",
        "        synonyms = get_synonyms(random_word)\n",
        "        if len(synonyms) >= 1:\n",
        "            synonym = random.choice(list(synonyms))\n",
        "            new_words = [synonym if word == random_word else word for word in new_words]\n",
        "            #print(\"replaced\", random_word, \"with\", synonym)\n",
        "            num_replaced += 1\n",
        "        if num_replaced >= n: #only replace up to n words\n",
        "            break\n",
        "\n",
        "    #this is stupid but we need it, trust me\n",
        "    sentence = ' '.join(new_words)\n",
        "    new_words = sentence.split(' ')\n",
        "\n",
        "    return new_words"
      ]
    },
    {
      "cell_type": "code",
      "execution_count": 36,
      "id": "bb6c0940",
      "metadata": {
        "id": "bb6c0940"
      },
      "outputs": [],
      "source": [
        "def get_synonyms(word):\n",
        "    synonyms = set()\n",
        "    for syn in wordnet.synsets(word): \n",
        "        for l in syn.lemmas(): \n",
        "            synonym = l.name().replace(\"_\", \" \").replace(\"-\", \" \").lower()\n",
        "            synonym = \"\".join([char for char in synonym if char in ' qwertyuiopasdfghjklzxcvbnm'])\n",
        "            synonyms.add(synonym) \n",
        "    if word in synonyms:\n",
        "        synonyms.remove(word)\n",
        "    return list(synonyms)"
      ]
    },
    {
      "cell_type": "code",
      "execution_count": 37,
      "id": "e5cefd26",
      "metadata": {
        "colab": {
          "base_uri": "https://localhost:8080/"
        },
        "id": "e5cefd26",
        "outputId": "1063d1ee-aa0d-4096-b374-3771ad38ba04"
      },
      "outputs": [
        {
          "output_type": "execute_result",
          "data": {
            "text/plain": [
              "['how', 'do', 'you', 'do', 'pretty', 'wretched', 'swarm', 'both', 'how']"
            ]
          },
          "metadata": {},
          "execution_count": 37
        }
      ],
      "source": [
        "synonym_replacement(['hello','pretty','ugly','cloud','both','how'],3)"
      ]
    },
    {
      "cell_type": "code",
      "execution_count": 38,
      "id": "37b024dd",
      "metadata": {
        "id": "37b024dd"
      },
      "outputs": [],
      "source": [
        "glist2=[\n",
        "    \"Horror\",\n",
        "    \"Romance novel\",\n",
        "    \"Adventure novel\",\n",
        "    \"Picture book\",\n",
        "    \"Memoir\",\n",
        "    \"Biography\",\n",
        "    \"Techno-thriller\",\n",
        "    \"Short story\",\n",
        "    \"Literary fiction\",\n",
        "    \"Philosophy\",\n",
        "    \"Urban fantasy\",\n",
        "    \"Sword and sorcery\"\n",
        "]\n",
        "\n",
        "glist3=[\n",
        "    'comedy',\n",
        "    'autobiography',\n",
        "    'Non-fiction',\n",
        "    'Spy fiction'\n",
        "]\n",
        "\n",
        "glist4=[\n",
        "    'Young adult literature',\n",
        "     'Mystery',\n",
        "     'historical',\n",
        "     'Fantasy',\n",
        "     'Thriller'\n",
        "]"
      ]
    },
    {
      "cell_type": "code",
      "execution_count": 39,
      "id": "611c1103",
      "metadata": {
        "colab": {
          "base_uri": "https://localhost:8080/"
        },
        "id": "611c1103",
        "outputId": "eb02d85a-7eac-431e-cb30-b5b6a795821c"
      },
      "outputs": [
        {
          "output_type": "stream",
          "name": "stderr",
          "text": [
            "[nltk_data] Downloading package punkt to /root/nltk_data...\n",
            "[nltk_data]   Package punkt is already up-to-date!\n"
          ]
        }
      ],
      "source": [
        "## uncomment code below to download NLTK wordnet in your python\n",
        "nltk.download(\"punkt\")\n",
        "from nltk.tokenize import word_tokenize\n",
        "def applysynonym(row):\n",
        "    words=word_tokenize(row)\n",
        "    n=len(words)\n",
        "    res=synonym_replacement(words,n//10)\n",
        "    return ' '.join(res)"
      ]
    },
    {
      "cell_type": "code",
      "execution_count": 40,
      "id": "70de45fd",
      "metadata": {
        "id": "70de45fd"
      },
      "outputs": [],
      "source": [
        "def augmentdata(g,n):\n",
        "    global df\n",
        "    temp=df[df.Genres==g]\n",
        "    temp1=temp\n",
        "    for i in range(n):\n",
        "        temp1.Summary=temp.Summary.apply(applysynonym)\n",
        "        df=df.append(temp1,ignore_index=True)\n",
        "    return"
      ]
    },
    {
      "cell_type": "code",
      "execution_count": 41,
      "id": "438210b7",
      "metadata": {
        "colab": {
          "base_uri": "https://localhost:8080/"
        },
        "id": "438210b7",
        "outputId": "829ef211-9b22-4b23-9b52-0dbed2fc071d"
      },
      "outputs": [
        {
          "output_type": "stream",
          "name": "stderr",
          "text": [
            "/usr/local/lib/python3.8/dist-packages/pandas/core/generic.py:5516: SettingWithCopyWarning: \n",
            "A value is trying to be set on a copy of a slice from a DataFrame.\n",
            "Try using .loc[row_indexer,col_indexer] = value instead\n",
            "\n",
            "See the caveats in the documentation: https://pandas.pydata.org/pandas-docs/stable/user_guide/indexing.html#returning-a-view-versus-a-copy\n",
            "  self[name] = value\n",
            "100%|██████████| 4/4 [01:12<00:00, 18.15s/it]\n",
            "100%|██████████| 5/5 [00:32<00:00,  6.48s/it]\n"
          ]
        }
      ],
      "source": [
        "#augmenting different genres different number of times so that overall distribution is even\n",
        "from tqdm import tqdm\n",
        "for g in glist2:\n",
        "    augmentdata(g,10)\n",
        "\n",
        "for g in tqdm(glist3):\n",
        "    augmentdata(g,8)\n",
        "\n",
        "for g in tqdm(glist4):\n",
        "    augmentdata(g,1)"
      ]
    },
    {
      "cell_type": "code",
      "execution_count": 42,
      "id": "a035148e",
      "metadata": {
        "colab": {
          "base_uri": "https://localhost:8080/",
          "height": 424
        },
        "id": "a035148e",
        "outputId": "d9fc94f9-9717-4795-b574-715dc73b795a"
      },
      "outputs": [
        {
          "output_type": "execute_result",
          "data": {
            "text/plain": [
              "       Unnamed: 0                               Name                 Genres  \\\n",
              "0               1                 A Clockwork Orange        Science Fiction   \n",
              "1               6               A Wizard of Earthsea  Children's literature   \n",
              "2               8    Blade Runner 3: Replicant Night        Science Fiction   \n",
              "3               9  Blade Runner 2: The Edge of Human        Science Fiction   \n",
              "4              21                   Children of Dune        Science Fiction   \n",
              "...           ...                                ...                    ...   \n",
              "21864       16414                             Carver               Thriller   \n",
              "21865       16442                             Rabies               Thriller   \n",
              "21866       16542              The Bourne Imperative               Thriller   \n",
              "21867       16551                     Remote Control               Thriller   \n",
              "21868       16555                  Transfer of Power               Thriller   \n",
              "\n",
              "                                                 Summary  \n",
              "0       Alex, a teenager living in near-future Englan...  \n",
              "1       Ged is a young boy on Gont, one of the larger...  \n",
              "2       Living on Mars, Deckard is acting as a consul...  \n",
              "3       Beginning several months after the events in ...  \n",
              "4       Nine years after Emperor Paul Muad'dib walked...  \n",
              "...                                                  ...  \n",
              "21864  The central character , Samuel Carver , is an ...  \n",
              "21865  seth in betimes 1980s , during the height of i...  \n",
              "21866  : For a more detailed background of the main c...  \n",
              "21867  The series follows the character of Nick Stone...  \n",
              "21868  The reader first base meets Rapp while he is d...  \n",
              "\n",
              "[21869 rows x 4 columns]"
            ],
            "text/html": [
              "\n",
              "  <div id=\"df-2acf71e8-0e15-457e-a044-4b7afbc91be7\">\n",
              "    <div class=\"colab-df-container\">\n",
              "      <div>\n",
              "<style scoped>\n",
              "    .dataframe tbody tr th:only-of-type {\n",
              "        vertical-align: middle;\n",
              "    }\n",
              "\n",
              "    .dataframe tbody tr th {\n",
              "        vertical-align: top;\n",
              "    }\n",
              "\n",
              "    .dataframe thead th {\n",
              "        text-align: right;\n",
              "    }\n",
              "</style>\n",
              "<table border=\"1\" class=\"dataframe\">\n",
              "  <thead>\n",
              "    <tr style=\"text-align: right;\">\n",
              "      <th></th>\n",
              "      <th>Unnamed: 0</th>\n",
              "      <th>Name</th>\n",
              "      <th>Genres</th>\n",
              "      <th>Summary</th>\n",
              "    </tr>\n",
              "  </thead>\n",
              "  <tbody>\n",
              "    <tr>\n",
              "      <th>0</th>\n",
              "      <td>1</td>\n",
              "      <td>A Clockwork Orange</td>\n",
              "      <td>Science Fiction</td>\n",
              "      <td>Alex, a teenager living in near-future Englan...</td>\n",
              "    </tr>\n",
              "    <tr>\n",
              "      <th>1</th>\n",
              "      <td>6</td>\n",
              "      <td>A Wizard of Earthsea</td>\n",
              "      <td>Children's literature</td>\n",
              "      <td>Ged is a young boy on Gont, one of the larger...</td>\n",
              "    </tr>\n",
              "    <tr>\n",
              "      <th>2</th>\n",
              "      <td>8</td>\n",
              "      <td>Blade Runner 3: Replicant Night</td>\n",
              "      <td>Science Fiction</td>\n",
              "      <td>Living on Mars, Deckard is acting as a consul...</td>\n",
              "    </tr>\n",
              "    <tr>\n",
              "      <th>3</th>\n",
              "      <td>9</td>\n",
              "      <td>Blade Runner 2: The Edge of Human</td>\n",
              "      <td>Science Fiction</td>\n",
              "      <td>Beginning several months after the events in ...</td>\n",
              "    </tr>\n",
              "    <tr>\n",
              "      <th>4</th>\n",
              "      <td>21</td>\n",
              "      <td>Children of Dune</td>\n",
              "      <td>Science Fiction</td>\n",
              "      <td>Nine years after Emperor Paul Muad'dib walked...</td>\n",
              "    </tr>\n",
              "    <tr>\n",
              "      <th>...</th>\n",
              "      <td>...</td>\n",
              "      <td>...</td>\n",
              "      <td>...</td>\n",
              "      <td>...</td>\n",
              "    </tr>\n",
              "    <tr>\n",
              "      <th>21864</th>\n",
              "      <td>16414</td>\n",
              "      <td>Carver</td>\n",
              "      <td>Thriller</td>\n",
              "      <td>The central character , Samuel Carver , is an ...</td>\n",
              "    </tr>\n",
              "    <tr>\n",
              "      <th>21865</th>\n",
              "      <td>16442</td>\n",
              "      <td>Rabies</td>\n",
              "      <td>Thriller</td>\n",
              "      <td>seth in betimes 1980s , during the height of i...</td>\n",
              "    </tr>\n",
              "    <tr>\n",
              "      <th>21866</th>\n",
              "      <td>16542</td>\n",
              "      <td>The Bourne Imperative</td>\n",
              "      <td>Thriller</td>\n",
              "      <td>: For a more detailed background of the main c...</td>\n",
              "    </tr>\n",
              "    <tr>\n",
              "      <th>21867</th>\n",
              "      <td>16551</td>\n",
              "      <td>Remote Control</td>\n",
              "      <td>Thriller</td>\n",
              "      <td>The series follows the character of Nick Stone...</td>\n",
              "    </tr>\n",
              "    <tr>\n",
              "      <th>21868</th>\n",
              "      <td>16555</td>\n",
              "      <td>Transfer of Power</td>\n",
              "      <td>Thriller</td>\n",
              "      <td>The reader first base meets Rapp while he is d...</td>\n",
              "    </tr>\n",
              "  </tbody>\n",
              "</table>\n",
              "<p>21869 rows × 4 columns</p>\n",
              "</div>\n",
              "      <button class=\"colab-df-convert\" onclick=\"convertToInteractive('df-2acf71e8-0e15-457e-a044-4b7afbc91be7')\"\n",
              "              title=\"Convert this dataframe to an interactive table.\"\n",
              "              style=\"display:none;\">\n",
              "        \n",
              "  <svg xmlns=\"http://www.w3.org/2000/svg\" height=\"24px\"viewBox=\"0 0 24 24\"\n",
              "       width=\"24px\">\n",
              "    <path d=\"M0 0h24v24H0V0z\" fill=\"none\"/>\n",
              "    <path d=\"M18.56 5.44l.94 2.06.94-2.06 2.06-.94-2.06-.94-.94-2.06-.94 2.06-2.06.94zm-11 1L8.5 8.5l.94-2.06 2.06-.94-2.06-.94L8.5 2.5l-.94 2.06-2.06.94zm10 10l.94 2.06.94-2.06 2.06-.94-2.06-.94-.94-2.06-.94 2.06-2.06.94z\"/><path d=\"M17.41 7.96l-1.37-1.37c-.4-.4-.92-.59-1.43-.59-.52 0-1.04.2-1.43.59L10.3 9.45l-7.72 7.72c-.78.78-.78 2.05 0 2.83L4 21.41c.39.39.9.59 1.41.59.51 0 1.02-.2 1.41-.59l7.78-7.78 2.81-2.81c.8-.78.8-2.07 0-2.86zM5.41 20L4 18.59l7.72-7.72 1.47 1.35L5.41 20z\"/>\n",
              "  </svg>\n",
              "      </button>\n",
              "      \n",
              "  <style>\n",
              "    .colab-df-container {\n",
              "      display:flex;\n",
              "      flex-wrap:wrap;\n",
              "      gap: 12px;\n",
              "    }\n",
              "\n",
              "    .colab-df-convert {\n",
              "      background-color: #E8F0FE;\n",
              "      border: none;\n",
              "      border-radius: 50%;\n",
              "      cursor: pointer;\n",
              "      display: none;\n",
              "      fill: #1967D2;\n",
              "      height: 32px;\n",
              "      padding: 0 0 0 0;\n",
              "      width: 32px;\n",
              "    }\n",
              "\n",
              "    .colab-df-convert:hover {\n",
              "      background-color: #E2EBFA;\n",
              "      box-shadow: 0px 1px 2px rgba(60, 64, 67, 0.3), 0px 1px 3px 1px rgba(60, 64, 67, 0.15);\n",
              "      fill: #174EA6;\n",
              "    }\n",
              "\n",
              "    [theme=dark] .colab-df-convert {\n",
              "      background-color: #3B4455;\n",
              "      fill: #D2E3FC;\n",
              "    }\n",
              "\n",
              "    [theme=dark] .colab-df-convert:hover {\n",
              "      background-color: #434B5C;\n",
              "      box-shadow: 0px 1px 3px 1px rgba(0, 0, 0, 0.15);\n",
              "      filter: drop-shadow(0px 1px 2px rgba(0, 0, 0, 0.3));\n",
              "      fill: #FFFFFF;\n",
              "    }\n",
              "  </style>\n",
              "\n",
              "      <script>\n",
              "        const buttonEl =\n",
              "          document.querySelector('#df-2acf71e8-0e15-457e-a044-4b7afbc91be7 button.colab-df-convert');\n",
              "        buttonEl.style.display =\n",
              "          google.colab.kernel.accessAllowed ? 'block' : 'none';\n",
              "\n",
              "        async function convertToInteractive(key) {\n",
              "          const element = document.querySelector('#df-2acf71e8-0e15-457e-a044-4b7afbc91be7');\n",
              "          const dataTable =\n",
              "            await google.colab.kernel.invokeFunction('convertToInteractive',\n",
              "                                                     [key], {});\n",
              "          if (!dataTable) return;\n",
              "\n",
              "          const docLinkHtml = 'Like what you see? Visit the ' +\n",
              "            '<a target=\"_blank\" href=https://colab.research.google.com/notebooks/data_table.ipynb>data table notebook</a>'\n",
              "            + ' to learn more about interactive tables.';\n",
              "          element.innerHTML = '';\n",
              "          dataTable['output_type'] = 'display_data';\n",
              "          await google.colab.output.renderOutput(dataTable, element);\n",
              "          const docLink = document.createElement('div');\n",
              "          docLink.innerHTML = docLinkHtml;\n",
              "          element.appendChild(docLink);\n",
              "        }\n",
              "      </script>\n",
              "    </div>\n",
              "  </div>\n",
              "  "
            ]
          },
          "metadata": {},
          "execution_count": 42
        }
      ],
      "source": [
        "df"
      ]
    },
    {
      "cell_type": "code",
      "execution_count": 43,
      "id": "cd469047",
      "metadata": {
        "colab": {
          "base_uri": "https://localhost:8080/",
          "height": 877
        },
        "id": "cd469047",
        "outputId": "98455fbb-9a7b-4c00-f432-b25d2c16dc34"
      },
      "outputs": [
        {
          "output_type": "display_data",
          "data": {
            "text/plain": [
              "<Figure size 864x1080 with 1 Axes>"
            ],
            "image/png": "[encoded data removed]"
          },
          "metadata": {
            "needs_background": "light"
          }
        }
      ],
      "source": [
        "all_genres=df.Genres.value_counts()\n",
        "all_genres = nltk.FreqDist(df.Genres) \n",
        "all_genres_df = pd.DataFrame({'Genre': list(all_genres.keys()), \n",
        "                              'Count': list(all_genres.values())})\n",
        "g = all_genres_df.nlargest(columns=\"Count\", n = 50) \n",
        "plt.figure(figsize=(12,15)) \n",
        "ax = sns.barplot(data=g, x= \"Count\", y = \"Genre\") \n",
        "ax.set(ylabel = 'Genre') \n",
        "plt.show()"
      ]
    },
    {
      "cell_type": "code",
      "execution_count": 44,
      "id": "QoiRG9iLALWG",
      "metadata": {
        "colab": {
          "base_uri": "https://localhost:8080/"
        },
        "id": "QoiRG9iLALWG",
        "outputId": "0a22b394-eac8-45b5-bcbe-4af8710e2d14"
      },
      "outputs": [
        {
          "output_type": "execute_result",
          "data": {
            "text/plain": [
              "fiction                   1615\n",
              "comedy                    1566\n",
              "autobiography             1530\n",
              "Non-fiction               1494\n",
              "Mystery                   1468\n",
              "historical                1454\n",
              "Fantasy                   1248\n",
              "Children's literature     1152\n",
              "Thriller                  1136\n",
              "Spy fiction               1008\n",
              "Science Fiction            999\n",
              "Horror                     968\n",
              "Novel                      925\n",
              "Romance novel              748\n",
              "Adventure novel            660\n",
              "Young adult literature     642\n",
              "Picture book               539\n",
              "Memoir                     473\n",
              "Biography                  429\n",
              "Techno-thriller            407\n",
              "Short story                396\n",
              "Literary fiction           297\n",
              "Philosophy                 253\n",
              "Urban fantasy              242\n",
              "Sword and sorcery          220\n",
              "Name: Genres, dtype: int64"
            ]
          },
          "metadata": {},
          "execution_count": 44
        }
      ],
      "source": [
        "df.Genres.value_counts()"
      ]
    },
    {
      "cell_type": "markdown",
      "id": "Y0ZRnAs7Ak9w",
      "metadata": {
        "id": "Y0ZRnAs7Ak9w"
      },
      "source": [
        "## Data Cleaning"
      ]
    },
    {
      "cell_type": "code",
      "execution_count": 45,
      "id": "MdxMz3DFAOyz",
      "metadata": {
        "id": "MdxMz3DFAOyz"
      },
      "outputs": [],
      "source": [
        "def remove_stopwords(data):\n",
        "    stop_words = set(stopwords.words('english'))\n",
        "\n",
        "    word_tokens = word_tokenize(str(data))\n",
        "    \n",
        "    filtered_data = \"\"\n",
        "    \n",
        "    for w in word_tokens:\n",
        "        if w not in stop_words and len(w)>1:\n",
        "            filtered_data=filtered_data+\" \"+w\n",
        "    return filtered_data"
      ]
    },
    {
      "cell_type": "code",
      "execution_count": 46,
      "id": "j6O7MQ8iA80D",
      "metadata": {
        "id": "j6O7MQ8iA80D"
      },
      "outputs": [],
      "source": [
        "import numpy as np\n",
        "def remove_punctuation(data):\n",
        "    marks=\"~!@#$%^&*()_+=-`[]\\;'./{}|:<>?\"\"'\\n\"\n",
        "    \n",
        "    for i in marks:\n",
        "        data=np.char.replace(data,i,' ')\n",
        "        data=np.char.replace(data,\"  \",\" \")\n",
        "    \n",
        "    data=np.char.replace(data,\",\",'')\n",
        "    return data\n",
        "\n",
        "def remove_apostrophe(data):\n",
        "    return np.char.replace(data, \"'\", \"\")"
      ]
    },
    {
      "cell_type": "code",
      "source": [
        "from num2words import num2words\n",
        "def convert_numbers(data):\n",
        "    tokens = word_tokenize(str(data))\n",
        "    new_text = \"\"\n",
        "    for w in tokens:\n",
        "        \n",
        "        try:\n",
        "            w = num2words(int(w))\n",
        "        except:\n",
        "            a = 0\n",
        "        new_text = new_text + \" \" + w\n",
        "    new_text = np.char.replace(new_text, \"-\", \" \")\n",
        "    return new_text"
      ],
      "metadata": {
        "id": "iyAjhyNys86U"
      },
      "id": "iyAjhyNys86U",
      "execution_count": 53,
      "outputs": []
    },
    {
      "cell_type": "code",
      "execution_count": 54,
      "id": "LYC5IrsRBkvx",
      "metadata": {
        "id": "LYC5IrsRBkvx"
      },
      "outputs": [],
      "source": [
        "def preprocesswithoutstem(data):\n",
        "    data=np.char.lower(data)\n",
        "    \n",
        "    data = remove_punctuation(data) #remove comma seperately\n",
        "    \n",
        "    data = remove_apostrophe(data)\n",
        "    \n",
        "    data = remove_stopwords(data)\n",
        "    \n",
        "    data = convert_numbers(data)\n",
        "\n",
        "    data = remove_punctuation(data)\n",
        "\n",
        "    data = convert_numbers(data)\n",
        "    \n",
        "    data = remove_stopwords(data) #needed again as num2word is giving stop words 101 - one hundred and one\n",
        "    \n",
        "    return data"
      ]
    },
    {
      "cell_type": "code",
      "source": [
        "dfWithoutStem = df.copy()"
      ],
      "metadata": {
        "id": "6a6kYC9tvRTs"
      },
      "id": "6a6kYC9tvRTs",
      "execution_count": 55,
      "outputs": []
    },
    {
      "cell_type": "code",
      "source": [
        "dfWithoutStem.Summary=dfWithoutStem.Summary.apply(preprocesswithoutstem)\n",
        "dfWithoutStem"
      ],
      "metadata": {
        "colab": {
          "base_uri": "https://localhost:8080/",
          "height": 424
        },
        "id": "5TOwIxSYvUiR",
        "outputId": "6a766ea4-8ed1-4e4d-c037-9f7acdabfcd8"
      },
      "id": "5TOwIxSYvUiR",
      "execution_count": 56,
      "outputs": [
        {
          "output_type": "execute_result",
          "data": {
            "text/plain": [
              "       Unnamed: 0                               Name                 Genres  \\\n",
              "0               1                 A Clockwork Orange        Science Fiction   \n",
              "1               6               A Wizard of Earthsea  Children's literature   \n",
              "2               8    Blade Runner 3: Replicant Night        Science Fiction   \n",
              "3               9  Blade Runner 2: The Edge of Human        Science Fiction   \n",
              "4              21                   Children of Dune        Science Fiction   \n",
              "...           ...                                ...                    ...   \n",
              "21864       16414                             Carver               Thriller   \n",
              "21865       16442                             Rabies               Thriller   \n",
              "21866       16542              The Bourne Imperative               Thriller   \n",
              "21867       16551                     Remote Control               Thriller   \n",
              "21868       16555                  Transfer of Power               Thriller   \n",
              "\n",
              "                                                 Summary  \n",
              "0       alex teenager living near future england lead...  \n",
              "1       ged young boy gont one larger islands north a...  \n",
              "2       living mars deckard acting consultant movie c...  \n",
              "3       beginning several months events blade runner ...  \n",
              "4       nine years emperor paul muad dib walked deser...  \n",
              "...                                                  ...  \n",
              "21864   central character samuel carver ex assassin s...  \n",
              "21865   seth betimes 1980s height insensate war novel...  \n",
              "21866   detailed background main character see jason ...  \n",
              "21867   series follows character nick stone ex milita...  \n",
              "21868   reader first base meets rapp covert operation...  \n",
              "\n",
              "[21869 rows x 4 columns]"
            ],
            "text/html": [
              "\n",
              "  <div id=\"df-19d08e05-1ee9-49dd-acff-1f95fbc27a9d\">\n",
              "    <div class=\"colab-df-container\">\n",
              "      <div>\n",
              "<style scoped>\n",
              "    .dataframe tbody tr th:only-of-type {\n",
              "        vertical-align: middle;\n",
              "    }\n",
              "\n",
              "    .dataframe tbody tr th {\n",
              "        vertical-align: top;\n",
              "    }\n",
              "\n",
              "    .dataframe thead th {\n",
              "        text-align: right;\n",
              "    }\n",
              "</style>\n",
              "<table border=\"1\" class=\"dataframe\">\n",
              "  <thead>\n",
              "    <tr style=\"text-align: right;\">\n",
              "      <th></th>\n",
              "      <th>Unnamed: 0</th>\n",
              "      <th>Name</th>\n",
              "      <th>Genres</th>\n",
              "      <th>Summary</th>\n",
              "    </tr>\n",
              "  </thead>\n",
              "  <tbody>\n",
              "    <tr>\n",
              "      <th>0</th>\n",
              "      <td>1</td>\n",
              "      <td>A Clockwork Orange</td>\n",
              "      <td>Science Fiction</td>\n",
              "      <td>alex teenager living near future england lead...</td>\n",
              "    </tr>\n",
              "    <tr>\n",
              "      <th>1</th>\n",
              "      <td>6</td>\n",
              "      <td>A Wizard of Earthsea</td>\n",
              "      <td>Children's literature</td>\n",
              "      <td>ged young boy gont one larger islands north a...</td>\n",
              "    </tr>\n",
              "    <tr>\n",
              "      <th>2</th>\n",
              "      <td>8</td>\n",
              "      <td>Blade Runner 3: Replicant Night</td>\n",
              "      <td>Science Fiction</td>\n",
              "      <td>living mars deckard acting consultant movie c...</td>\n",
              "    </tr>\n",
              "    <tr>\n",
              "      <th>3</th>\n",
              "      <td>9</td>\n",
              "      <td>Blade Runner 2: The Edge of Human</td>\n",
              "      <td>Science Fiction</td>\n",
              "      <td>beginning several months events blade runner ...</td>\n",
              "    </tr>\n",
              "    <tr>\n",
              "      <th>4</th>\n",
              "      <td>21</td>\n",
              "      <td>Children of Dune</td>\n",
              "      <td>Science Fiction</td>\n",
              "      <td>nine years emperor paul muad dib walked deser...</td>\n",
              "    </tr>\n",
              "    <tr>\n",
              "      <th>...</th>\n",
              "      <td>...</td>\n",
              "      <td>...</td>\n",
              "      <td>...</td>\n",
              "      <td>...</td>\n",
              "    </tr>\n",
              "    <tr>\n",
              "      <th>21864</th>\n",
              "      <td>16414</td>\n",
              "      <td>Carver</td>\n",
              "      <td>Thriller</td>\n",
              "      <td>central character samuel carver ex assassin s...</td>\n",
              "    </tr>\n",
              "    <tr>\n",
              "      <th>21865</th>\n",
              "      <td>16442</td>\n",
              "      <td>Rabies</td>\n",
              "      <td>Thriller</td>\n",
              "      <td>seth betimes 1980s height insensate war novel...</td>\n",
              "    </tr>\n",
              "    <tr>\n",
              "      <th>21866</th>\n",
              "      <td>16542</td>\n",
              "      <td>The Bourne Imperative</td>\n",
              "      <td>Thriller</td>\n",
              "      <td>detailed background main character see jason ...</td>\n",
              "    </tr>\n",
              "    <tr>\n",
              "      <th>21867</th>\n",
              "      <td>16551</td>\n",
              "      <td>Remote Control</td>\n",
              "      <td>Thriller</td>\n",
              "      <td>series follows character nick stone ex milita...</td>\n",
              "    </tr>\n",
              "    <tr>\n",
              "      <th>21868</th>\n",
              "      <td>16555</td>\n",
              "      <td>Transfer of Power</td>\n",
              "      <td>Thriller</td>\n",
              "      <td>reader first base meets rapp covert operation...</td>\n",
              "    </tr>\n",
              "  </tbody>\n",
              "</table>\n",
              "<p>21869 rows × 4 columns</p>\n",
              "</div>\n",
              "      <button class=\"colab-df-convert\" onclick=\"convertToInteractive('df-19d08e05-1ee9-49dd-acff-1f95fbc27a9d')\"\n",
              "              title=\"Convert this dataframe to an interactive table.\"\n",
              "              style=\"display:none;\">\n",
              "        \n",
              "  <svg xmlns=\"http://www.w3.org/2000/svg\" height=\"24px\"viewBox=\"0 0 24 24\"\n",
              "       width=\"24px\">\n",
              "    <path d=\"M0 0h24v24H0V0z\" fill=\"none\"/>\n",
              "    <path d=\"M18.56 5.44l.94 2.06.94-2.06 2.06-.94-2.06-.94-.94-2.06-.94 2.06-2.06.94zm-11 1L8.5 8.5l.94-2.06 2.06-.94-2.06-.94L8.5 2.5l-.94 2.06-2.06.94zm10 10l.94 2.06.94-2.06 2.06-.94-2.06-.94-.94-2.06-.94 2.06-2.06.94z\"/><path d=\"M17.41 7.96l-1.37-1.37c-.4-.4-.92-.59-1.43-.59-.52 0-1.04.2-1.43.59L10.3 9.45l-7.72 7.72c-.78.78-.78 2.05 0 2.83L4 21.41c.39.39.9.59 1.41.59.51 0 1.02-.2 1.41-.59l7.78-7.78 2.81-2.81c.8-.78.8-2.07 0-2.86zM5.41 20L4 18.59l7.72-7.72 1.47 1.35L5.41 20z\"/>\n",
              "  </svg>\n",
              "      </button>\n",
              "      \n",
              "  <style>\n",
              "    .colab-df-container {\n",
              "      display:flex;\n",
              "      flex-wrap:wrap;\n",
              "      gap: 12px;\n",
              "    }\n",
              "\n",
              "    .colab-df-convert {\n",
              "      background-color: #E8F0FE;\n",
              "      border: none;\n",
              "      border-radius: 50%;\n",
              "      cursor: pointer;\n",
              "      display: none;\n",
              "      fill: #1967D2;\n",
              "      height: 32px;\n",
              "      padding: 0 0 0 0;\n",
              "      width: 32px;\n",
              "    }\n",
              "\n",
              "    .colab-df-convert:hover {\n",
              "      background-color: #E2EBFA;\n",
              "      box-shadow: 0px 1px 2px rgba(60, 64, 67, 0.3), 0px 1px 3px 1px rgba(60, 64, 67, 0.15);\n",
              "      fill: #174EA6;\n",
              "    }\n",
              "\n",
              "    [theme=dark] .colab-df-convert {\n",
              "      background-color: #3B4455;\n",
              "      fill: #D2E3FC;\n",
              "    }\n",
              "\n",
              "    [theme=dark] .colab-df-convert:hover {\n",
              "      background-color: #434B5C;\n",
              "      box-shadow: 0px 1px 3px 1px rgba(0, 0, 0, 0.15);\n",
              "      filter: drop-shadow(0px 1px 2px rgba(0, 0, 0, 0.3));\n",
              "      fill: #FFFFFF;\n",
              "    }\n",
              "  </style>\n",
              "\n",
              "      <script>\n",
              "        const buttonEl =\n",
              "          document.querySelector('#df-19d08e05-1ee9-49dd-acff-1f95fbc27a9d button.colab-df-convert');\n",
              "        buttonEl.style.display =\n",
              "          google.colab.kernel.accessAllowed ? 'block' : 'none';\n",
              "\n",
              "        async function convertToInteractive(key) {\n",
              "          const element = document.querySelector('#df-19d08e05-1ee9-49dd-acff-1f95fbc27a9d');\n",
              "          const dataTable =\n",
              "            await google.colab.kernel.invokeFunction('convertToInteractive',\n",
              "                                                     [key], {});\n",
              "          if (!dataTable) return;\n",
              "\n",
              "          const docLinkHtml = 'Like what you see? Visit the ' +\n",
              "            '<a target=\"_blank\" href=https://colab.research.google.com/notebooks/data_table.ipynb>data table notebook</a>'\n",
              "            + ' to learn more about interactive tables.';\n",
              "          element.innerHTML = '';\n",
              "          dataTable['output_type'] = 'display_data';\n",
              "          await google.colab.output.renderOutput(dataTable, element);\n",
              "          const docLink = document.createElement('div');\n",
              "          docLink.innerHTML = docLinkHtml;\n",
              "          element.appendChild(docLink);\n",
              "        }\n",
              "      </script>\n",
              "    </div>\n",
              "  </div>\n",
              "  "
            ]
          },
          "metadata": {},
          "execution_count": 56
        }
      ]
    },
    {
      "cell_type": "code",
      "source": [
        "dfWithoutStem.to_csv('augmentedDataWithoutStemming.csv')"
      ],
      "metadata": {
        "id": "nYoo_g2KvagC"
      },
      "id": "nYoo_g2KvagC",
      "execution_count": 59,
      "outputs": []
    },
    {
      "cell_type": "code",
      "source": [
        "from nltk import PorterStemmer\n",
        "def stemming(data):\n",
        "    stemmer= PorterStemmer()\n",
        "    \n",
        "    tokens = word_tokenize(str(data))\n",
        "    \n",
        "    new_text = \"\"\n",
        "    \n",
        "    for w in tokens:\n",
        "        new_text = new_text + \" \" + stemmer.stem(w)\n",
        "    \n",
        "    return new_text"
      ],
      "metadata": {
        "id": "yWm7o3U6z5fE"
      },
      "id": "yWm7o3U6z5fE",
      "execution_count": 60,
      "outputs": []
    },
    {
      "cell_type": "code",
      "source": [
        "def preprocesswithstem(data):\n",
        "    data=np.char.lower(data)\n",
        "    \n",
        "    data = remove_punctuation(data) #remove comma seperately\n",
        "    \n",
        "    data = remove_apostrophe(data)\n",
        "    \n",
        "    data = remove_stopwords(data)\n",
        "    \n",
        "    data = convert_numbers(data)\n",
        "    \n",
        "    data = stemming(data)\n",
        "    \n",
        "    data = remove_punctuation(data)\n",
        "    data = convert_numbers(data)\n",
        "    data = stemming(data) #needed again as we need to stem the words\n",
        "    data = remove_punctuation(data) #needed again as num2word is giving few hypens and commas fourty-one\n",
        "    data = remove_stopwords(data) #needed again as num2word is giving stop words 101 - one hundred and one\n",
        "    return data"
      ],
      "metadata": {
        "id": "EyAP8Kqaz97M"
      },
      "id": "EyAP8Kqaz97M",
      "execution_count": 61,
      "outputs": []
    },
    {
      "cell_type": "code",
      "source": [
        "dfWithStem = df.copy()"
      ],
      "metadata": {
        "id": "43LLF78j0Wvh"
      },
      "id": "43LLF78j0Wvh",
      "execution_count": 62,
      "outputs": []
    },
    {
      "cell_type": "code",
      "source": [
        "dfWithStem.Summary=dfWithStem.Summary.apply(preprocesswithstem)\n",
        "dfWithStem"
      ],
      "metadata": {
        "colab": {
          "base_uri": "https://localhost:8080/",
          "height": 424
        },
        "id": "Zr18nJlJ0m1R",
        "outputId": "1a06f83e-37b8-4e3d-8e92-f390e27cc15f"
      },
      "id": "Zr18nJlJ0m1R",
      "execution_count": 63,
      "outputs": [
        {
          "output_type": "execute_result",
          "data": {
            "text/plain": [
              "       Unnamed: 0                               Name                 Genres  \\\n",
              "0               1                 A Clockwork Orange        Science Fiction   \n",
              "1               6               A Wizard of Earthsea  Children's literature   \n",
              "2               8    Blade Runner 3: Replicant Night        Science Fiction   \n",
              "3               9  Blade Runner 2: The Edge of Human        Science Fiction   \n",
              "4              21                   Children of Dune        Science Fiction   \n",
              "...           ...                                ...                    ...   \n",
              "21864       16414                             Carver               Thriller   \n",
              "21865       16442                             Rabies               Thriller   \n",
              "21866       16542              The Bourne Imperative               Thriller   \n",
              "21867       16551                     Remote Control               Thriller   \n",
              "21868       16555                  Transfer of Power               Thriller   \n",
              "\n",
              "                                                 Summary  \n",
              "0       alex teenag live near futur england lead gang...  \n",
              "1       ged young boy gont one larger island north ar...  \n",
              "2       live mar deckard act consult movi crew film s...  \n",
              "3       begin sever month event blade runner deckard ...  \n",
              "4       nine year emperor paul muad dib walk desert b...  \n",
              "...                                                  ...  \n",
              "21864   central charact samuel carver ex assassin sto...  \n",
              "21865   seth betim one thousand nine hundr eighti hei...  \n",
              "21866   detail background main charact see jason bour...  \n",
              "21867   seri follow charact nick stone ex militari ma...  \n",
              "21868   reader first base meet rapp covert oper iran ...  \n",
              "\n",
              "[21869 rows x 4 columns]"
            ],
            "text/html": [
              "\n",
              "  <div id=\"df-522901aa-9774-4ae0-8fbc-6beb1d0a602b\">\n",
              "    <div class=\"colab-df-container\">\n",
              "      <div>\n",
              "<style scoped>\n",
              "    .dataframe tbody tr th:only-of-type {\n",
              "        vertical-align: middle;\n",
              "    }\n",
              "\n",
              "    .dataframe tbody tr th {\n",
              "        vertical-align: top;\n",
              "    }\n",
              "\n",
              "    .dataframe thead th {\n",
              "        text-align: right;\n",
              "    }\n",
              "</style>\n",
              "<table border=\"1\" class=\"dataframe\">\n",
              "  <thead>\n",
              "    <tr style=\"text-align: right;\">\n",
              "      <th></th>\n",
              "      <th>Unnamed: 0</th>\n",
              "      <th>Name</th>\n",
              "      <th>Genres</th>\n",
              "      <th>Summary</th>\n",
              "    </tr>\n",
              "  </thead>\n",
              "  <tbody>\n",
              "    <tr>\n",
              "      <th>0</th>\n",
              "      <td>1</td>\n",
              "      <td>A Clockwork Orange</td>\n",
              "      <td>Science Fiction</td>\n",
              "      <td>alex teenag live near futur england lead gang...</td>\n",
              "    </tr>\n",
              "    <tr>\n",
              "      <th>1</th>\n",
              "      <td>6</td>\n",
              "      <td>A Wizard of Earthsea</td>\n",
              "      <td>Children's literature</td>\n",
              "      <td>ged young boy gont one larger island north ar...</td>\n",
              "    </tr>\n",
              "    <tr>\n",
              "      <th>2</th>\n",
              "      <td>8</td>\n",
              "      <td>Blade Runner 3: Replicant Night</td>\n",
              "      <td>Science Fiction</td>\n",
              "      <td>live mar deckard act consult movi crew film s...</td>\n",
              "    </tr>\n",
              "    <tr>\n",
              "      <th>3</th>\n",
              "      <td>9</td>\n",
              "      <td>Blade Runner 2: The Edge of Human</td>\n",
              "      <td>Science Fiction</td>\n",
              "      <td>begin sever month event blade runner deckard ...</td>\n",
              "    </tr>\n",
              "    <tr>\n",
              "      <th>4</th>\n",
              "      <td>21</td>\n",
              "      <td>Children of Dune</td>\n",
              "      <td>Science Fiction</td>\n",
              "      <td>nine year emperor paul muad dib walk desert b...</td>\n",
              "    </tr>\n",
              "    <tr>\n",
              "      <th>...</th>\n",
              "      <td>...</td>\n",
              "      <td>...</td>\n",
              "      <td>...</td>\n",
              "      <td>...</td>\n",
              "    </tr>\n",
              "    <tr>\n",
              "      <th>21864</th>\n",
              "      <td>16414</td>\n",
              "      <td>Carver</td>\n",
              "      <td>Thriller</td>\n",
              "      <td>central charact samuel carver ex assassin sto...</td>\n",
              "    </tr>\n",
              "    <tr>\n",
              "      <th>21865</th>\n",
              "      <td>16442</td>\n",
              "      <td>Rabies</td>\n",
              "      <td>Thriller</td>\n",
              "      <td>seth betim one thousand nine hundr eighti hei...</td>\n",
              "    </tr>\n",
              "    <tr>\n",
              "      <th>21866</th>\n",
              "      <td>16542</td>\n",
              "      <td>The Bourne Imperative</td>\n",
              "      <td>Thriller</td>\n",
              "      <td>detail background main charact see jason bour...</td>\n",
              "    </tr>\n",
              "    <tr>\n",
              "      <th>21867</th>\n",
              "      <td>16551</td>\n",
              "      <td>Remote Control</td>\n",
              "      <td>Thriller</td>\n",
              "      <td>seri follow charact nick stone ex militari ma...</td>\n",
              "    </tr>\n",
              "    <tr>\n",
              "      <th>21868</th>\n",
              "      <td>16555</td>\n",
              "      <td>Transfer of Power</td>\n",
              "      <td>Thriller</td>\n",
              "      <td>reader first base meet rapp covert oper iran ...</td>\n",
              "    </tr>\n",
              "  </tbody>\n",
              "</table>\n",
              "<p>21869 rows × 4 columns</p>\n",
              "</div>\n",
              "      <button class=\"colab-df-convert\" onclick=\"convertToInteractive('df-522901aa-9774-4ae0-8fbc-6beb1d0a602b')\"\n",
              "              title=\"Convert this dataframe to an interactive table.\"\n",
              "              style=\"display:none;\">\n",
              "        \n",
              "  <svg xmlns=\"http://www.w3.org/2000/svg\" height=\"24px\"viewBox=\"0 0 24 24\"\n",
              "       width=\"24px\">\n",
              "    <path d=\"M0 0h24v24H0V0z\" fill=\"none\"/>\n",
              "    <path d=\"M18.56 5.44l.94 2.06.94-2.06 2.06-.94-2.06-.94-.94-2.06-.94 2.06-2.06.94zm-11 1L8.5 8.5l.94-2.06 2.06-.94-2.06-.94L8.5 2.5l-.94 2.06-2.06.94zm10 10l.94 2.06.94-2.06 2.06-.94-2.06-.94-.94-2.06-.94 2.06-2.06.94z\"/><path d=\"M17.41 7.96l-1.37-1.37c-.4-.4-.92-.59-1.43-.59-.52 0-1.04.2-1.43.59L10.3 9.45l-7.72 7.72c-.78.78-.78 2.05 0 2.83L4 21.41c.39.39.9.59 1.41.59.51 0 1.02-.2 1.41-.59l7.78-7.78 2.81-2.81c.8-.78.8-2.07 0-2.86zM5.41 20L4 18.59l7.72-7.72 1.47 1.35L5.41 20z\"/>\n",
              "  </svg>\n",
              "      </button>\n",
              "      \n",
              "  <style>\n",
              "    .colab-df-container {\n",
              "      display:flex;\n",
              "      flex-wrap:wrap;\n",
              "      gap: 12px;\n",
              "    }\n",
              "\n",
              "    .colab-df-convert {\n",
              "      background-color: #E8F0FE;\n",
              "      border: none;\n",
              "      border-radius: 50%;\n",
              "      cursor: pointer;\n",
              "      display: none;\n",
              "      fill: #1967D2;\n",
              "      height: 32px;\n",
              "      padding: 0 0 0 0;\n",
              "      width: 32px;\n",
              "    }\n",
              "\n",
              "    .colab-df-convert:hover {\n",
              "      background-color: #E2EBFA;\n",
              "      box-shadow: 0px 1px 2px rgba(60, 64, 67, 0.3), 0px 1px 3px 1px rgba(60, 64, 67, 0.15);\n",
              "      fill: #174EA6;\n",
              "    }\n",
              "\n",
              "    [theme=dark] .colab-df-convert {\n",
              "      background-color: #3B4455;\n",
              "      fill: #D2E3FC;\n",
              "    }\n",
              "\n",
              "    [theme=dark] .colab-df-convert:hover {\n",
              "      background-color: #434B5C;\n",
              "      box-shadow: 0px 1px 3px 1px rgba(0, 0, 0, 0.15);\n",
              "      filter: drop-shadow(0px 1px 2px rgba(0, 0, 0, 0.3));\n",
              "      fill: #FFFFFF;\n",
              "    }\n",
              "  </style>\n",
              "\n",
              "      <script>\n",
              "        const buttonEl =\n",
              "          document.querySelector('#df-522901aa-9774-4ae0-8fbc-6beb1d0a602b button.colab-df-convert');\n",
              "        buttonEl.style.display =\n",
              "          google.colab.kernel.accessAllowed ? 'block' : 'none';\n",
              "\n",
              "        async function convertToInteractive(key) {\n",
              "          const element = document.querySelector('#df-522901aa-9774-4ae0-8fbc-6beb1d0a602b');\n",
              "          const dataTable =\n",
              "            await google.colab.kernel.invokeFunction('convertToInteractive',\n",
              "                                                     [key], {});\n",
              "          if (!dataTable) return;\n",
              "\n",
              "          const docLinkHtml = 'Like what you see? Visit the ' +\n",
              "            '<a target=\"_blank\" href=https://colab.research.google.com/notebooks/data_table.ipynb>data table notebook</a>'\n",
              "            + ' to learn more about interactive tables.';\n",
              "          element.innerHTML = '';\n",
              "          dataTable['output_type'] = 'display_data';\n",
              "          await google.colab.output.renderOutput(dataTable, element);\n",
              "          const docLink = document.createElement('div');\n",
              "          docLink.innerHTML = docLinkHtml;\n",
              "          element.appendChild(docLink);\n",
              "        }\n",
              "      </script>\n",
              "    </div>\n",
              "  </div>\n",
              "  "
            ]
          },
          "metadata": {},
          "execution_count": 63
        }
      ]
    },
    {
      "cell_type": "code",
      "source": [
        "dfWithStem.to_csv('augmentedDataWithStemming.csv')"
      ],
      "metadata": {
        "id": "XSM2wb3l0rv_"
      },
      "id": "XSM2wb3l0rv_",
      "execution_count": 65,
      "outputs": []
    },
    {
      "cell_type": "code",
      "source": [],
      "metadata": {
        "id": "di820bPu4AoL"
      },
      "id": "di820bPu4AoL",
      "execution_count": null,
      "outputs": []
    }
  ],
  "metadata": {
    "colab": {
      "provenance": []
    },
    "kernelspec": {
      "display_name": "Python 3 (ipykernel)",
      "language": "python",
      "name": "python3"
    },
    "language_info": {
      "codemirror_mode": {
        "name": "ipython",
        "version": 3
      },
      "file_extension": ".py",
      "mimetype": "text/x-python",
      "name": "python",
      "nbconvert_exporter": "python",
      "pygments_lexer": "ipython3",
      "version": "3.10.8"
    }
  },
  "nbformat": 4,
  "nbformat_minor": 5
}
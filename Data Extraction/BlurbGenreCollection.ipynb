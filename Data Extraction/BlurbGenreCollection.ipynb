{
  "cells": [
    {
      "cell_type": "markdown",
      "id": "a48239bb",
      "metadata": {
        "id": "a48239bb"
      },
      "source": [
        "# Blurb Genre Collection"
      ]
    },
    {
      "cell_type": "markdown",
      "id": "b0bcb5e1",
      "metadata": {
        "id": "b0bcb5e1"
      },
      "source": [
        "## Data Parsing and Extraction"
      ]
    },
    {
      "cell_type": "code",
      "execution_count": 1,
      "id": "7634b70c",
      "metadata": {
        "id": "7634b70c"
      },
      "outputs": [],
      "source": [
        "#necessary imports\n",
        "import pandas as pd\n",
        "from xml.etree import ElementTree"
      ]
    },
    {
      "cell_type": "code",
      "execution_count": 3,
      "id": "55f496a7",
      "metadata": {
        "id": "55f496a7"
      },
      "outputs": [],
      "source": [
        "#Making dataset list to feed it into pandas read csv function\n",
        "dataset=[]"
      ]
    },
    {
      "cell_type": "code",
      "execution_count": 4,
      "id": "e4bfb9f9",
      "metadata": {
        "id": "e4bfb9f9"
      },
      "outputs": [],
      "source": [
        "#Parsing training file\n",
        "tree = ElementTree.parse('/content/train.xml')\n",
        "root = tree.getroot()\n",
        "\n",
        "for book in root.findall('book'):\n",
        "    i=0\n",
        "    for metadata in book.find('metadata'):\n",
        "        if(i==0):\n",
        "            x=metadata\n",
        "        if(i==1):\n",
        "            author=metadata.text\n",
        "        if(i==2):\n",
        "            published=metadata.text\n",
        "        if(i==3):\n",
        "            pagenum=metadata.text\n",
        "        if(i==4):\n",
        "            break\n",
        "        i+=1\n",
        "        \n",
        "    \n",
        "    \n",
        "    s=''    \n",
        "    if(x.find('d1')!=None):\n",
        "        s=x.find('d1').text\n",
        "    else:\n",
        "        s=x.find('d0').text\n",
        "            \n",
        "    \n",
        "    dataset.append([book.find('title').text,s,book.find('body').text,author,published,pagenum])"
      ]
    },
    {
      "cell_type": "code",
      "execution_count": 5,
      "id": "b2241ab3",
      "metadata": {
        "id": "b2241ab3"
      },
      "outputs": [],
      "source": [
        "#Parsing testing file\n",
        "tree = ElementTree.parse('/content/test.xml')\n",
        "root = tree.getroot()\n",
        "for book in root.findall('book'):\n",
        "    i=0\n",
        "    for metadata in book.find('metadata'):\n",
        "        if(i==0):\n",
        "            x=metadata\n",
        "        if(i==1):\n",
        "            author=metadata.text\n",
        "        if(i==2):\n",
        "            published=metadata.text\n",
        "        if(i==3):\n",
        "            pagenum=metadata.text\n",
        "        if(i==4):\n",
        "            break\n",
        "        i+=1\n",
        "        \n",
        "    \n",
        "    \n",
        "    s=''    \n",
        "    if(x.find('d1')!=None):\n",
        "        s=x.find('d1').text\n",
        "    else:\n",
        "        s=x.find('d0').text\n",
        "            \n",
        "    \n",
        "    dataset.append([book.find('title').text,s,book.find('body').text,author,published,pagenum])"
      ]
    },
    {
      "cell_type": "code",
      "execution_count": 6,
      "id": "c9032a78",
      "metadata": {
        "id": "c9032a78"
      },
      "outputs": [],
      "source": [
        "df=pd.DataFrame(dataset,columns=['Name','Genres','Summary',\n",
        "                                 'Author','Published','PageNum'])"
      ]
    },
    {
      "cell_type": "code",
      "execution_count": 7,
      "id": "281fb0af",
      "metadata": {
        "scrolled": true,
        "colab": {
          "base_uri": "https://localhost:8080/",
          "height": 641
        },
        "id": "281fb0af",
        "outputId": "7bfd213d-cd4a-473f-afcc-2f29b179c3bf"
      },
      "outputs": [
        {
          "output_type": "execute_result",
          "data": {
            "text/plain": [
              "                                                    Name  \\\n",
              "0      The New York Times Daily Crossword Puzzles: Th...   \n",
              "1                Creatures of the Night (Second Edition)   \n",
              "2      Cornelia and the Audacious Escapades of the So...   \n",
              "3                               The Alchemist's Daughter   \n",
              "4                                          Dangerous Boy   \n",
              "...                                                  ...   \n",
              "77104                               Cathedral of the Sea   \n",
              "77105            Understanding the Messages of Your Body   \n",
              "77106                                           Knockout   \n",
              "77107                             The End of the Suburbs   \n",
              "77108             First Aid Fast for Babies and Children   \n",
              "\n",
              "                                          Genres  \\\n",
              "0                                          Games   \n",
              "1                       Graphic Novels and Manga   \n",
              "2                  Children’s Middle Grade Books   \n",
              "3                             Historical Fiction   \n",
              "4      Teen and Young Adult Mystery and Suspense   \n",
              "...                                          ...   \n",
              "77104                                    Romance   \n",
              "77105                         Health and Fitness   \n",
              "77106                         Health and Fitness   \n",
              "77107                                   Politics   \n",
              "77108                                  Parenting   \n",
              "\n",
              "                                                 Summary  \\\n",
              "0      Monday’s Crosswords Do with EaseTuesday’s Cros...   \n",
              "1      Two of literary comics modern masters present ...   \n",
              "2      Eleven-year-old Cornelia is the daughter of tw...   \n",
              "3      During the English Age of Reason, a woman cloi...   \n",
              "4      A modern-day retelling of The Strange Case of ...   \n",
              "...                                                  ...   \n",
              "77104  An unforgettable fresco of a golden age in fou...   \n",
              "77105  Fears, anxieties, traumas, and physical and em...   \n",
              "77106  In Knockout, Suzanne Somers interviews doctors...   \n",
              "77107  “The government in the past created one Americ...   \n",
              "77108  An indispensable guide for all parents and car...   \n",
              "\n",
              "                         Author      Published     PageNum  \n",
              "0                New York Times  Dec 28, 1996    224 Pages  \n",
              "1                   Neil Gaiman  Nov 29, 2016     48 Pages  \n",
              "2            Lesley M. M. Blume  Jan 08, 2008    272 Pages  \n",
              "3             Katharine McMahon  Oct 24, 2006    352 Pages  \n",
              "4                 Mandy Hubbard  Aug 30, 2012    272 Pages  \n",
              "...                         ...            ...         ...  \n",
              "77104        Ildefonso Falcones  Apr 07, 2009    624 Pages  \n",
              "77105  Jean-Pierre Barral, D.O.  Nov 13, 2007    256 Pages  \n",
              "77106            Suzanne Somers  Oct 05, 2010    368 Pages  \n",
              "77107           Leigh Gallagher  Jun 24, 2014    272 Pages  \n",
              "77108                        DK  Jun 20, 2017    128 Pages  \n",
              "\n",
              "[77109 rows x 6 columns]"
            ],
            "text/html": [
              "\n",
              "  <div id=\"df-8e691a58-844c-4fae-acd2-916fae10267c\">\n",
              "    <div class=\"colab-df-container\">\n",
              "      <div>\n",
              "<style scoped>\n",
              "    .dataframe tbody tr th:only-of-type {\n",
              "        vertical-align: middle;\n",
              "    }\n",
              "\n",
              "    .dataframe tbody tr th {\n",
              "        vertical-align: top;\n",
              "    }\n",
              "\n",
              "    .dataframe thead th {\n",
              "        text-align: right;\n",
              "    }\n",
              "</style>\n",
              "<table border=\"1\" class=\"dataframe\">\n",
              "  <thead>\n",
              "    <tr style=\"text-align: right;\">\n",
              "      <th></th>\n",
              "      <th>Name</th>\n",
              "      <th>Genres</th>\n",
              "      <th>Summary</th>\n",
              "      <th>Author</th>\n",
              "      <th>Published</th>\n",
              "      <th>PageNum</th>\n",
              "    </tr>\n",
              "  </thead>\n",
              "  <tbody>\n",
              "    <tr>\n",
              "      <th>0</th>\n",
              "      <td>The New York Times Daily Crossword Puzzles: Th...</td>\n",
              "      <td>Games</td>\n",
              "      <td>Monday’s Crosswords Do with EaseTuesday’s Cros...</td>\n",
              "      <td>New York Times</td>\n",
              "      <td>Dec 28, 1996</td>\n",
              "      <td>224 Pages</td>\n",
              "    </tr>\n",
              "    <tr>\n",
              "      <th>1</th>\n",
              "      <td>Creatures of the Night (Second Edition)</td>\n",
              "      <td>Graphic Novels and Manga</td>\n",
              "      <td>Two of literary comics modern masters present ...</td>\n",
              "      <td>Neil Gaiman</td>\n",
              "      <td>Nov 29, 2016</td>\n",
              "      <td>48 Pages</td>\n",
              "    </tr>\n",
              "    <tr>\n",
              "      <th>2</th>\n",
              "      <td>Cornelia and the Audacious Escapades of the So...</td>\n",
              "      <td>Children’s Middle Grade Books</td>\n",
              "      <td>Eleven-year-old Cornelia is the daughter of tw...</td>\n",
              "      <td>Lesley M. M. Blume</td>\n",
              "      <td>Jan 08, 2008</td>\n",
              "      <td>272 Pages</td>\n",
              "    </tr>\n",
              "    <tr>\n",
              "      <th>3</th>\n",
              "      <td>The Alchemist's Daughter</td>\n",
              "      <td>Historical Fiction</td>\n",
              "      <td>During the English Age of Reason, a woman cloi...</td>\n",
              "      <td>Katharine McMahon</td>\n",
              "      <td>Oct 24, 2006</td>\n",
              "      <td>352 Pages</td>\n",
              "    </tr>\n",
              "    <tr>\n",
              "      <th>4</th>\n",
              "      <td>Dangerous Boy</td>\n",
              "      <td>Teen and Young Adult Mystery and Suspense</td>\n",
              "      <td>A modern-day retelling of The Strange Case of ...</td>\n",
              "      <td>Mandy Hubbard</td>\n",
              "      <td>Aug 30, 2012</td>\n",
              "      <td>272 Pages</td>\n",
              "    </tr>\n",
              "    <tr>\n",
              "      <th>...</th>\n",
              "      <td>...</td>\n",
              "      <td>...</td>\n",
              "      <td>...</td>\n",
              "      <td>...</td>\n",
              "      <td>...</td>\n",
              "      <td>...</td>\n",
              "    </tr>\n",
              "    <tr>\n",
              "      <th>77104</th>\n",
              "      <td>Cathedral of the Sea</td>\n",
              "      <td>Romance</td>\n",
              "      <td>An unforgettable fresco of a golden age in fou...</td>\n",
              "      <td>Ildefonso Falcones</td>\n",
              "      <td>Apr 07, 2009</td>\n",
              "      <td>624 Pages</td>\n",
              "    </tr>\n",
              "    <tr>\n",
              "      <th>77105</th>\n",
              "      <td>Understanding the Messages of Your Body</td>\n",
              "      <td>Health and Fitness</td>\n",
              "      <td>Fears, anxieties, traumas, and physical and em...</td>\n",
              "      <td>Jean-Pierre Barral, D.O.</td>\n",
              "      <td>Nov 13, 2007</td>\n",
              "      <td>256 Pages</td>\n",
              "    </tr>\n",
              "    <tr>\n",
              "      <th>77106</th>\n",
              "      <td>Knockout</td>\n",
              "      <td>Health and Fitness</td>\n",
              "      <td>In Knockout, Suzanne Somers interviews doctors...</td>\n",
              "      <td>Suzanne Somers</td>\n",
              "      <td>Oct 05, 2010</td>\n",
              "      <td>368 Pages</td>\n",
              "    </tr>\n",
              "    <tr>\n",
              "      <th>77107</th>\n",
              "      <td>The End of the Suburbs</td>\n",
              "      <td>Politics</td>\n",
              "      <td>“The government in the past created one Americ...</td>\n",
              "      <td>Leigh Gallagher</td>\n",
              "      <td>Jun 24, 2014</td>\n",
              "      <td>272 Pages</td>\n",
              "    </tr>\n",
              "    <tr>\n",
              "      <th>77108</th>\n",
              "      <td>First Aid Fast for Babies and Children</td>\n",
              "      <td>Parenting</td>\n",
              "      <td>An indispensable guide for all parents and car...</td>\n",
              "      <td>DK</td>\n",
              "      <td>Jun 20, 2017</td>\n",
              "      <td>128 Pages</td>\n",
              "    </tr>\n",
              "  </tbody>\n",
              "</table>\n",
              "<p>77109 rows × 6 columns</p>\n",
              "</div>\n",
              "      <button class=\"colab-df-convert\" onclick=\"convertToInteractive('df-8e691a58-844c-4fae-acd2-916fae10267c')\"\n",
              "              title=\"Convert this dataframe to an interactive table.\"\n",
              "              style=\"display:none;\">\n",
              "        \n",
              "  <svg xmlns=\"http://www.w3.org/2000/svg\" height=\"24px\"viewBox=\"0 0 24 24\"\n",
              "       width=\"24px\">\n",
              "    <path d=\"M0 0h24v24H0V0z\" fill=\"none\"/>\n",
              "    <path d=\"M18.56 5.44l.94 2.06.94-2.06 2.06-.94-2.06-.94-.94-2.06-.94 2.06-2.06.94zm-11 1L8.5 8.5l.94-2.06 2.06-.94-2.06-.94L8.5 2.5l-.94 2.06-2.06.94zm10 10l.94 2.06.94-2.06 2.06-.94-2.06-.94-.94-2.06-.94 2.06-2.06.94z\"/><path d=\"M17.41 7.96l-1.37-1.37c-.4-.4-.92-.59-1.43-.59-.52 0-1.04.2-1.43.59L10.3 9.45l-7.72 7.72c-.78.78-.78 2.05 0 2.83L4 21.41c.39.39.9.59 1.41.59.51 0 1.02-.2 1.41-.59l7.78-7.78 2.81-2.81c.8-.78.8-2.07 0-2.86zM5.41 20L4 18.59l7.72-7.72 1.47 1.35L5.41 20z\"/>\n",
              "  </svg>\n",
              "      </button>\n",
              "      \n",
              "  <style>\n",
              "    .colab-df-container {\n",
              "      display:flex;\n",
              "      flex-wrap:wrap;\n",
              "      gap: 12px;\n",
              "    }\n",
              "\n",
              "    .colab-df-convert {\n",
              "      background-color: #E8F0FE;\n",
              "      border: none;\n",
              "      border-radius: 50%;\n",
              "      cursor: pointer;\n",
              "      display: none;\n",
              "      fill: #1967D2;\n",
              "      height: 32px;\n",
              "      padding: 0 0 0 0;\n",
              "      width: 32px;\n",
              "    }\n",
              "\n",
              "    .colab-df-convert:hover {\n",
              "      background-color: #E2EBFA;\n",
              "      box-shadow: 0px 1px 2px rgba(60, 64, 67, 0.3), 0px 1px 3px 1px rgba(60, 64, 67, 0.15);\n",
              "      fill: #174EA6;\n",
              "    }\n",
              "\n",
              "    [theme=dark] .colab-df-convert {\n",
              "      background-color: #3B4455;\n",
              "      fill: #D2E3FC;\n",
              "    }\n",
              "\n",
              "    [theme=dark] .colab-df-convert:hover {\n",
              "      background-color: #434B5C;\n",
              "      box-shadow: 0px 1px 3px 1px rgba(0, 0, 0, 0.15);\n",
              "      filter: drop-shadow(0px 1px 2px rgba(0, 0, 0, 0.3));\n",
              "      fill: #FFFFFF;\n",
              "    }\n",
              "  </style>\n",
              "\n",
              "      <script>\n",
              "        const buttonEl =\n",
              "          document.querySelector('#df-8e691a58-844c-4fae-acd2-916fae10267c button.colab-df-convert');\n",
              "        buttonEl.style.display =\n",
              "          google.colab.kernel.accessAllowed ? 'block' : 'none';\n",
              "\n",
              "        async function convertToInteractive(key) {\n",
              "          const element = document.querySelector('#df-8e691a58-844c-4fae-acd2-916fae10267c');\n",
              "          const dataTable =\n",
              "            await google.colab.kernel.invokeFunction('convertToInteractive',\n",
              "                                                     [key], {});\n",
              "          if (!dataTable) return;\n",
              "\n",
              "          const docLinkHtml = 'Like what you see? Visit the ' +\n",
              "            '<a target=\"_blank\" href=https://colab.research.google.com/notebooks/data_table.ipynb>data table notebook</a>'\n",
              "            + ' to learn more about interactive tables.';\n",
              "          element.innerHTML = '';\n",
              "          dataTable['output_type'] = 'display_data';\n",
              "          await google.colab.output.renderOutput(dataTable, element);\n",
              "          const docLink = document.createElement('div');\n",
              "          docLink.innerHTML = docLinkHtml;\n",
              "          element.appendChild(docLink);\n",
              "        }\n",
              "      </script>\n",
              "    </div>\n",
              "  </div>\n",
              "  "
            ]
          },
          "metadata": {},
          "execution_count": 7
        }
      ],
      "source": [
        "df"
      ]
    },
    {
      "cell_type": "code",
      "execution_count": 8,
      "id": "fcc8c2dc",
      "metadata": {
        "colab": {
          "base_uri": "https://localhost:8080/"
        },
        "id": "fcc8c2dc",
        "outputId": "a87f1720-f789-4fe0-a4e5-b68c5292e01f"
      },
      "outputs": [
        {
          "output_type": "execute_result",
          "data": {
            "text/plain": [
              "Children’s Books                             9555\n",
              "Children’s Middle Grade Books                6416\n",
              "Literary Fiction                             6101\n",
              "Mystery and Suspense                         6028\n",
              "Romance                                      5140\n",
              "Biography and Memoir                         4390\n",
              "Religion and Philosophy                      4245\n",
              "Graphic Novels and Manga                     3694\n",
              "Cooking                                      2468\n",
              "Politics                                     2146\n",
              "Arts and Entertainment                       1927\n",
              "Fantasy                                      1647\n",
              "Teen and Young Adult Fiction                 1506\n",
              "Self-Improvement                             1488\n",
              "Health and Fitness                           1485\n",
              "History                                      1337\n",
              "Popular Science                              1302\n",
              "Science Fiction                              1272\n",
              "Crafts, Home and Garden                      1128\n",
              "Reference                                    1072\n",
              "Parenting                                    1072\n",
              "Western Fiction                              1034\n",
              "Psychology                                   1008\n",
              "Nonfiction                                    836\n",
              "Fiction                                       798\n",
              "Travel                                        635\n",
              "Women’s Fiction                               594\n",
              "Teen and Young Adult Fantasy Fiction          585\n",
              "Business                                      578\n",
              "Literary Criticism                            528\n",
              "Step Into Reading                             521\n",
              "Teen and Young Adult Mystery and Suspense     444\n",
              "Poetry                                        431\n",
              "Literary Collections                          423\n",
              "Historical Fiction                            388\n",
              "Humor                                         374\n",
              "Nonfiction Classics                           370\n",
              "Sports                                        341\n",
              "Fiction Classics                              302\n",
              "Games                                         239\n",
              "Teen and Young Adult Historical Fiction       234\n",
              "Teen and Young Adult Nonfiction               231\n",
              "Military Fiction                              158\n",
              "Classics                                      150\n",
              "Paranormal Fiction                            141\n",
              "Pets                                          124\n",
              "Gothic and Horror                              90\n",
              "Spiritual Fiction                              85\n",
              "Teen and Young Adult Action and Adventure      48\n",
              "Name: Genres, dtype: int64"
            ]
          },
          "metadata": {},
          "execution_count": 8
        }
      ],
      "source": [
        "df.Genres.value_counts()"
      ]
    },
    {
      "cell_type": "code",
      "execution_count": 9,
      "id": "31c284b1",
      "metadata": {
        "id": "31c284b1"
      },
      "outputs": [],
      "source": [
        "import nltk\n",
        "from nltk.corpus import stopwords\n",
        "from nltk.stem.snowball import SnowballStemmer\n",
        "import re\n",
        "import sys\n",
        "import warnings\n",
        "data = df\n",
        "if not sys.warnoptions:\n",
        "    warnings.simplefilter(\"ignore\")\n",
        "def cleanHtml(sentence):\n",
        "    cleanr = re.compile('<.*?>')\n",
        "    cleantext = re.sub(cleanr, ' ', str(sentence))\n",
        "    return cleantext\n",
        "data['Summary'] = data['Summary'].str.lower()\n",
        "data['Summary'] = data['Summary'].apply(cleanHtml)"
      ]
    },
    {
      "cell_type": "code",
      "execution_count": 10,
      "id": "6266e6ec",
      "metadata": {
        "colab": {
          "base_uri": "https://localhost:8080/",
          "height": 49
        },
        "id": "6266e6ec",
        "outputId": "1c2fe6c5-52aa-4272-b95b-06d8b5865070"
      },
      "outputs": [
        {
          "output_type": "execute_result",
          "data": {
            "text/plain": [
              "Empty DataFrame\n",
              "Columns: [Name, Genres, Summary, Author, Published, PageNum]\n",
              "Index: []"
            ],
            "text/html": [
              "\n",
              "  <div id=\"df-89674d3f-7db6-4a9d-9ba2-4170c02dc34c\">\n",
              "    <div class=\"colab-df-container\">\n",
              "      <div>\n",
              "<style scoped>\n",
              "    .dataframe tbody tr th:only-of-type {\n",
              "        vertical-align: middle;\n",
              "    }\n",
              "\n",
              "    .dataframe tbody tr th {\n",
              "        vertical-align: top;\n",
              "    }\n",
              "\n",
              "    .dataframe thead th {\n",
              "        text-align: right;\n",
              "    }\n",
              "</style>\n",
              "<table border=\"1\" class=\"dataframe\">\n",
              "  <thead>\n",
              "    <tr style=\"text-align: right;\">\n",
              "      <th></th>\n",
              "      <th>Name</th>\n",
              "      <th>Genres</th>\n",
              "      <th>Summary</th>\n",
              "      <th>Author</th>\n",
              "      <th>Published</th>\n",
              "      <th>PageNum</th>\n",
              "    </tr>\n",
              "  </thead>\n",
              "  <tbody>\n",
              "  </tbody>\n",
              "</table>\n",
              "</div>\n",
              "      <button class=\"colab-df-convert\" onclick=\"convertToInteractive('df-89674d3f-7db6-4a9d-9ba2-4170c02dc34c')\"\n",
              "              title=\"Convert this dataframe to an interactive table.\"\n",
              "              style=\"display:none;\">\n",
              "        \n",
              "  <svg xmlns=\"http://www.w3.org/2000/svg\" height=\"24px\"viewBox=\"0 0 24 24\"\n",
              "       width=\"24px\">\n",
              "    <path d=\"M0 0h24v24H0V0z\" fill=\"none\"/>\n",
              "    <path d=\"M18.56 5.44l.94 2.06.94-2.06 2.06-.94-2.06-.94-.94-2.06-.94 2.06-2.06.94zm-11 1L8.5 8.5l.94-2.06 2.06-.94-2.06-.94L8.5 2.5l-.94 2.06-2.06.94zm10 10l.94 2.06.94-2.06 2.06-.94-2.06-.94-.94-2.06-.94 2.06-2.06.94z\"/><path d=\"M17.41 7.96l-1.37-1.37c-.4-.4-.92-.59-1.43-.59-.52 0-1.04.2-1.43.59L10.3 9.45l-7.72 7.72c-.78.78-.78 2.05 0 2.83L4 21.41c.39.39.9.59 1.41.59.51 0 1.02-.2 1.41-.59l7.78-7.78 2.81-2.81c.8-.78.8-2.07 0-2.86zM5.41 20L4 18.59l7.72-7.72 1.47 1.35L5.41 20z\"/>\n",
              "  </svg>\n",
              "      </button>\n",
              "      \n",
              "  <style>\n",
              "    .colab-df-container {\n",
              "      display:flex;\n",
              "      flex-wrap:wrap;\n",
              "      gap: 12px;\n",
              "    }\n",
              "\n",
              "    .colab-df-convert {\n",
              "      background-color: #E8F0FE;\n",
              "      border: none;\n",
              "      border-radius: 50%;\n",
              "      cursor: pointer;\n",
              "      display: none;\n",
              "      fill: #1967D2;\n",
              "      height: 32px;\n",
              "      padding: 0 0 0 0;\n",
              "      width: 32px;\n",
              "    }\n",
              "\n",
              "    .colab-df-convert:hover {\n",
              "      background-color: #E2EBFA;\n",
              "      box-shadow: 0px 1px 2px rgba(60, 64, 67, 0.3), 0px 1px 3px 1px rgba(60, 64, 67, 0.15);\n",
              "      fill: #174EA6;\n",
              "    }\n",
              "\n",
              "    [theme=dark] .colab-df-convert {\n",
              "      background-color: #3B4455;\n",
              "      fill: #D2E3FC;\n",
              "    }\n",
              "\n",
              "    [theme=dark] .colab-df-convert:hover {\n",
              "      background-color: #434B5C;\n",
              "      box-shadow: 0px 1px 3px 1px rgba(0, 0, 0, 0.15);\n",
              "      filter: drop-shadow(0px 1px 2px rgba(0, 0, 0, 0.3));\n",
              "      fill: #FFFFFF;\n",
              "    }\n",
              "  </style>\n",
              "\n",
              "      <script>\n",
              "        const buttonEl =\n",
              "          document.querySelector('#df-89674d3f-7db6-4a9d-9ba2-4170c02dc34c button.colab-df-convert');\n",
              "        buttonEl.style.display =\n",
              "          google.colab.kernel.accessAllowed ? 'block' : 'none';\n",
              "\n",
              "        async function convertToInteractive(key) {\n",
              "          const element = document.querySelector('#df-89674d3f-7db6-4a9d-9ba2-4170c02dc34c');\n",
              "          const dataTable =\n",
              "            await google.colab.kernel.invokeFunction('convertToInteractive',\n",
              "                                                     [key], {});\n",
              "          if (!dataTable) return;\n",
              "\n",
              "          const docLinkHtml = 'Like what you see? Visit the ' +\n",
              "            '<a target=\"_blank\" href=https://colab.research.google.com/notebooks/data_table.ipynb>data table notebook</a>'\n",
              "            + ' to learn more about interactive tables.';\n",
              "          element.innerHTML = '';\n",
              "          dataTable['output_type'] = 'display_data';\n",
              "          await google.colab.output.renderOutput(dataTable, element);\n",
              "          const docLink = document.createElement('div');\n",
              "          docLink.innerHTML = docLinkHtml;\n",
              "          element.appendChild(docLink);\n",
              "        }\n",
              "      </script>\n",
              "    </div>\n",
              "  </div>\n",
              "  "
            ]
          },
          "metadata": {},
          "execution_count": 10
        }
      ],
      "source": [
        "df.loc[df['Summary'].str.contains(\"<\", case=False)]\n",
        "# output is empty dataframe. Hence, Summary is clean of HTML content."
      ]
    },
    {
      "cell_type": "code",
      "execution_count": 11,
      "id": "330c570a",
      "metadata": {
        "colab": {
          "base_uri": "https://localhost:8080/"
        },
        "id": "330c570a",
        "outputId": "e01bf25d-1c83-4dd0-95fe-14374faea3c4"
      },
      "outputs": [
        {
          "output_type": "execute_result",
          "data": {
            "text/plain": [
              "0        monday’s crosswords do with easetuesday’s cros...\n",
              "1        two of literary comics modern masters present ...\n",
              "2        eleven-year-old cornelia is the daughter of tw...\n",
              "3        during the english age of reason, a woman cloi...\n",
              "4        a modern-day retelling of the strange case of ...\n",
              "                               ...                        \n",
              "77104    an unforgettable fresco of a golden age in fou...\n",
              "77105    fears, anxieties, traumas, and physical and em...\n",
              "77106    in knockout, suzanne somers interviews doctors...\n",
              "77107    “the government in the past created one americ...\n",
              "77108    an indispensable guide for all parents and car...\n",
              "Name: Summary, Length: 77109, dtype: object"
            ]
          },
          "metadata": {},
          "execution_count": 11
        }
      ],
      "source": [
        "df[\"Summary\"]"
      ]
    },
    {
      "cell_type": "code",
      "execution_count": 12,
      "id": "08c24e62",
      "metadata": {
        "id": "08c24e62"
      },
      "outputs": [],
      "source": [
        "def cleanPunc(sentence): #function to clean the word of any punctuation or special characters\n",
        "    cleaned = re.sub(r'[?|!|\\'|\"|#]',r'',sentence)\n",
        "    cleaned = re.sub(r'[.|,|)|(|\\|/]',r' ',cleaned)\n",
        "    cleaned = cleaned.strip()\n",
        "    cleaned = cleaned.replace(\"\\n\",\" \")\n",
        "    return cleaned"
      ]
    },
    {
      "cell_type": "code",
      "execution_count": 13,
      "id": "afe7e222",
      "metadata": {
        "id": "afe7e222"
      },
      "outputs": [],
      "source": [
        "data['Summary'] = data['Summary'].apply(cleanPunc)"
      ]
    },
    {
      "cell_type": "code",
      "execution_count": 14,
      "id": "9e5d3df3",
      "metadata": {
        "colab": {
          "base_uri": "https://localhost:8080/",
          "height": 49
        },
        "id": "9e5d3df3",
        "outputId": "91a2b435-b0ba-4dd4-fe99-a78b0810db3d"
      },
      "outputs": [
        {
          "output_type": "execute_result",
          "data": {
            "text/plain": [
              "Empty DataFrame\n",
              "Columns: [Name, Genres, Summary, Author, Published, PageNum]\n",
              "Index: []"
            ],
            "text/html": [
              "\n",
              "  <div id=\"df-59ff1d68-e735-45e0-8848-45a93c472a19\">\n",
              "    <div class=\"colab-df-container\">\n",
              "      <div>\n",
              "<style scoped>\n",
              "    .dataframe tbody tr th:only-of-type {\n",
              "        vertical-align: middle;\n",
              "    }\n",
              "\n",
              "    .dataframe tbody tr th {\n",
              "        vertical-align: top;\n",
              "    }\n",
              "\n",
              "    .dataframe thead th {\n",
              "        text-align: right;\n",
              "    }\n",
              "</style>\n",
              "<table border=\"1\" class=\"dataframe\">\n",
              "  <thead>\n",
              "    <tr style=\"text-align: right;\">\n",
              "      <th></th>\n",
              "      <th>Name</th>\n",
              "      <th>Genres</th>\n",
              "      <th>Summary</th>\n",
              "      <th>Author</th>\n",
              "      <th>Published</th>\n",
              "      <th>PageNum</th>\n",
              "    </tr>\n",
              "  </thead>\n",
              "  <tbody>\n",
              "  </tbody>\n",
              "</table>\n",
              "</div>\n",
              "      <button class=\"colab-df-convert\" onclick=\"convertToInteractive('df-59ff1d68-e735-45e0-8848-45a93c472a19')\"\n",
              "              title=\"Convert this dataframe to an interactive table.\"\n",
              "              style=\"display:none;\">\n",
              "        \n",
              "  <svg xmlns=\"http://www.w3.org/2000/svg\" height=\"24px\"viewBox=\"0 0 24 24\"\n",
              "       width=\"24px\">\n",
              "    <path d=\"M0 0h24v24H0V0z\" fill=\"none\"/>\n",
              "    <path d=\"M18.56 5.44l.94 2.06.94-2.06 2.06-.94-2.06-.94-.94-2.06-.94 2.06-2.06.94zm-11 1L8.5 8.5l.94-2.06 2.06-.94-2.06-.94L8.5 2.5l-.94 2.06-2.06.94zm10 10l.94 2.06.94-2.06 2.06-.94-2.06-.94-.94-2.06-.94 2.06-2.06.94z\"/><path d=\"M17.41 7.96l-1.37-1.37c-.4-.4-.92-.59-1.43-.59-.52 0-1.04.2-1.43.59L10.3 9.45l-7.72 7.72c-.78.78-.78 2.05 0 2.83L4 21.41c.39.39.9.59 1.41.59.51 0 1.02-.2 1.41-.59l7.78-7.78 2.81-2.81c.8-.78.8-2.07 0-2.86zM5.41 20L4 18.59l7.72-7.72 1.47 1.35L5.41 20z\"/>\n",
              "  </svg>\n",
              "      </button>\n",
              "      \n",
              "  <style>\n",
              "    .colab-df-container {\n",
              "      display:flex;\n",
              "      flex-wrap:wrap;\n",
              "      gap: 12px;\n",
              "    }\n",
              "\n",
              "    .colab-df-convert {\n",
              "      background-color: #E8F0FE;\n",
              "      border: none;\n",
              "      border-radius: 50%;\n",
              "      cursor: pointer;\n",
              "      display: none;\n",
              "      fill: #1967D2;\n",
              "      height: 32px;\n",
              "      padding: 0 0 0 0;\n",
              "      width: 32px;\n",
              "    }\n",
              "\n",
              "    .colab-df-convert:hover {\n",
              "      background-color: #E2EBFA;\n",
              "      box-shadow: 0px 1px 2px rgba(60, 64, 67, 0.3), 0px 1px 3px 1px rgba(60, 64, 67, 0.15);\n",
              "      fill: #174EA6;\n",
              "    }\n",
              "\n",
              "    [theme=dark] .colab-df-convert {\n",
              "      background-color: #3B4455;\n",
              "      fill: #D2E3FC;\n",
              "    }\n",
              "\n",
              "    [theme=dark] .colab-df-convert:hover {\n",
              "      background-color: #434B5C;\n",
              "      box-shadow: 0px 1px 3px 1px rgba(0, 0, 0, 0.15);\n",
              "      filter: drop-shadow(0px 1px 2px rgba(0, 0, 0, 0.3));\n",
              "      fill: #FFFFFF;\n",
              "    }\n",
              "  </style>\n",
              "\n",
              "      <script>\n",
              "        const buttonEl =\n",
              "          document.querySelector('#df-59ff1d68-e735-45e0-8848-45a93c472a19 button.colab-df-convert');\n",
              "        buttonEl.style.display =\n",
              "          google.colab.kernel.accessAllowed ? 'block' : 'none';\n",
              "\n",
              "        async function convertToInteractive(key) {\n",
              "          const element = document.querySelector('#df-59ff1d68-e735-45e0-8848-45a93c472a19');\n",
              "          const dataTable =\n",
              "            await google.colab.kernel.invokeFunction('convertToInteractive',\n",
              "                                                     [key], {});\n",
              "          if (!dataTable) return;\n",
              "\n",
              "          const docLinkHtml = 'Like what you see? Visit the ' +\n",
              "            '<a target=\"_blank\" href=https://colab.research.google.com/notebooks/data_table.ipynb>data table notebook</a>'\n",
              "            + ' to learn more about interactive tables.';\n",
              "          element.innerHTML = '';\n",
              "          dataTable['output_type'] = 'display_data';\n",
              "          await google.colab.output.renderOutput(dataTable, element);\n",
              "          const docLink = document.createElement('div');\n",
              "          docLink.innerHTML = docLinkHtml;\n",
              "          element.appendChild(docLink);\n",
              "        }\n",
              "      </script>\n",
              "    </div>\n",
              "  </div>\n",
              "  "
            ]
          },
          "metadata": {},
          "execution_count": 14
        }
      ],
      "source": [
        "df.loc[df['Summary'].str.contains(\",\", case=False)]\n",
        "# output is empty dataframe. Hence, Summary is clean of punctuations."
      ]
    },
    {
      "cell_type": "code",
      "execution_count": 15,
      "id": "42c488ca",
      "metadata": {
        "colab": {
          "base_uri": "https://localhost:8080/"
        },
        "id": "42c488ca",
        "outputId": "d874d8b1-a9ee-47ab-9811-e528e8a3fc8e"
      },
      "outputs": [
        {
          "output_type": "execute_result",
          "data": {
            "text/plain": [
              "0        monday’s crosswords do with easetuesday’s cros...\n",
              "1        two of literary comics modern masters present ...\n",
              "2        eleven-year-old cornelia is the daughter of tw...\n",
              "3        during the english age of reason  a woman cloi...\n",
              "4        a modern-day retelling of the strange case of ...\n",
              "                               ...                        \n",
              "77104    an unforgettable fresco of a golden age in fou...\n",
              "77105    fears  anxieties  traumas  and physical and em...\n",
              "77106    in knockout  suzanne somers interviews doctors...\n",
              "77107    “the government in the past created one americ...\n",
              "77108    an indispensable guide for all parents and car...\n",
              "Name: Summary, Length: 77109, dtype: object"
            ]
          },
          "metadata": {},
          "execution_count": 15
        }
      ],
      "source": [
        "df[\"Summary\"]"
      ]
    },
    {
      "cell_type": "code",
      "execution_count": 16,
      "id": "c977826d",
      "metadata": {
        "id": "c977826d"
      },
      "outputs": [],
      "source": [
        "def keepAlpha(sentence):\n",
        "    alpha_sent = \"\"\n",
        "    for word in sentence.split():\n",
        "        alpha_word = re.sub('[^a-z A-Z]+', ' ', word)\n",
        "        alpha_sent += alpha_word\n",
        "        alpha_sent += \" \"\n",
        "    alpha_sent = alpha_sent.strip()\n",
        "    return alpha_sent"
      ]
    },
    {
      "cell_type": "code",
      "execution_count": 17,
      "id": "2ce3e31b",
      "metadata": {
        "id": "2ce3e31b"
      },
      "outputs": [],
      "source": [
        "data['Summary'] = data['Summary'].apply(keepAlpha)"
      ]
    },
    {
      "cell_type": "code",
      "execution_count": 18,
      "id": "dbcfac46",
      "metadata": {
        "colab": {
          "base_uri": "https://localhost:8080/",
          "height": 49
        },
        "id": "dbcfac46",
        "outputId": "f42baee6-53be-467e-ad9a-455d1b4a2db7"
      },
      "outputs": [
        {
          "output_type": "execute_result",
          "data": {
            "text/plain": [
              "Empty DataFrame\n",
              "Columns: [Name, Genres, Summary, Author, Published, PageNum]\n",
              "Index: []"
            ],
            "text/html": [
              "\n",
              "  <div id=\"df-1d6ee4f9-093c-4342-ab0b-b805993bfaf8\">\n",
              "    <div class=\"colab-df-container\">\n",
              "      <div>\n",
              "<style scoped>\n",
              "    .dataframe tbody tr th:only-of-type {\n",
              "        vertical-align: middle;\n",
              "    }\n",
              "\n",
              "    .dataframe tbody tr th {\n",
              "        vertical-align: top;\n",
              "    }\n",
              "\n",
              "    .dataframe thead th {\n",
              "        text-align: right;\n",
              "    }\n",
              "</style>\n",
              "<table border=\"1\" class=\"dataframe\">\n",
              "  <thead>\n",
              "    <tr style=\"text-align: right;\">\n",
              "      <th></th>\n",
              "      <th>Name</th>\n",
              "      <th>Genres</th>\n",
              "      <th>Summary</th>\n",
              "      <th>Author</th>\n",
              "      <th>Published</th>\n",
              "      <th>PageNum</th>\n",
              "    </tr>\n",
              "  </thead>\n",
              "  <tbody>\n",
              "  </tbody>\n",
              "</table>\n",
              "</div>\n",
              "      <button class=\"colab-df-convert\" onclick=\"convertToInteractive('df-1d6ee4f9-093c-4342-ab0b-b805993bfaf8')\"\n",
              "              title=\"Convert this dataframe to an interactive table.\"\n",
              "              style=\"display:none;\">\n",
              "        \n",
              "  <svg xmlns=\"http://www.w3.org/2000/svg\" height=\"24px\"viewBox=\"0 0 24 24\"\n",
              "       width=\"24px\">\n",
              "    <path d=\"M0 0h24v24H0V0z\" fill=\"none\"/>\n",
              "    <path d=\"M18.56 5.44l.94 2.06.94-2.06 2.06-.94-2.06-.94-.94-2.06-.94 2.06-2.06.94zm-11 1L8.5 8.5l.94-2.06 2.06-.94-2.06-.94L8.5 2.5l-.94 2.06-2.06.94zm10 10l.94 2.06.94-2.06 2.06-.94-2.06-.94-.94-2.06-.94 2.06-2.06.94z\"/><path d=\"M17.41 7.96l-1.37-1.37c-.4-.4-.92-.59-1.43-.59-.52 0-1.04.2-1.43.59L10.3 9.45l-7.72 7.72c-.78.78-.78 2.05 0 2.83L4 21.41c.39.39.9.59 1.41.59.51 0 1.02-.2 1.41-.59l7.78-7.78 2.81-2.81c.8-.78.8-2.07 0-2.86zM5.41 20L4 18.59l7.72-7.72 1.47 1.35L5.41 20z\"/>\n",
              "  </svg>\n",
              "      </button>\n",
              "      \n",
              "  <style>\n",
              "    .colab-df-container {\n",
              "      display:flex;\n",
              "      flex-wrap:wrap;\n",
              "      gap: 12px;\n",
              "    }\n",
              "\n",
              "    .colab-df-convert {\n",
              "      background-color: #E8F0FE;\n",
              "      border: none;\n",
              "      border-radius: 50%;\n",
              "      cursor: pointer;\n",
              "      display: none;\n",
              "      fill: #1967D2;\n",
              "      height: 32px;\n",
              "      padding: 0 0 0 0;\n",
              "      width: 32px;\n",
              "    }\n",
              "\n",
              "    .colab-df-convert:hover {\n",
              "      background-color: #E2EBFA;\n",
              "      box-shadow: 0px 1px 2px rgba(60, 64, 67, 0.3), 0px 1px 3px 1px rgba(60, 64, 67, 0.15);\n",
              "      fill: #174EA6;\n",
              "    }\n",
              "\n",
              "    [theme=dark] .colab-df-convert {\n",
              "      background-color: #3B4455;\n",
              "      fill: #D2E3FC;\n",
              "    }\n",
              "\n",
              "    [theme=dark] .colab-df-convert:hover {\n",
              "      background-color: #434B5C;\n",
              "      box-shadow: 0px 1px 3px 1px rgba(0, 0, 0, 0.15);\n",
              "      filter: drop-shadow(0px 1px 2px rgba(0, 0, 0, 0.3));\n",
              "      fill: #FFFFFF;\n",
              "    }\n",
              "  </style>\n",
              "\n",
              "      <script>\n",
              "        const buttonEl =\n",
              "          document.querySelector('#df-1d6ee4f9-093c-4342-ab0b-b805993bfaf8 button.colab-df-convert');\n",
              "        buttonEl.style.display =\n",
              "          google.colab.kernel.accessAllowed ? 'block' : 'none';\n",
              "\n",
              "        async function convertToInteractive(key) {\n",
              "          const element = document.querySelector('#df-1d6ee4f9-093c-4342-ab0b-b805993bfaf8');\n",
              "          const dataTable =\n",
              "            await google.colab.kernel.invokeFunction('convertToInteractive',\n",
              "                                                     [key], {});\n",
              "          if (!dataTable) return;\n",
              "\n",
              "          const docLinkHtml = 'Like what you see? Visit the ' +\n",
              "            '<a target=\"_blank\" href=https://colab.research.google.com/notebooks/data_table.ipynb>data table notebook</a>'\n",
              "            + ' to learn more about interactive tables.';\n",
              "          element.innerHTML = '';\n",
              "          dataTable['output_type'] = 'display_data';\n",
              "          await google.colab.output.renderOutput(dataTable, element);\n",
              "          const docLink = document.createElement('div');\n",
              "          docLink.innerHTML = docLinkHtml;\n",
              "          element.appendChild(docLink);\n",
              "        }\n",
              "      </script>\n",
              "    </div>\n",
              "  </div>\n",
              "  "
            ]
          },
          "metadata": {},
          "execution_count": 18
        }
      ],
      "source": [
        "df.loc[df['Summary'].str.contains(\"_\", case=False)]\n",
        "# output is empty dataframe. Hence, Summary is clean of any special characters such as [, \\, ], ^, _, ` and -.\n",
        "# Hence, summary will only contains alphabetical letters."
      ]
    },
    {
      "cell_type": "code",
      "execution_count": 19,
      "id": "e73fdcb4",
      "metadata": {
        "colab": {
          "base_uri": "https://localhost:8080/"
        },
        "id": "e73fdcb4",
        "outputId": "8c42d09d-4af7-40b4-94ad-6d70194061db"
      },
      "outputs": [
        {
          "output_type": "execute_result",
          "data": {
            "text/plain": [
              "0        monday s crosswords do with easetuesday s cros...\n",
              "1        two of literary comics modern masters present ...\n",
              "2        eleven year old cornelia is the daughter of tw...\n",
              "3        during the english age of reason a woman clois...\n",
              "4        a modern day retelling of the strange case of ...\n",
              "                               ...                        \n",
              "77104    an unforgettable fresco of a golden age in fou...\n",
              "77105    fears anxieties traumas and physical and emoti...\n",
              "77106    in knockout suzanne somers interviews doctors ...\n",
              "77107    the government in the past created one america...\n",
              "77108    an indispensable guide for all parents and car...\n",
              "Name: Summary, Length: 77109, dtype: object"
            ]
          },
          "metadata": {},
          "execution_count": 19
        }
      ],
      "source": [
        "df[\"Summary\"]"
      ]
    },
    {
      "cell_type": "code",
      "execution_count": 22,
      "id": "fed570fc",
      "metadata": {
        "id": "fed570fc"
      },
      "outputs": [],
      "source": [
        "import nltk\n",
        "nltk.data.path.append('../Datasets')\n",
        "#nltk.download('stopwords')\n",
        "stop_words = set(stopwords.words('english'))\n",
        "stop_words.update(['zero','one','two','three','four','five','six','seven','eight','nine','ten','may','also','across','among','beside','however','yet','within'])\n",
        "re_stop_words = re.compile(r\"\\b(\" + \"|\".join(stop_words) + \")\\\\W\", re.I)\n",
        "def removeStopWords(sentence):\n",
        "    global re_stop_words\n",
        "    return re_stop_words.sub(\" \", sentence)"
      ]
    },
    {
      "cell_type": "code",
      "execution_count": 23,
      "id": "2b0b70e0",
      "metadata": {
        "id": "2b0b70e0"
      },
      "outputs": [],
      "source": [
        "data['Summary'] = data['Summary'].apply(removeStopWords)"
      ]
    },
    {
      "cell_type": "code",
      "execution_count": 24,
      "id": "c6d1504e",
      "metadata": {
        "colab": {
          "base_uri": "https://localhost:8080/"
        },
        "id": "c6d1504e",
        "outputId": "a4c9be5c-2907-459e-f122-f7a38b963acd"
      },
      "outputs": [
        {
          "output_type": "execute_result",
          "data": {
            "text/plain": [
              "0        monday  crosswords   easetuesday  crosswords  ...\n",
              "1          literary comics modern masters present  pair...\n",
              "2        eleven year old cornelia   daughter   world fa...\n",
              "3          english age  reason  woman cloistered since ...\n",
              "4         modern day retelling   strange case  dr jekyl...\n",
              "                               ...                        \n",
              "77104     unforgettable fresco   golden age  fourteenth...\n",
              "77105    fears anxieties traumas  physical  emotional s...\n",
              "77106     knockout suzanne somers interviews doctors   ...\n",
              "77107     government   past created  american dream   e...\n",
              "77108     indispensable guide   parents  caretakers  co...\n",
              "Name: Summary, Length: 77109, dtype: object"
            ]
          },
          "metadata": {},
          "execution_count": 24
        }
      ],
      "source": [
        "df[\"Summary\"]\n",
        "# hence stopwords are removed."
      ]
    },
    {
      "cell_type": "code",
      "execution_count": 25,
      "id": "ec1da368",
      "metadata": {
        "id": "ec1da368"
      },
      "outputs": [],
      "source": [
        "stemmer = SnowballStemmer(\"english\")\n",
        "def stemming(sentence):\n",
        "    stemSentence = \"\"\n",
        "    for word in sentence.split():\n",
        "        stem = stemmer.stem(word)\n",
        "        stemSentence += stem\n",
        "        stemSentence += \" \"\n",
        "    stemSentence = stemSentence.strip()\n",
        "    return stemSentence"
      ]
    },
    {
      "cell_type": "code",
      "execution_count": 26,
      "id": "c3b2ab0a",
      "metadata": {
        "id": "c3b2ab0a"
      },
      "outputs": [],
      "source": [
        "data['Summary'] = data['Summary'].apply(stemming)"
      ]
    },
    {
      "cell_type": "code",
      "execution_count": 27,
      "id": "687214de",
      "metadata": {
        "colab": {
          "base_uri": "https://localhost:8080/"
        },
        "id": "687214de",
        "outputId": "068c31d5-a9c5-4893-fe54-79ccb2897b47"
      },
      "outputs": [
        {
          "output_type": "execute_result",
          "data": {
            "text/plain": [
              "0        monday crossword easetuesday crossword breezew...\n",
              "1        literari comic modern master present pair magi...\n",
              "2        eleven year old cornelia daughter world famous...\n",
              "3        english age reason woman cloister sinc birth l...\n",
              "4        modern day retel strang case dr jekyl mr hyde ...\n",
              "                               ...                        \n",
              "77104    unforgett fresco golden age fourteenth centuri...\n",
              "77105    fear anxieti trauma physic emot shock imprint ...\n",
              "77106    knockout suzann somer interview doctor success...\n",
              "77107    govern past creat american dream expens almost...\n",
              "77108    indispens guid parent caretak cover wide rang ...\n",
              "Name: Summary, Length: 77109, dtype: object"
            ]
          },
          "metadata": {},
          "execution_count": 27
        }
      ],
      "source": [
        "df['Summary']\n",
        "# hence stemming is applied."
      ]
    },
    {
      "cell_type": "code",
      "execution_count": 28,
      "id": "35e1c770",
      "metadata": {
        "id": "35e1c770"
      },
      "outputs": [],
      "source": [
        "df1=pd.DataFrame(dataset,columns=['Name','Genres','Summary','Author','Published','PageNum'])"
      ]
    },
    {
      "cell_type": "code",
      "execution_count": 29,
      "id": "e079acf7",
      "metadata": {
        "id": "e079acf7"
      },
      "outputs": [],
      "source": [
        "df1['Summary']=data[\"Summary\"]"
      ]
    },
    {
      "cell_type": "code",
      "execution_count": 30,
      "id": "15e39eeb",
      "metadata": {
        "id": "15e39eeb"
      },
      "outputs": [],
      "source": [
        "Y= df1.drop(labels = ['Name','Summary','Author','Published','PageNum'], axis=1)\n",
        "X= df1.drop(labels = ['Genres'], axis=1)"
      ]
    },
    {
      "cell_type": "code",
      "execution_count": 31,
      "id": "2d60b344",
      "metadata": {
        "id": "2d60b344"
      },
      "outputs": [],
      "source": [
        "# Converting to dictionary\n",
        "t=[]\n",
        "for i in range(len(X)):\n",
        "    d={}\n",
        "    d['Name']=X.Name[i]\n",
        "    d['Summary']=X.Summary[i]\n",
        "    d['Author']=X.Author[i]\n",
        "    #d['Published']=X.Published[i]\n",
        "    #d['PageNum']=X.PageNum[i]\n",
        "    q=(d,Y.Genres[i])\n",
        "    t.append(q)\n"
      ]
    },
    {
      "cell_type": "code",
      "execution_count": 32,
      "id": "789a9681",
      "metadata": {
        "id": "789a9681"
      },
      "outputs": [],
      "source": [
        "n=int(len(X)/3)\n",
        "test_set_feat = t[n:]\n",
        "train_set_feat= t[:(2*n)]"
      ]
    },
    {
      "cell_type": "markdown",
      "source": [
        "## Exploring Naive Bayes Classifier"
      ],
      "metadata": {
        "id": "n8Ql14pNeRKw"
      },
      "id": "n8Ql14pNeRKw"
    },
    {
      "cell_type": "code",
      "source": [
        "nb = nltk.NaiveBayesClassifier.train(train_set_feat)"
      ],
      "metadata": {
        "id": "qBCDzpWie1Ew"
      },
      "id": "qBCDzpWie1Ew",
      "execution_count": 36,
      "outputs": []
    },
    {
      "cell_type": "code",
      "source": [
        "print(nltk.classify.accuracy(nb, test_set_feat))\n",
        "print(type(test_set_feat[0]))"
      ],
      "metadata": {
        "colab": {
          "base_uri": "https://localhost:8080/"
        },
        "id": "pZlMUp4He_d9",
        "outputId": "3df22f0e-f502-4c15-f225-8ddd601ec4ad"
      },
      "id": "pZlMUp4He_d9",
      "execution_count": 37,
      "outputs": [
        {
          "output_type": "stream",
          "name": "stdout",
          "text": [
            "0.718379177527915\n",
            "<class 'tuple'>\n"
          ]
        }
      ]
    },
    {
      "cell_type": "code",
      "source": [
        "d={}\n",
        "d['Summary']=\"In 1941, the first Neumann family member was taken by the Nazis, arrested in German-occupied Czechoslovakia for bathing in a stretch of river forbidden to Jews. He was transported to Auschwitz. Eighteen days later his prisoner number was entered into the morgue book.\\\n",
        "Of thirty-four Neumann family members, twenty-five were murdered by the Nazis. One of the survivors was Hans Neumann, who, to escape the German death net, traveled to Berlin and hid in plain sight under the Gestapo’s eyes. What Hans experienced was so unspeakable that, when he built an industrial empire in Venezuela, he couldn’t bring himself to talk about it. All his daughter Ariana knew was that something terrible had happened.\\\n",
        "When Hans died, he left Ariana a small box filled with letters, diary entries, and other memorabilia. Ten years later Ariana finally summoned the courage to have the letters translated, and she began reading. What she discovered launched her on a worldwide search that would deliver indelible portraits of a family loving, finding meaning, and trying to survive amid the worst that can be imagined.\\\n",
        "When Time Stopped is a detective story and an epic family memoir, spanning nearly ninety years and crossing oceans. Neumann brings each relative to vivid life. In uncovering her father’s story after all these years, she discovers nuance and depth to her own history and liberates poignant and thought-provoking truths about the threads of humanity that connect us all.\"\n",
        "d['Name']=\"When Time Stopped\"\n",
        "d['Author']=\"Ariana Neumann\"\n",
        "\n",
        "print(nb.classify(d))"
      ],
      "metadata": {
        "colab": {
          "base_uri": "https://localhost:8080/"
        },
        "id": "pfpKRBIzfHYR",
        "outputId": "f5667cba-4e55-49d4-a6d6-344802f6756f"
      },
      "id": "pfpKRBIzfHYR",
      "execution_count": 38,
      "outputs": [
        {
          "output_type": "stream",
          "name": "stdout",
          "text": [
            "Children’s Books\n"
          ]
        }
      ]
    },
    {
      "cell_type": "markdown",
      "source": [
        "## Exploring Decision Tree Classifier"
      ],
      "metadata": {
        "id": "gj1Y9uR0fhhB"
      },
      "id": "gj1Y9uR0fhhB"
    },
    {
      "cell_type": "code",
      "source": [
        "decisiontree_classifier = nltk.classify.DecisionTreeClassifier.train(train_set_feat, entropy_cutoff=0, support_cutoff=0)"
      ],
      "metadata": {
        "id": "VteYZD-cfNVj"
      },
      "id": "VteYZD-cfNVj",
      "execution_count": 42,
      "outputs": []
    },
    {
      "cell_type": "code",
      "source": [
        "print(nltk.classify.accuracy(decisiontree_classifier, test_set_feat))\n",
        "print(type(test_set_feat[0]))"
      ],
      "metadata": {
        "colab": {
          "base_uri": "https://localhost:8080/"
        },
        "id": "bfuTOytrgDfJ",
        "outputId": "8ffd61d2-ca27-4788-b722-736c11968b14"
      },
      "id": "bfuTOytrgDfJ",
      "execution_count": 43,
      "outputs": [
        {
          "output_type": "stream",
          "name": "stdout",
          "text": [
            "0.5273897988561647\n",
            "<class 'tuple'>\n"
          ]
        }
      ]
    },
    {
      "cell_type": "code",
      "source": [
        "d={}\n",
        "d['Summary']=\"In 1941, the first Neumann family member was taken by the Nazis, arrested in German-occupied Czechoslovakia for bathing in a stretch of river forbidden to Jews. He was transported to Auschwitz. Eighteen days later his prisoner number was entered into the morgue book.\\\n",
        "Of thirty-four Neumann family members, twenty-five were murdered by the Nazis. One of the survivors was Hans Neumann, who, to escape the German death net, traveled to Berlin and hid in plain sight under the Gestapo’s eyes. What Hans experienced was so unspeakable that, when he built an industrial empire in Venezuela, he couldn’t bring himself to talk about it. All his daughter Ariana knew was that something terrible had happened.\\\n",
        "When Hans died, he left Ariana a small box filled with letters, diary entries, and other memorabilia. Ten years later Ariana finally summoned the courage to have the letters translated, and she began reading. What she discovered launched her on a worldwide search that would deliver indelible portraits of a family loving, finding meaning, and trying to survive amid the worst that can be imagined.\\\n",
        "When Time Stopped is a detective story and an epic family memoir, spanning nearly ninety years and crossing oceans. Neumann brings each relative to vivid life. In uncovering her father’s story after all these years, she discovers nuance and depth to her own history and liberates poignant and thought-provoking truths about the threads of humanity that connect us all.\"\n",
        "d['Name']=\"When Time Stopped\"\n",
        "d['Author']=\"Ariana Neumann\"\n",
        "\n",
        "print(decisiontree_classifier.classify(d))"
      ],
      "metadata": {
        "colab": {
          "base_uri": "https://localhost:8080/"
        },
        "id": "7j8EqJ9VlGyw",
        "outputId": "fac67e61-a5af-4ebd-e88d-7e084c3eecbf"
      },
      "id": "7j8EqJ9VlGyw",
      "execution_count": 44,
      "outputs": [
        {
          "output_type": "stream",
          "name": "stdout",
          "text": [
            "Graphic Novels and Manga\n"
          ]
        }
      ]
    }
  ],
  "metadata": {
    "kernelspec": {
      "display_name": "Python 3 (ipykernel)",
      "language": "python",
      "name": "python3"
    },
    "language_info": {
      "codemirror_mode": {
        "name": "ipython",
        "version": 3
      },
      "file_extension": ".py",
      "mimetype": "text/x-python",
      "name": "python",
      "nbconvert_exporter": "python",
      "pygments_lexer": "ipython3",
      "version": "3.10.8"
    },
    "colab": {
      "provenance": []
    }
  },
  "nbformat": 4,
  "nbformat_minor": 5
}
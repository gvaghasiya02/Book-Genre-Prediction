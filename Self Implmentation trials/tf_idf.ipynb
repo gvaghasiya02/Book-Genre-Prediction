{
  "cells": [
    {
      "cell_type": "code",
      "execution_count": 6,
      "metadata": {
        "id": "ZW2BTg-FqO8X"
      },
      "outputs": [],
      "source": [
        "import nltk\n",
        "#nltk.download(\"punkt\")\n",
        "#nltk.download('averaged_perceptron_tagger')\n",
        "#nltk.download('stopwords')"
      ]
    },
    {
      "cell_type": "code",
      "execution_count": 7,
      "metadata": {
        "colab": {
          "base_uri": "https://localhost:8080/"
        },
        "id": "Iu8SojDdpgJ3",
        "outputId": "1f77b895-1157-4e99-c3fa-8c341357fc55"
      },
      "outputs": [
        {
          "name": "stdout",
          "output_type": "stream",
          "text": [
            "Paragraph: Thank you all so very much. Thank you to the Academy. Thank you to all of you in this room. I have to congratulate the other incredible nominees this year. The Revenant was the product of the tireless efforts of an unbelievable cast and crew. First off, to my brother in this endeavor, Mr. Tom Hardy. Tom, your talent on screen can only be surpassed by your friendship off screen … thank you for creating a transcendent cinematic experience. Thank you to everybody at Fox and New Regency … my entire team. I have to thank everyone from the very onset of my career … To my parents; none of this would be possible without you. And to my friends, I love you dearly; you know who you are. And lastly, I just want to say this: Making The Revenant was about man's relationship to the natural world. A world that we collectively felt in 2015 as the hottest year in recorded history. Our production needed to move to the southern tip of this planet just to be able to find snow. Climate change is real, it is happening right now. It is the most urgent threat facing our entire species, and we need to work collectively together and stop procrastinating. We need to support leaders around the world who do not speak for the big polluters, but who speak for all of humanity, for the indigenous people of the world, for the billions and billions of underprivileged people out there who would be most affected by this. For our children’s children, and for those people out there whose voices have been drowned out by the politics of greed. I thank you all for this amazing award tonight. Let us not take this planet for granted. I do not take tonight for granted. Thank you so very much.\n",
            "['together', 'transcendent', 'team', 'us', 'talent', 'underprivileged', 'want', 'tonight', 'tireless', 'without']\n"
          ]
        }
      ],
      "source": [
        "import re\n",
        "import heapq\n",
        "import math\n",
        "import numpy as np\n",
        "from nltk.corpus import stopwords\n",
        "'''\n",
        "def generate_words(dataset):\n",
        "\twords = []\n",
        "\tfor data in dataset:\n",
        "\t\tfor word in nltk.word_tokenize(data):\n",
        "\t\t\twords.append(word)\n",
        "\treturn words\n",
        "'''\n",
        "def clean_data(dataset):\n",
        "\tfor i in range(len(dataset)):\n",
        "\t    dataset[i] = dataset[i].lower()\n",
        "\t    dataset[i] = re.sub(r'\\W', ' ', dataset[i])\n",
        "\t    dataset[i] = re.sub(r'\\s+', ' ', dataset[i])\n",
        "\t    dataset[i] = re.sub('^\\s+', '', dataset[i])\n",
        "\t    dataset[i] = re.sub(r'\\s$', '', dataset[i])\n",
        "\treturn dataset\n",
        "\n",
        "\n",
        "def create_word_count(words):\n",
        "\tword_count = {}\n",
        "\tfor word in words:\n",
        "\t\tif word in word_count.keys():\n",
        "\t\t\tword_count[word] += 1\n",
        "\t\telse:\n",
        "\t\t\tword_count[word] = 1\n",
        "\treturn word_count\n",
        "\n",
        "def create_idf(dataset, words):\n",
        "\tidf = {}\n",
        "\tfor word in words:\n",
        "\t    t = 0\n",
        "\t    for data in dataset:\n",
        "\t        if word in data:\n",
        "\t            t+=1;\n",
        "\t    idf[word] = np.log((len(dataset)+1)/(t+1))\n",
        "\treturn idf\n",
        "\n",
        "def create_tf(dataset, words):\n",
        "\t'''\n",
        "\ttf = []\n",
        "\tfor i in range(len(dataset)):\n",
        "\t    vector = []\n",
        "\t    w = nltk.word_tokenize(dataset[i])\n",
        "\t    for j in range(len(most_freq_words)):\n",
        "\t        vector.append(w.count(most_freq_words[j]) / len(w))\n",
        "\t    tf.append(vector)\n",
        "\ttf = np.asarray(tf)\n",
        "\treturn tf\n",
        "\t'''\n",
        "\ttf = {}\n",
        "\tfor word in words:\n",
        "\t\tdoc_tf = []\n",
        "\t\tfor data in dataset:\n",
        "\t\t\tfreq = 0\n",
        "\t\t\tfor w in nltk.word_tokenize(data):\n",
        "\t\t\t\tif w == word:\n",
        "\t\t\t\t\tfreq += 1\n",
        "\t\t\tdoc_tf.append(freq/len(nltk.word_tokenize(data)))\n",
        "\t\ttf[word] = doc_tf\n",
        "\treturn tf\n",
        "\n",
        "def create_tfidf(dataset, most_freq_words):\n",
        "\ttf = create_tf(dataset, most_freq_words)\n",
        "\tidf = create_idf(dataset, most_freq_words)\n",
        "\ttfidf = []\n",
        "\tfor word in tf.keys():\n",
        "\t    t = []\n",
        "\t    for value in tf[word]:\n",
        "\t        t.append(idf[word]*value)\n",
        "\t    tfidf.append(t)\n",
        "\ttfidf = np.asarray(tfidf)\n",
        "\ttfidf = np.transpose(tfidf)\n",
        "\treturn tfidf\n",
        "\n",
        "def get_sorted_words(tfidf, words):\n",
        "\ts = {}\n",
        "\tfor i in range(tfidf.shape[0]):\n",
        "\t    for j in range(tfidf.shape[1]):\n",
        "\t        if(tfidf[i][j] != 0):\n",
        "\t            if words[i] in s.keys():\n",
        "\t                s[words[i]] += tfidf[i][j]\n",
        "\t            else:\n",
        "\t                s[words[i]] = tfidf[i][j]\n",
        "\treturn sorted(s.items(), key = lambda kv:(kv[1], kv[0]), reverse=True)\n",
        "\n",
        "def create_feautures(s):\n",
        "\ti=0\n",
        "\tfeatures=[]\n",
        "\tfor key, value in s:\n",
        "\t    features.append(key)\n",
        "\t    i+=1\n",
        "\t    if i == 10:\n",
        "\t        break\n",
        "\treturn features\n",
        "\n",
        "def generate_features(paragraph):\n",
        "\t#generate NNPs\n",
        "\tdataset = nltk.sent_tokenize(paragraph)\n",
        "\twords = [word for data in dataset for word in nltk.word_tokenize(data)]\n",
        "\tnnp_words = [item[0].lower() for item in nltk.pos_tag(words) if item[1] == 'NNP']\n",
        "\n",
        "\tdataset = clean_data(dataset)\n",
        "\twords = [word for data in dataset for word in nltk.word_tokenize(data)]\n",
        "\n",
        "\t#remove stop words and NNPs\n",
        "\tstop_words = stopwords.words('english')\n",
        "\twords = [word for word in words if word not in stop_words and word not in nnp_words]\n",
        "\n",
        "\tword_count = create_word_count(words)\n",
        "\tmost_freq_words = heapq.nlargest(math.ceil(len(word_count.keys())*0.5), word_count)\n",
        "\t\n",
        "\ttfidf = create_tfidf(dataset, most_freq_words)\n",
        "\ts = get_sorted_words(tfidf, most_freq_words)\n",
        "\tfeatures = s[:10]\n",
        "\treturn [item[0] for item in features]\n",
        "\n",
        "if __name__ == '__main__':\n",
        "\tparagraph = input(\"Paragraph: \")\n",
        "\tfeatures = generate_features(paragraph)\n",
        "\tprint(features)"
      ]
    },
    {
      "cell_type": "code",
      "execution_count": null,
      "metadata": {
        "id": "1xk4AgX7pld5"
      },
      "outputs": [],
      "source": []
    }
  ],
  "metadata": {
    "colab": {
      "provenance": []
    },
    "kernelspec": {
      "display_name": "Python 3",
      "name": "python3"
    },
    "language_info": {
      "name": "python"
    }
  },
  "nbformat": 4,
  "nbformat_minor": 0
}

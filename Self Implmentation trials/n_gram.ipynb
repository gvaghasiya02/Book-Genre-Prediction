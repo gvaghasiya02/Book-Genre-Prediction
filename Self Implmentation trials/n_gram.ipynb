{
  "nbformat": 4,
  "nbformat_minor": 0,
  "metadata": {
    "colab": {
      "provenance": []
    },
    "kernelspec": {
      "name": "python3",
      "display_name": "Python 3"
    },
    "language_info": {
      "name": "python"
    }
  },
  "cells": [
    {
      "cell_type": "code",
      "execution_count": 1,
      "metadata": {
        "colab": {
          "base_uri": "https://localhost:8080/"
        },
        "id": "CSyzkMZipHFk",
        "outputId": "97ece3df-3f65-4d54-e9e7-5a3a889e72dc"
      },
      "outputs": [
        {
          "output_type": "stream",
          "name": "stdout",
          "text": [
            "n: 3\n",
            "Thank you to all for that we need our product off scredible world, for the Revenant togethe indigents; now. Climatinatinatics of threat for green drowned out you all of human's real, it is planet facineed. The the Regency … Tom, you are. The is people to this planet just your ent was this this reless effor creen … Tom thistory. Our friends, and we chank you for this planet just only brother all sout yearly; your take to move the othe very much. Tom Hard the Acaderprivileged to every much. The would been can ons are. And to evenant want thank you to thank you ind New Regentire species, I have tip of this planet for ther … my ents; not the who world be surpassed people out man's reless ents; not tonight facinees have you increen drowned the most and last yearly; you dear in reating awardy. Thank you so veryone of und New Regentire threal, it in the world who would by to every much. Thank evenant only to surpassed to most you. And this effor gratulatinatulate tonight for and fort leademy. Tom the productions of the who say tonight for creen drowned out year. Tom, you all off screw. I love you all of you to the big politic experiendeavor, Mr. Thank you. And be most urgentireless ents; not species, I happening right. Let of you for the billionship to would to supports of human's recorded by thange is people othe be pollectively to my entire world who world we natic experiency … this year in the billion screed out by your friends, I love you to most year. The big possible world. It is work colluters amazing Thank you ind be able need people team. It in the billions about the Regenous nominees the is world who you all of thern tip to my ent to the hottes\n",
            "\n",
            "Thank you all so very much. Thank you to the Academy. Thank you to all of you in this room. I have to congratulate the other incredible nominees this year. The Revenant was the product of the tireless efforts of an unbelievable cast and crew. First off, to my brother in this endeavor, Mr. Tom Hardy. Tom, your talent on screen can only be surpassed by your friendship off screen … thank you for creating a transcendent cinematic experience. Thank you to the at Fox and New Regency … my entire team. I have to thank everyone from the very onset of my career … To my parents; none of this would be possible without you. And to my friends, I love you dearly; you know who you are. And lastly, I just want to say this: Making The Revenant was the man's relationship to the natural world. A world that we collectively felt in 2015 as the hottest year in recorded history. Our production needed to move to the southern tip of this planet just to be able to find snow. Climate change is real, it is happening right now. It is the most urgent threat facing our entire species, and we need to work collectively together and stop procrastinating. We need to support leaders around the world who do not speak for the big polluters, but who speak for all of humanity, for the indigenous people of the world, for the billions and billions of underprivileged people out there whose would be most affected by this. For our children’s children, and for those people out there whose voices have been drowned out by the politics of greed. I thank you all for this amazing award tonight. Let us not take this planet for granted. I do not take tonight for granted. Thank you so very much.\n"
          ]
        }
      ],
      "source": [
        "import random\n",
        "\n",
        "paragraph = \"\"\"Thank you all so very much. Thank you to the Academy. Thank you to all of you in this room. I have to congratulate the other incredible nominees this year. The Revenant was the product of the tireless efforts of an unbelievable cast and crew. First off, to my brother in this endeavor, Mr. Tom Hardy. Tom, your talent on screen can only be surpassed by your friendship off screen … thank you for creating a transcendent cinematic experience. Thank you to everybody at Fox and New Regency … my entire team. I have to thank everyone from the very onset of my career … To my parents; none of this would be possible without you. And to my friends, I love you dearly; you know who you are. And lastly, I just want to say this: Making The Revenant was about man's relationship to the natural world. A world that we collectively felt in 2015 as the hottest year in recorded history. Our production needed to move to the southern tip of this planet just to be able to find snow. Climate change is real, it is happening right now. It is the most urgent threat facing our entire species, and we need to work collectively together and stop procrastinating. We need to support leaders around the world who do not speak for the big polluters, but who speak for all of humanity, for the indigenous people of the world, for the billions and billions of underprivileged people out there who would be most affected by this. For our children’s children, and for those people out there whose voices have been drowned out by the politics of greed. I thank you all for this amazing award tonight. Let us not take this planet for granted. I do not take tonight for granted. Thank you so very much.\"\"\"\n",
        "words = paragraph.split()\n",
        "\n",
        "def create_ngram_letters(n):\n",
        "\tn_gram = {}\n",
        "\tfor i in range(len(paragraph) - n):\n",
        "\t    if paragraph[i:i+n] not in n_gram.keys():\n",
        "\t        n_gram[paragraph[i:i+n]] = [paragraph[i+n]]\n",
        "\t    else:\n",
        "\t        n_gram[paragraph[i:i+n]].append(paragraph[i+n])\n",
        "\treturn n_gram\n",
        "\n",
        "def auto_complete_letters(n, n_gram, init = []):\n",
        "\tif len(init) < n:\n",
        "\t\tinit = list(paragraph[:n])\n",
        "\tfor i in range(n, len(paragraph)):\n",
        "\t    current_gram = ''.join(init[i-n:i])\n",
        "\t    if current_gram not in n_gram:\n",
        "\t        break\n",
        "\t    init.append(n_gram[current_gram][random.randrange(len(n_gram[current_gram]))])\n",
        "\treturn(''.join(init))\n",
        "\n",
        "def create_ngram_words(n):\n",
        "\tn_gram = {}\n",
        "\tfor i in range(len(words) - n):\n",
        "\t    current_gram = ' '.join(words[i:i+n])\n",
        "\t    if current_gram not in n_gram.keys():\n",
        "\t        n_gram[current_gram] = [words[i+n]]\n",
        "\t    else:\n",
        "\t        n_gram[current_gram].append(words[i+n])\n",
        "\treturn n_gram\n",
        "\n",
        "def auto_complete_words(n, n_gram, init = []):\n",
        "\tif len(init) < n:\n",
        "\t\tinit = [' '.join(words[:n])]\n",
        "\tfor i in range(n, len(words)):\n",
        "\t    current_gram = ' '.join(words[i-n:i])\n",
        "\t    if current_gram not in n_gram:\n",
        "\t        break\n",
        "\t    init.append(n_gram[current_gram][random.randrange(len(n_gram[current_gram]))])\n",
        "\treturn ' '.join(init)\n",
        "\n",
        "if __name__ == '__main__':\n",
        "\tn = int(input(\"n: \"))\n",
        "\tn_gram_letters = create_ngram_letters(n)\n",
        "\tprint(auto_complete_letters(n, n_gram_letters))\n",
        "\tprint()\n",
        "\tn_gram_words = create_ngram_words(n)\n",
        "\tprint(auto_complete_words(n, n_gram_words))"
      ]
    },
    {
      "cell_type": "code",
      "source": [],
      "metadata": {
        "id": "Fye1YzOkpOxk"
      },
      "execution_count": null,
      "outputs": []
    }
  ]
}